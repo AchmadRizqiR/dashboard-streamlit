{
 "cells": [
  {
   "cell_type": "markdown",
   "metadata": {
    "id": "WWttznT0ZhzV"
   },
   "source": [
    "# Proyek Analisis Data: E-Commerce\n",
    "- Kelompok : 5\n",
    "- Anggota : </br>\n",
    "10123187 - Achmad Rizqi Ramadhan</br>\n",
    "10123184 - Muhammad Reza Pahlevi</br>\n",
    "10123176 - Naufal Rafi</br>\n",
    "10123191 - Faris Drajat M.</br>\n",
    "10123174 - Bastian Van Crush</br>\n",
    "10123207 - Dani Andi Hendriansyah</br>"
   ]
  },
  {
   "cell_type": "markdown",
   "metadata": {
    "id": "F-f303ymZhzo"
   },
   "source": [
    "## Menentukan Pertanyaan Bisnis"
   ]
  },
  {
   "cell_type": "markdown",
   "metadata": {
    "id": "2RErdaI4Zhzr"
   },
   "source": [
    "- pertanyaan 1 : <br>\n",
    "Bagaimana distribusi geografis pelanggan berdasarkan negara bagian dan kota di dunia? Dimanakah tingkat konsentrasi tertinggi pelanggan berada? - 10123187 - Achmad Rizqi Ramadhan\n",
    "\n",
    "- Pertanyaan 2 : <br>\n",
    "Bagaimana tren rata-rata harga produk per bulan? Apakah ada pola kenaikan atau penurunan harga dalam periode tertentu? - 10123207 - Dani Andi Hendriansyah\n",
    "\n",
    "- Pertanyaan 3 : <br>\n",
    "Bagaimana distribusi score ulasan pelanggan, dan apa yang dapat disimpulkan tentang tingkat kepuasan keseluruhan? - 10123191 - Faris Drajat M.\n",
    "\n",
    "- Pertanyaan 4 : <br>\n",
    "Bagaimana distribusi Status Pesanan, berapa persentase order dengan status delivered ? - 10123184 - M. Reza Pahlevi\n",
    "\n",
    "- Pertanyaan 5 : <br>\n",
    "Pelanggan mana yang melakukan pembelian berulang, dan apakah pola ini menunjukkan loyalitas pelanggan di negara bagian tertentu ? - 10123174 - Bastian Van Crush\n",
    "\n",
    "- Pertanyaan 6 : <br>\n",
    "Berapa proporsi ulasan positif, negatif, dan netral dari total ulasan? - 10123176 - Naufal Rafi"
   ]
  },
  {
   "cell_type": "markdown",
   "metadata": {
    "id": "QGQRuwDJZhzw"
   },
   "source": [
    "## Menyiapkan semua library yang dibuthkan"
   ]
  },
  {
   "cell_type": "code",
   "execution_count": 43,
   "metadata": {
    "executionInfo": {
     "elapsed": 613,
     "status": "ok",
     "timestamp": 1732692105342,
     "user": {
      "displayName": "ACHMAD RIZQI RAMADHAN",
      "userId": "11285369809196046296"
     },
     "user_tz": -420
    },
    "id": "ULgrY5VEZhzy"
   },
   "outputs": [],
   "source": [
    "import pandas as pd\n",
    "import matplotlib.pyplot as plt\n",
    "import seaborn as sns\n",
    "import matplotlib.patches as mpatches\n",
    "import folium\n",
    "from folium.plugins import HeatMap\n",
    "import numpy as np"
   ]
  },
  {
   "cell_type": "markdown",
   "metadata": {
    "id": "YLiIgIWbZhz1"
   },
   "source": [
    "## Data Wrangling"
   ]
  },
  {
   "cell_type": "markdown",
   "metadata": {
    "id": "yVWqMrDrZhz3"
   },
   "source": [
    "### Gathering Data"
   ]
  },
  {
   "cell_type": "markdown",
   "metadata": {
    "id": "wYmTrOgRn14V"
   },
   "source": [
    "#### Data Geolokasi"
   ]
  },
  {
   "cell_type": "code",
   "execution_count": 3,
   "metadata": {
    "colab": {
     "base_uri": "https://localhost:8080/",
     "height": 206
    },
    "executionInfo": {
     "elapsed": 1322,
     "status": "ok",
     "timestamp": 1732692109004,
     "user": {
      "displayName": "ACHMAD RIZQI RAMADHAN",
      "userId": "11285369809196046296"
     },
     "user_tz": -420
    },
    "id": "0UyAork7Zhz7",
    "outputId": "44492ca2-53e8-4973-8a78-dd726448785a"
   },
   "outputs": [
    {
     "data": {
      "text/html": [
       "<div>\n",
       "<style scoped>\n",
       "    .dataframe tbody tr th:only-of-type {\n",
       "        vertical-align: middle;\n",
       "    }\n",
       "\n",
       "    .dataframe tbody tr th {\n",
       "        vertical-align: top;\n",
       "    }\n",
       "\n",
       "    .dataframe thead th {\n",
       "        text-align: right;\n",
       "    }\n",
       "</style>\n",
       "<table border=\"1\" class=\"dataframe\">\n",
       "  <thead>\n",
       "    <tr style=\"text-align: right;\">\n",
       "      <th></th>\n",
       "      <th>geolocation_zip_code_prefix</th>\n",
       "      <th>geolocation_lat</th>\n",
       "      <th>geolocation_lng</th>\n",
       "      <th>geolocation_city</th>\n",
       "      <th>geolocation_state</th>\n",
       "    </tr>\n",
       "  </thead>\n",
       "  <tbody>\n",
       "    <tr>\n",
       "      <th>0</th>\n",
       "      <td>1037</td>\n",
       "      <td>-23.545621</td>\n",
       "      <td>-46.639292</td>\n",
       "      <td>sao paulo</td>\n",
       "      <td>SP</td>\n",
       "    </tr>\n",
       "    <tr>\n",
       "      <th>1</th>\n",
       "      <td>1046</td>\n",
       "      <td>-23.546081</td>\n",
       "      <td>-46.644820</td>\n",
       "      <td>sao paulo</td>\n",
       "      <td>SP</td>\n",
       "    </tr>\n",
       "    <tr>\n",
       "      <th>2</th>\n",
       "      <td>1046</td>\n",
       "      <td>-23.546129</td>\n",
       "      <td>-46.642951</td>\n",
       "      <td>sao paulo</td>\n",
       "      <td>SP</td>\n",
       "    </tr>\n",
       "    <tr>\n",
       "      <th>3</th>\n",
       "      <td>1041</td>\n",
       "      <td>-23.544392</td>\n",
       "      <td>-46.639499</td>\n",
       "      <td>sao paulo</td>\n",
       "      <td>SP</td>\n",
       "    </tr>\n",
       "    <tr>\n",
       "      <th>4</th>\n",
       "      <td>1035</td>\n",
       "      <td>-23.541578</td>\n",
       "      <td>-46.641607</td>\n",
       "      <td>sao paulo</td>\n",
       "      <td>SP</td>\n",
       "    </tr>\n",
       "  </tbody>\n",
       "</table>\n",
       "</div>"
      ],
      "text/plain": [
       "   geolocation_zip_code_prefix  geolocation_lat  geolocation_lng  \\\n",
       "0                         1037       -23.545621       -46.639292   \n",
       "1                         1046       -23.546081       -46.644820   \n",
       "2                         1046       -23.546129       -46.642951   \n",
       "3                         1041       -23.544392       -46.639499   \n",
       "4                         1035       -23.541578       -46.641607   \n",
       "\n",
       "  geolocation_city geolocation_state  \n",
       "0        sao paulo                SP  \n",
       "1        sao paulo                SP  \n",
       "2        sao paulo                SP  \n",
       "3        sao paulo                SP  \n",
       "4        sao paulo                SP  "
      ]
     },
     "execution_count": 3,
     "metadata": {},
     "output_type": "execute_result"
    }
   ],
   "source": [
    "df_geolokasi = pd.read_csv('DataSets/geolocation_dataset.csv')\n",
    "df_geolokasi.head()"
   ]
  },
  {
   "cell_type": "code",
   "execution_count": 4,
   "metadata": {
    "colab": {
     "base_uri": "https://localhost:8080/",
     "height": 206
    },
    "executionInfo": {
     "elapsed": 5,
     "status": "ok",
     "timestamp": 1732692109004,
     "user": {
      "displayName": "ACHMAD RIZQI RAMADHAN",
      "userId": "11285369809196046296"
     },
     "user_tz": -420
    },
    "id": "n5vwALXOw8Fo",
    "outputId": "00cfeb21-ef8a-4733-eae0-1780a9831ca1"
   },
   "outputs": [
    {
     "data": {
      "text/html": [
       "<div>\n",
       "<style scoped>\n",
       "    .dataframe tbody tr th:only-of-type {\n",
       "        vertical-align: middle;\n",
       "    }\n",
       "\n",
       "    .dataframe tbody tr th {\n",
       "        vertical-align: top;\n",
       "    }\n",
       "\n",
       "    .dataframe thead th {\n",
       "        text-align: right;\n",
       "    }\n",
       "</style>\n",
       "<table border=\"1\" class=\"dataframe\">\n",
       "  <thead>\n",
       "    <tr style=\"text-align: right;\">\n",
       "      <th></th>\n",
       "      <th>geolocation_zip_code_prefix</th>\n",
       "      <th>geolocation_lat</th>\n",
       "      <th>geolocation_lng</th>\n",
       "      <th>geolocation_city</th>\n",
       "      <th>geolocation_state</th>\n",
       "    </tr>\n",
       "  </thead>\n",
       "  <tbody>\n",
       "    <tr>\n",
       "      <th>1000158</th>\n",
       "      <td>99950</td>\n",
       "      <td>-28.068639</td>\n",
       "      <td>-52.010705</td>\n",
       "      <td>tapejara</td>\n",
       "      <td>RS</td>\n",
       "    </tr>\n",
       "    <tr>\n",
       "      <th>1000159</th>\n",
       "      <td>99900</td>\n",
       "      <td>-27.877125</td>\n",
       "      <td>-52.224882</td>\n",
       "      <td>getulio vargas</td>\n",
       "      <td>RS</td>\n",
       "    </tr>\n",
       "    <tr>\n",
       "      <th>1000160</th>\n",
       "      <td>99950</td>\n",
       "      <td>-28.071855</td>\n",
       "      <td>-52.014716</td>\n",
       "      <td>tapejara</td>\n",
       "      <td>RS</td>\n",
       "    </tr>\n",
       "    <tr>\n",
       "      <th>1000161</th>\n",
       "      <td>99980</td>\n",
       "      <td>-28.388932</td>\n",
       "      <td>-51.846871</td>\n",
       "      <td>david canabarro</td>\n",
       "      <td>RS</td>\n",
       "    </tr>\n",
       "    <tr>\n",
       "      <th>1000162</th>\n",
       "      <td>99950</td>\n",
       "      <td>-28.070104</td>\n",
       "      <td>-52.018658</td>\n",
       "      <td>tapejara</td>\n",
       "      <td>RS</td>\n",
       "    </tr>\n",
       "  </tbody>\n",
       "</table>\n",
       "</div>"
      ],
      "text/plain": [
       "         geolocation_zip_code_prefix  geolocation_lat  geolocation_lng  \\\n",
       "1000158                        99950       -28.068639       -52.010705   \n",
       "1000159                        99900       -27.877125       -52.224882   \n",
       "1000160                        99950       -28.071855       -52.014716   \n",
       "1000161                        99980       -28.388932       -51.846871   \n",
       "1000162                        99950       -28.070104       -52.018658   \n",
       "\n",
       "        geolocation_city geolocation_state  \n",
       "1000158         tapejara                RS  \n",
       "1000159   getulio vargas                RS  \n",
       "1000160         tapejara                RS  \n",
       "1000161  david canabarro                RS  \n",
       "1000162         tapejara                RS  "
      ]
     },
     "execution_count": 4,
     "metadata": {},
     "output_type": "execute_result"
    }
   ],
   "source": [
    "df_geolokasi.tail()"
   ]
  },
  {
   "cell_type": "markdown",
   "metadata": {
    "id": "kILAga9bn5ys"
   },
   "source": [
    "#### Data Customer"
   ]
  },
  {
   "cell_type": "code",
   "execution_count": 5,
   "metadata": {
    "colab": {
     "base_uri": "https://localhost:8080/",
     "height": 206
    },
    "executionInfo": {
     "elapsed": 369,
     "status": "ok",
     "timestamp": 1732692109369,
     "user": {
      "displayName": "ACHMAD RIZQI RAMADHAN",
      "userId": "11285369809196046296"
     },
     "user_tz": -420
    },
    "id": "CIAXr-Uon8ED",
    "outputId": "e3cc37e1-d3f2-4c76-d0cc-76377bdce04e"
   },
   "outputs": [
    {
     "data": {
      "text/html": [
       "<div>\n",
       "<style scoped>\n",
       "    .dataframe tbody tr th:only-of-type {\n",
       "        vertical-align: middle;\n",
       "    }\n",
       "\n",
       "    .dataframe tbody tr th {\n",
       "        vertical-align: top;\n",
       "    }\n",
       "\n",
       "    .dataframe thead th {\n",
       "        text-align: right;\n",
       "    }\n",
       "</style>\n",
       "<table border=\"1\" class=\"dataframe\">\n",
       "  <thead>\n",
       "    <tr style=\"text-align: right;\">\n",
       "      <th></th>\n",
       "      <th>customer_id</th>\n",
       "      <th>customer_unique_id</th>\n",
       "      <th>customer_zip_code_prefix</th>\n",
       "      <th>customer_city</th>\n",
       "      <th>customer_state</th>\n",
       "    </tr>\n",
       "  </thead>\n",
       "  <tbody>\n",
       "    <tr>\n",
       "      <th>0</th>\n",
       "      <td>06b8999e2fba1a1fbc88172c00ba8bc7</td>\n",
       "      <td>861eff4711a542e4b93843c6dd7febb0</td>\n",
       "      <td>14409</td>\n",
       "      <td>franca</td>\n",
       "      <td>SP</td>\n",
       "    </tr>\n",
       "    <tr>\n",
       "      <th>1</th>\n",
       "      <td>18955e83d337fd6b2def6b18a428ac77</td>\n",
       "      <td>290c77bc529b7ac935b93aa66c333dc3</td>\n",
       "      <td>9790</td>\n",
       "      <td>sao bernardo do campo</td>\n",
       "      <td>SP</td>\n",
       "    </tr>\n",
       "    <tr>\n",
       "      <th>2</th>\n",
       "      <td>4e7b3e00288586ebd08712fdd0374a03</td>\n",
       "      <td>060e732b5b29e8181a18229c7b0b2b5e</td>\n",
       "      <td>1151</td>\n",
       "      <td>sao paulo</td>\n",
       "      <td>SP</td>\n",
       "    </tr>\n",
       "    <tr>\n",
       "      <th>3</th>\n",
       "      <td>b2b6027bc5c5109e529d4dc6358b12c3</td>\n",
       "      <td>259dac757896d24d7702b9acbbff3f3c</td>\n",
       "      <td>8775</td>\n",
       "      <td>mogi das cruzes</td>\n",
       "      <td>SP</td>\n",
       "    </tr>\n",
       "    <tr>\n",
       "      <th>4</th>\n",
       "      <td>4f2d8ab171c80ec8364f7c12e35b23ad</td>\n",
       "      <td>345ecd01c38d18a9036ed96c73b8d066</td>\n",
       "      <td>13056</td>\n",
       "      <td>campinas</td>\n",
       "      <td>SP</td>\n",
       "    </tr>\n",
       "  </tbody>\n",
       "</table>\n",
       "</div>"
      ],
      "text/plain": [
       "                        customer_id                customer_unique_id  \\\n",
       "0  06b8999e2fba1a1fbc88172c00ba8bc7  861eff4711a542e4b93843c6dd7febb0   \n",
       "1  18955e83d337fd6b2def6b18a428ac77  290c77bc529b7ac935b93aa66c333dc3   \n",
       "2  4e7b3e00288586ebd08712fdd0374a03  060e732b5b29e8181a18229c7b0b2b5e   \n",
       "3  b2b6027bc5c5109e529d4dc6358b12c3  259dac757896d24d7702b9acbbff3f3c   \n",
       "4  4f2d8ab171c80ec8364f7c12e35b23ad  345ecd01c38d18a9036ed96c73b8d066   \n",
       "\n",
       "   customer_zip_code_prefix          customer_city customer_state  \n",
       "0                     14409                 franca             SP  \n",
       "1                      9790  sao bernardo do campo             SP  \n",
       "2                      1151              sao paulo             SP  \n",
       "3                      8775        mogi das cruzes             SP  \n",
       "4                     13056               campinas             SP  "
      ]
     },
     "execution_count": 5,
     "metadata": {},
     "output_type": "execute_result"
    }
   ],
   "source": [
    "df_customer = pd.read_csv('DataSets/customers_dataset.csv')\n",
    "df_customer.head()"
   ]
  },
  {
   "cell_type": "code",
   "execution_count": 6,
   "metadata": {
    "colab": {
     "base_uri": "https://localhost:8080/",
     "height": 206
    },
    "executionInfo": {
     "elapsed": 8,
     "status": "ok",
     "timestamp": 1732692109370,
     "user": {
      "displayName": "ACHMAD RIZQI RAMADHAN",
      "userId": "11285369809196046296"
     },
     "user_tz": -420
    },
    "id": "DteI9NFFoGED",
    "outputId": "15a4b8de-303e-4a7c-f268-4eb75c518ced"
   },
   "outputs": [
    {
     "data": {
      "text/html": [
       "<div>\n",
       "<style scoped>\n",
       "    .dataframe tbody tr th:only-of-type {\n",
       "        vertical-align: middle;\n",
       "    }\n",
       "\n",
       "    .dataframe tbody tr th {\n",
       "        vertical-align: top;\n",
       "    }\n",
       "\n",
       "    .dataframe thead th {\n",
       "        text-align: right;\n",
       "    }\n",
       "</style>\n",
       "<table border=\"1\" class=\"dataframe\">\n",
       "  <thead>\n",
       "    <tr style=\"text-align: right;\">\n",
       "      <th></th>\n",
       "      <th>customer_id</th>\n",
       "      <th>customer_unique_id</th>\n",
       "      <th>customer_zip_code_prefix</th>\n",
       "      <th>customer_city</th>\n",
       "      <th>customer_state</th>\n",
       "    </tr>\n",
       "  </thead>\n",
       "  <tbody>\n",
       "    <tr>\n",
       "      <th>99436</th>\n",
       "      <td>17ddf5dd5d51696bb3d7c6291687be6f</td>\n",
       "      <td>1a29b476fee25c95fbafc67c5ac95cf8</td>\n",
       "      <td>3937</td>\n",
       "      <td>sao paulo</td>\n",
       "      <td>SP</td>\n",
       "    </tr>\n",
       "    <tr>\n",
       "      <th>99437</th>\n",
       "      <td>e7b71a9017aa05c9a7fd292d714858e8</td>\n",
       "      <td>d52a67c98be1cf6a5c84435bd38d095d</td>\n",
       "      <td>6764</td>\n",
       "      <td>taboao da serra</td>\n",
       "      <td>SP</td>\n",
       "    </tr>\n",
       "    <tr>\n",
       "      <th>99438</th>\n",
       "      <td>5e28dfe12db7fb50a4b2f691faecea5e</td>\n",
       "      <td>e9f50caf99f032f0bf3c55141f019d99</td>\n",
       "      <td>60115</td>\n",
       "      <td>fortaleza</td>\n",
       "      <td>CE</td>\n",
       "    </tr>\n",
       "    <tr>\n",
       "      <th>99439</th>\n",
       "      <td>56b18e2166679b8a959d72dd06da27f9</td>\n",
       "      <td>73c2643a0a458b49f58cea58833b192e</td>\n",
       "      <td>92120</td>\n",
       "      <td>canoas</td>\n",
       "      <td>RS</td>\n",
       "    </tr>\n",
       "    <tr>\n",
       "      <th>99440</th>\n",
       "      <td>274fa6071e5e17fe303b9748641082c8</td>\n",
       "      <td>84732c5050c01db9b23e19ba39899398</td>\n",
       "      <td>6703</td>\n",
       "      <td>cotia</td>\n",
       "      <td>SP</td>\n",
       "    </tr>\n",
       "  </tbody>\n",
       "</table>\n",
       "</div>"
      ],
      "text/plain": [
       "                            customer_id                customer_unique_id  \\\n",
       "99436  17ddf5dd5d51696bb3d7c6291687be6f  1a29b476fee25c95fbafc67c5ac95cf8   \n",
       "99437  e7b71a9017aa05c9a7fd292d714858e8  d52a67c98be1cf6a5c84435bd38d095d   \n",
       "99438  5e28dfe12db7fb50a4b2f691faecea5e  e9f50caf99f032f0bf3c55141f019d99   \n",
       "99439  56b18e2166679b8a959d72dd06da27f9  73c2643a0a458b49f58cea58833b192e   \n",
       "99440  274fa6071e5e17fe303b9748641082c8  84732c5050c01db9b23e19ba39899398   \n",
       "\n",
       "       customer_zip_code_prefix    customer_city customer_state  \n",
       "99436                      3937        sao paulo             SP  \n",
       "99437                      6764  taboao da serra             SP  \n",
       "99438                     60115        fortaleza             CE  \n",
       "99439                     92120           canoas             RS  \n",
       "99440                      6703            cotia             SP  "
      ]
     },
     "execution_count": 6,
     "metadata": {},
     "output_type": "execute_result"
    }
   ],
   "source": [
    "df_customer.tail()"
   ]
  },
  {
   "cell_type": "markdown",
   "metadata": {
    "id": "nUzaw6bRq2DP"
   },
   "source": [
    "#### Data Review"
   ]
  },
  {
   "cell_type": "code",
   "execution_count": 7,
   "metadata": {
    "colab": {
     "base_uri": "https://localhost:8080/",
     "height": 0
    },
    "executionInfo": {
     "elapsed": 1221,
     "status": "ok",
     "timestamp": 1732692110584,
     "user": {
      "displayName": "ACHMAD RIZQI RAMADHAN",
      "userId": "11285369809196046296"
     },
     "user_tz": -420
    },
    "id": "OGQSzv6Xq5Rr",
    "outputId": "bd91594a-cce6-4fcb-b815-4e4445a70b04"
   },
   "outputs": [
    {
     "data": {
      "text/html": [
       "<div>\n",
       "<style scoped>\n",
       "    .dataframe tbody tr th:only-of-type {\n",
       "        vertical-align: middle;\n",
       "    }\n",
       "\n",
       "    .dataframe tbody tr th {\n",
       "        vertical-align: top;\n",
       "    }\n",
       "\n",
       "    .dataframe thead th {\n",
       "        text-align: right;\n",
       "    }\n",
       "</style>\n",
       "<table border=\"1\" class=\"dataframe\">\n",
       "  <thead>\n",
       "    <tr style=\"text-align: right;\">\n",
       "      <th></th>\n",
       "      <th>review_id</th>\n",
       "      <th>order_id</th>\n",
       "      <th>review_score</th>\n",
       "      <th>review_comment_title</th>\n",
       "      <th>review_comment_message</th>\n",
       "      <th>review_creation_date</th>\n",
       "      <th>review_answer_timestamp</th>\n",
       "    </tr>\n",
       "  </thead>\n",
       "  <tbody>\n",
       "    <tr>\n",
       "      <th>0</th>\n",
       "      <td>7bc2406110b926393aa56f80a40eba40</td>\n",
       "      <td>73fc7af87114b39712e6da79b0a377eb</td>\n",
       "      <td>4</td>\n",
       "      <td>NaN</td>\n",
       "      <td>NaN</td>\n",
       "      <td>2018-01-18 00:00:00</td>\n",
       "      <td>2018-01-18 21:46:59</td>\n",
       "    </tr>\n",
       "    <tr>\n",
       "      <th>1</th>\n",
       "      <td>80e641a11e56f04c1ad469d5645fdfde</td>\n",
       "      <td>a548910a1c6147796b98fdf73dbeba33</td>\n",
       "      <td>5</td>\n",
       "      <td>NaN</td>\n",
       "      <td>NaN</td>\n",
       "      <td>2018-03-10 00:00:00</td>\n",
       "      <td>2018-03-11 03:05:13</td>\n",
       "    </tr>\n",
       "    <tr>\n",
       "      <th>2</th>\n",
       "      <td>228ce5500dc1d8e020d8d1322874b6f0</td>\n",
       "      <td>f9e4b658b201a9f2ecdecbb34bed034b</td>\n",
       "      <td>5</td>\n",
       "      <td>NaN</td>\n",
       "      <td>NaN</td>\n",
       "      <td>2018-02-17 00:00:00</td>\n",
       "      <td>2018-02-18 14:36:24</td>\n",
       "    </tr>\n",
       "    <tr>\n",
       "      <th>3</th>\n",
       "      <td>e64fb393e7b32834bb789ff8bb30750e</td>\n",
       "      <td>658677c97b385a9be170737859d3511b</td>\n",
       "      <td>5</td>\n",
       "      <td>NaN</td>\n",
       "      <td>Recebi bem antes do prazo estipulado.</td>\n",
       "      <td>2017-04-21 00:00:00</td>\n",
       "      <td>2017-04-21 22:02:06</td>\n",
       "    </tr>\n",
       "    <tr>\n",
       "      <th>4</th>\n",
       "      <td>f7c4243c7fe1938f181bec41a392bdeb</td>\n",
       "      <td>8e6bfb81e283fa7e4f11123a3fb894f1</td>\n",
       "      <td>5</td>\n",
       "      <td>NaN</td>\n",
       "      <td>Parabéns lojas lannister adorei comprar pela I...</td>\n",
       "      <td>2018-03-01 00:00:00</td>\n",
       "      <td>2018-03-02 10:26:53</td>\n",
       "    </tr>\n",
       "  </tbody>\n",
       "</table>\n",
       "</div>"
      ],
      "text/plain": [
       "                          review_id                          order_id  \\\n",
       "0  7bc2406110b926393aa56f80a40eba40  73fc7af87114b39712e6da79b0a377eb   \n",
       "1  80e641a11e56f04c1ad469d5645fdfde  a548910a1c6147796b98fdf73dbeba33   \n",
       "2  228ce5500dc1d8e020d8d1322874b6f0  f9e4b658b201a9f2ecdecbb34bed034b   \n",
       "3  e64fb393e7b32834bb789ff8bb30750e  658677c97b385a9be170737859d3511b   \n",
       "4  f7c4243c7fe1938f181bec41a392bdeb  8e6bfb81e283fa7e4f11123a3fb894f1   \n",
       "\n",
       "   review_score review_comment_title  \\\n",
       "0             4                  NaN   \n",
       "1             5                  NaN   \n",
       "2             5                  NaN   \n",
       "3             5                  NaN   \n",
       "4             5                  NaN   \n",
       "\n",
       "                              review_comment_message review_creation_date  \\\n",
       "0                                                NaN  2018-01-18 00:00:00   \n",
       "1                                                NaN  2018-03-10 00:00:00   \n",
       "2                                                NaN  2018-02-17 00:00:00   \n",
       "3              Recebi bem antes do prazo estipulado.  2017-04-21 00:00:00   \n",
       "4  Parabéns lojas lannister adorei comprar pela I...  2018-03-01 00:00:00   \n",
       "\n",
       "  review_answer_timestamp  \n",
       "0     2018-01-18 21:46:59  \n",
       "1     2018-03-11 03:05:13  \n",
       "2     2018-02-18 14:36:24  \n",
       "3     2017-04-21 22:02:06  \n",
       "4     2018-03-02 10:26:53  "
      ]
     },
     "execution_count": 7,
     "metadata": {},
     "output_type": "execute_result"
    }
   ],
   "source": [
    "df_review = pd.read_csv('DataSets/order_reviews_dataset.csv')\n",
    "df_review.head()"
   ]
  },
  {
   "cell_type": "code",
   "execution_count": 8,
   "metadata": {
    "colab": {
     "base_uri": "https://localhost:8080/",
     "height": 0
    },
    "executionInfo": {
     "elapsed": 6,
     "status": "ok",
     "timestamp": 1732692110584,
     "user": {
      "displayName": "ACHMAD RIZQI RAMADHAN",
      "userId": "11285369809196046296"
     },
     "user_tz": -420
    },
    "id": "-dQTr9Uzq_CE",
    "outputId": "0a946d6a-d076-43c6-890d-761690192d16"
   },
   "outputs": [
    {
     "data": {
      "text/html": [
       "<div>\n",
       "<style scoped>\n",
       "    .dataframe tbody tr th:only-of-type {\n",
       "        vertical-align: middle;\n",
       "    }\n",
       "\n",
       "    .dataframe tbody tr th {\n",
       "        vertical-align: top;\n",
       "    }\n",
       "\n",
       "    .dataframe thead th {\n",
       "        text-align: right;\n",
       "    }\n",
       "</style>\n",
       "<table border=\"1\" class=\"dataframe\">\n",
       "  <thead>\n",
       "    <tr style=\"text-align: right;\">\n",
       "      <th></th>\n",
       "      <th>review_id</th>\n",
       "      <th>order_id</th>\n",
       "      <th>review_score</th>\n",
       "      <th>review_comment_title</th>\n",
       "      <th>review_comment_message</th>\n",
       "      <th>review_creation_date</th>\n",
       "      <th>review_answer_timestamp</th>\n",
       "    </tr>\n",
       "  </thead>\n",
       "  <tbody>\n",
       "    <tr>\n",
       "      <th>99219</th>\n",
       "      <td>574ed12dd733e5fa530cfd4bbf39d7c9</td>\n",
       "      <td>2a8c23fee101d4d5662fa670396eb8da</td>\n",
       "      <td>5</td>\n",
       "      <td>NaN</td>\n",
       "      <td>NaN</td>\n",
       "      <td>2018-07-07 00:00:00</td>\n",
       "      <td>2018-07-14 17:18:30</td>\n",
       "    </tr>\n",
       "    <tr>\n",
       "      <th>99220</th>\n",
       "      <td>f3897127253a9592a73be9bdfdf4ed7a</td>\n",
       "      <td>22ec9f0669f784db00fa86d035cf8602</td>\n",
       "      <td>5</td>\n",
       "      <td>NaN</td>\n",
       "      <td>NaN</td>\n",
       "      <td>2017-12-09 00:00:00</td>\n",
       "      <td>2017-12-11 20:06:42</td>\n",
       "    </tr>\n",
       "    <tr>\n",
       "      <th>99221</th>\n",
       "      <td>b3de70c89b1510c4cd3d0649fd302472</td>\n",
       "      <td>55d4004744368f5571d1f590031933e4</td>\n",
       "      <td>5</td>\n",
       "      <td>NaN</td>\n",
       "      <td>Excelente mochila, entrega super rápida. Super...</td>\n",
       "      <td>2018-03-22 00:00:00</td>\n",
       "      <td>2018-03-23 09:10:43</td>\n",
       "    </tr>\n",
       "    <tr>\n",
       "      <th>99222</th>\n",
       "      <td>1adeb9d84d72fe4e337617733eb85149</td>\n",
       "      <td>7725825d039fc1f0ceb7635e3f7d9206</td>\n",
       "      <td>4</td>\n",
       "      <td>NaN</td>\n",
       "      <td>NaN</td>\n",
       "      <td>2018-07-01 00:00:00</td>\n",
       "      <td>2018-07-02 12:59:13</td>\n",
       "    </tr>\n",
       "    <tr>\n",
       "      <th>99223</th>\n",
       "      <td>efe49f1d6f951dd88b51e6ccd4cc548f</td>\n",
       "      <td>90531360ecb1eec2a1fbb265a0db0508</td>\n",
       "      <td>1</td>\n",
       "      <td>NaN</td>\n",
       "      <td>meu produto chegou e ja tenho que devolver, po...</td>\n",
       "      <td>2017-07-03 00:00:00</td>\n",
       "      <td>2017-07-03 21:01:49</td>\n",
       "    </tr>\n",
       "  </tbody>\n",
       "</table>\n",
       "</div>"
      ],
      "text/plain": [
       "                              review_id                          order_id  \\\n",
       "99219  574ed12dd733e5fa530cfd4bbf39d7c9  2a8c23fee101d4d5662fa670396eb8da   \n",
       "99220  f3897127253a9592a73be9bdfdf4ed7a  22ec9f0669f784db00fa86d035cf8602   \n",
       "99221  b3de70c89b1510c4cd3d0649fd302472  55d4004744368f5571d1f590031933e4   \n",
       "99222  1adeb9d84d72fe4e337617733eb85149  7725825d039fc1f0ceb7635e3f7d9206   \n",
       "99223  efe49f1d6f951dd88b51e6ccd4cc548f  90531360ecb1eec2a1fbb265a0db0508   \n",
       "\n",
       "       review_score review_comment_title  \\\n",
       "99219             5                  NaN   \n",
       "99220             5                  NaN   \n",
       "99221             5                  NaN   \n",
       "99222             4                  NaN   \n",
       "99223             1                  NaN   \n",
       "\n",
       "                                  review_comment_message review_creation_date  \\\n",
       "99219                                                NaN  2018-07-07 00:00:00   \n",
       "99220                                                NaN  2017-12-09 00:00:00   \n",
       "99221  Excelente mochila, entrega super rápida. Super...  2018-03-22 00:00:00   \n",
       "99222                                                NaN  2018-07-01 00:00:00   \n",
       "99223  meu produto chegou e ja tenho que devolver, po...  2017-07-03 00:00:00   \n",
       "\n",
       "      review_answer_timestamp  \n",
       "99219     2018-07-14 17:18:30  \n",
       "99220     2017-12-11 20:06:42  \n",
       "99221     2018-03-23 09:10:43  \n",
       "99222     2018-07-02 12:59:13  \n",
       "99223     2017-07-03 21:01:49  "
      ]
     },
     "execution_count": 8,
     "metadata": {},
     "output_type": "execute_result"
    }
   ],
   "source": [
    "df_review.tail()"
   ]
  },
  {
   "cell_type": "markdown",
   "metadata": {
    "id": "F3SuNeoXZM_K"
   },
   "source": [
    "#### Data Order"
   ]
  },
  {
   "cell_type": "code",
   "execution_count": 9,
   "metadata": {
    "colab": {
     "base_uri": "https://localhost:8080/",
     "height": 0
    },
    "executionInfo": {
     "elapsed": 1293,
     "status": "ok",
     "timestamp": 1732692111874,
     "user": {
      "displayName": "ACHMAD RIZQI RAMADHAN",
      "userId": "11285369809196046296"
     },
     "user_tz": -420
    },
    "id": "EInr9GzeZJql",
    "outputId": "96e35512-03d3-4ff8-9bea-1075f629375c"
   },
   "outputs": [
    {
     "data": {
      "text/html": [
       "<div>\n",
       "<style scoped>\n",
       "    .dataframe tbody tr th:only-of-type {\n",
       "        vertical-align: middle;\n",
       "    }\n",
       "\n",
       "    .dataframe tbody tr th {\n",
       "        vertical-align: top;\n",
       "    }\n",
       "\n",
       "    .dataframe thead th {\n",
       "        text-align: right;\n",
       "    }\n",
       "</style>\n",
       "<table border=\"1\" class=\"dataframe\">\n",
       "  <thead>\n",
       "    <tr style=\"text-align: right;\">\n",
       "      <th></th>\n",
       "      <th>order_id</th>\n",
       "      <th>customer_id</th>\n",
       "      <th>order_status</th>\n",
       "      <th>order_purchase_timestamp</th>\n",
       "      <th>order_approved_at</th>\n",
       "      <th>order_delivered_carrier_date</th>\n",
       "      <th>order_delivered_customer_date</th>\n",
       "      <th>order_estimated_delivery_date</th>\n",
       "    </tr>\n",
       "  </thead>\n",
       "  <tbody>\n",
       "    <tr>\n",
       "      <th>0</th>\n",
       "      <td>e481f51cbdc54678b7cc49136f2d6af7</td>\n",
       "      <td>9ef432eb6251297304e76186b10a928d</td>\n",
       "      <td>delivered</td>\n",
       "      <td>2017-10-02 10:56:33</td>\n",
       "      <td>2017-10-02 11:07:15</td>\n",
       "      <td>2017-10-04 19:55:00</td>\n",
       "      <td>2017-10-10 21:25:13</td>\n",
       "      <td>2017-10-18 00:00:00</td>\n",
       "    </tr>\n",
       "    <tr>\n",
       "      <th>1</th>\n",
       "      <td>53cdb2fc8bc7dce0b6741e2150273451</td>\n",
       "      <td>b0830fb4747a6c6d20dea0b8c802d7ef</td>\n",
       "      <td>delivered</td>\n",
       "      <td>2018-07-24 20:41:37</td>\n",
       "      <td>2018-07-26 03:24:27</td>\n",
       "      <td>2018-07-26 14:31:00</td>\n",
       "      <td>2018-08-07 15:27:45</td>\n",
       "      <td>2018-08-13 00:00:00</td>\n",
       "    </tr>\n",
       "    <tr>\n",
       "      <th>2</th>\n",
       "      <td>47770eb9100c2d0c44946d9cf07ec65d</td>\n",
       "      <td>41ce2a54c0b03bf3443c3d931a367089</td>\n",
       "      <td>delivered</td>\n",
       "      <td>2018-08-08 08:38:49</td>\n",
       "      <td>2018-08-08 08:55:23</td>\n",
       "      <td>2018-08-08 13:50:00</td>\n",
       "      <td>2018-08-17 18:06:29</td>\n",
       "      <td>2018-09-04 00:00:00</td>\n",
       "    </tr>\n",
       "    <tr>\n",
       "      <th>3</th>\n",
       "      <td>949d5b44dbf5de918fe9c16f97b45f8a</td>\n",
       "      <td>f88197465ea7920adcdbec7375364d82</td>\n",
       "      <td>delivered</td>\n",
       "      <td>2017-11-18 19:28:06</td>\n",
       "      <td>2017-11-18 19:45:59</td>\n",
       "      <td>2017-11-22 13:39:59</td>\n",
       "      <td>2017-12-02 00:28:42</td>\n",
       "      <td>2017-12-15 00:00:00</td>\n",
       "    </tr>\n",
       "    <tr>\n",
       "      <th>4</th>\n",
       "      <td>ad21c59c0840e6cb83a9ceb5573f8159</td>\n",
       "      <td>8ab97904e6daea8866dbdbc4fb7aad2c</td>\n",
       "      <td>delivered</td>\n",
       "      <td>2018-02-13 21:18:39</td>\n",
       "      <td>2018-02-13 22:20:29</td>\n",
       "      <td>2018-02-14 19:46:34</td>\n",
       "      <td>2018-02-16 18:17:02</td>\n",
       "      <td>2018-02-26 00:00:00</td>\n",
       "    </tr>\n",
       "  </tbody>\n",
       "</table>\n",
       "</div>"
      ],
      "text/plain": [
       "                           order_id                       customer_id  \\\n",
       "0  e481f51cbdc54678b7cc49136f2d6af7  9ef432eb6251297304e76186b10a928d   \n",
       "1  53cdb2fc8bc7dce0b6741e2150273451  b0830fb4747a6c6d20dea0b8c802d7ef   \n",
       "2  47770eb9100c2d0c44946d9cf07ec65d  41ce2a54c0b03bf3443c3d931a367089   \n",
       "3  949d5b44dbf5de918fe9c16f97b45f8a  f88197465ea7920adcdbec7375364d82   \n",
       "4  ad21c59c0840e6cb83a9ceb5573f8159  8ab97904e6daea8866dbdbc4fb7aad2c   \n",
       "\n",
       "  order_status order_purchase_timestamp    order_approved_at  \\\n",
       "0    delivered      2017-10-02 10:56:33  2017-10-02 11:07:15   \n",
       "1    delivered      2018-07-24 20:41:37  2018-07-26 03:24:27   \n",
       "2    delivered      2018-08-08 08:38:49  2018-08-08 08:55:23   \n",
       "3    delivered      2017-11-18 19:28:06  2017-11-18 19:45:59   \n",
       "4    delivered      2018-02-13 21:18:39  2018-02-13 22:20:29   \n",
       "\n",
       "  order_delivered_carrier_date order_delivered_customer_date  \\\n",
       "0          2017-10-04 19:55:00           2017-10-10 21:25:13   \n",
       "1          2018-07-26 14:31:00           2018-08-07 15:27:45   \n",
       "2          2018-08-08 13:50:00           2018-08-17 18:06:29   \n",
       "3          2017-11-22 13:39:59           2017-12-02 00:28:42   \n",
       "4          2018-02-14 19:46:34           2018-02-16 18:17:02   \n",
       "\n",
       "  order_estimated_delivery_date  \n",
       "0           2017-10-18 00:00:00  \n",
       "1           2018-08-13 00:00:00  \n",
       "2           2018-09-04 00:00:00  \n",
       "3           2017-12-15 00:00:00  \n",
       "4           2018-02-26 00:00:00  "
      ]
     },
     "execution_count": 9,
     "metadata": {},
     "output_type": "execute_result"
    }
   ],
   "source": [
    "df_order = pd.read_csv('DataSets/orders_dataset.csv')\n",
    "df_order.head()"
   ]
  },
  {
   "cell_type": "code",
   "execution_count": 10,
   "metadata": {
    "colab": {
     "base_uri": "https://localhost:8080/",
     "height": 0
    },
    "executionInfo": {
     "elapsed": 8,
     "status": "ok",
     "timestamp": 1732692111874,
     "user": {
      "displayName": "ACHMAD RIZQI RAMADHAN",
      "userId": "11285369809196046296"
     },
     "user_tz": -420
    },
    "id": "qqy06ZPVZaiB",
    "outputId": "6698a9c7-2a69-4d71-a9dd-7052dad9bf65"
   },
   "outputs": [
    {
     "data": {
      "text/html": [
       "<div>\n",
       "<style scoped>\n",
       "    .dataframe tbody tr th:only-of-type {\n",
       "        vertical-align: middle;\n",
       "    }\n",
       "\n",
       "    .dataframe tbody tr th {\n",
       "        vertical-align: top;\n",
       "    }\n",
       "\n",
       "    .dataframe thead th {\n",
       "        text-align: right;\n",
       "    }\n",
       "</style>\n",
       "<table border=\"1\" class=\"dataframe\">\n",
       "  <thead>\n",
       "    <tr style=\"text-align: right;\">\n",
       "      <th></th>\n",
       "      <th>order_id</th>\n",
       "      <th>customer_id</th>\n",
       "      <th>order_status</th>\n",
       "      <th>order_purchase_timestamp</th>\n",
       "      <th>order_approved_at</th>\n",
       "      <th>order_delivered_carrier_date</th>\n",
       "      <th>order_delivered_customer_date</th>\n",
       "      <th>order_estimated_delivery_date</th>\n",
       "    </tr>\n",
       "  </thead>\n",
       "  <tbody>\n",
       "    <tr>\n",
       "      <th>99436</th>\n",
       "      <td>9c5dedf39a927c1b2549525ed64a053c</td>\n",
       "      <td>39bd1228ee8140590ac3aca26f2dfe00</td>\n",
       "      <td>delivered</td>\n",
       "      <td>2017-03-09 09:54:05</td>\n",
       "      <td>2017-03-09 09:54:05</td>\n",
       "      <td>2017-03-10 11:18:03</td>\n",
       "      <td>2017-03-17 15:08:01</td>\n",
       "      <td>2017-03-28 00:00:00</td>\n",
       "    </tr>\n",
       "    <tr>\n",
       "      <th>99437</th>\n",
       "      <td>63943bddc261676b46f01ca7ac2f7bd8</td>\n",
       "      <td>1fca14ff2861355f6e5f14306ff977a7</td>\n",
       "      <td>delivered</td>\n",
       "      <td>2018-02-06 12:58:58</td>\n",
       "      <td>2018-02-06 13:10:37</td>\n",
       "      <td>2018-02-07 23:22:42</td>\n",
       "      <td>2018-02-28 17:37:56</td>\n",
       "      <td>2018-03-02 00:00:00</td>\n",
       "    </tr>\n",
       "    <tr>\n",
       "      <th>99438</th>\n",
       "      <td>83c1379a015df1e13d02aae0204711ab</td>\n",
       "      <td>1aa71eb042121263aafbe80c1b562c9c</td>\n",
       "      <td>delivered</td>\n",
       "      <td>2017-08-27 14:46:43</td>\n",
       "      <td>2017-08-27 15:04:16</td>\n",
       "      <td>2017-08-28 20:52:26</td>\n",
       "      <td>2017-09-21 11:24:17</td>\n",
       "      <td>2017-09-27 00:00:00</td>\n",
       "    </tr>\n",
       "    <tr>\n",
       "      <th>99439</th>\n",
       "      <td>11c177c8e97725db2631073c19f07b62</td>\n",
       "      <td>b331b74b18dc79bcdf6532d51e1637c1</td>\n",
       "      <td>delivered</td>\n",
       "      <td>2018-01-08 21:28:27</td>\n",
       "      <td>2018-01-08 21:36:21</td>\n",
       "      <td>2018-01-12 15:35:03</td>\n",
       "      <td>2018-01-25 23:32:54</td>\n",
       "      <td>2018-02-15 00:00:00</td>\n",
       "    </tr>\n",
       "    <tr>\n",
       "      <th>99440</th>\n",
       "      <td>66dea50a8b16d9b4dee7af250b4be1a5</td>\n",
       "      <td>edb027a75a1449115f6b43211ae02a24</td>\n",
       "      <td>delivered</td>\n",
       "      <td>2018-03-08 20:57:30</td>\n",
       "      <td>2018-03-09 11:20:28</td>\n",
       "      <td>2018-03-09 22:11:59</td>\n",
       "      <td>2018-03-16 13:08:30</td>\n",
       "      <td>2018-04-03 00:00:00</td>\n",
       "    </tr>\n",
       "  </tbody>\n",
       "</table>\n",
       "</div>"
      ],
      "text/plain": [
       "                               order_id                       customer_id  \\\n",
       "99436  9c5dedf39a927c1b2549525ed64a053c  39bd1228ee8140590ac3aca26f2dfe00   \n",
       "99437  63943bddc261676b46f01ca7ac2f7bd8  1fca14ff2861355f6e5f14306ff977a7   \n",
       "99438  83c1379a015df1e13d02aae0204711ab  1aa71eb042121263aafbe80c1b562c9c   \n",
       "99439  11c177c8e97725db2631073c19f07b62  b331b74b18dc79bcdf6532d51e1637c1   \n",
       "99440  66dea50a8b16d9b4dee7af250b4be1a5  edb027a75a1449115f6b43211ae02a24   \n",
       "\n",
       "      order_status order_purchase_timestamp    order_approved_at  \\\n",
       "99436    delivered      2017-03-09 09:54:05  2017-03-09 09:54:05   \n",
       "99437    delivered      2018-02-06 12:58:58  2018-02-06 13:10:37   \n",
       "99438    delivered      2017-08-27 14:46:43  2017-08-27 15:04:16   \n",
       "99439    delivered      2018-01-08 21:28:27  2018-01-08 21:36:21   \n",
       "99440    delivered      2018-03-08 20:57:30  2018-03-09 11:20:28   \n",
       "\n",
       "      order_delivered_carrier_date order_delivered_customer_date  \\\n",
       "99436          2017-03-10 11:18:03           2017-03-17 15:08:01   \n",
       "99437          2018-02-07 23:22:42           2018-02-28 17:37:56   \n",
       "99438          2017-08-28 20:52:26           2017-09-21 11:24:17   \n",
       "99439          2018-01-12 15:35:03           2018-01-25 23:32:54   \n",
       "99440          2018-03-09 22:11:59           2018-03-16 13:08:30   \n",
       "\n",
       "      order_estimated_delivery_date  \n",
       "99436           2017-03-28 00:00:00  \n",
       "99437           2018-03-02 00:00:00  \n",
       "99438           2017-09-27 00:00:00  \n",
       "99439           2018-02-15 00:00:00  \n",
       "99440           2018-04-03 00:00:00  "
      ]
     },
     "execution_count": 10,
     "metadata": {},
     "output_type": "execute_result"
    }
   ],
   "source": [
    "df_order.tail()"
   ]
  },
  {
   "cell_type": "markdown",
   "metadata": {
    "id": "QemsB4QfZhz8"
   },
   "source": [
    "### Assessing Data"
   ]
  },
  {
   "cell_type": "markdown",
   "metadata": {
    "id": "HNBlqQ8GrRJA"
   },
   "source": [
    "#### Data Geolokasi"
   ]
  },
  {
   "cell_type": "code",
   "execution_count": 11,
   "metadata": {
    "colab": {
     "base_uri": "https://localhost:8080/"
    },
    "executionInfo": {
     "elapsed": 8,
     "status": "ok",
     "timestamp": 1732692111875,
     "user": {
      "displayName": "ACHMAD RIZQI RAMADHAN",
      "userId": "11285369809196046296"
     },
     "user_tz": -420
    },
    "id": "ARowGkp7hBNi",
    "outputId": "901a3b0d-7d08-4e5f-8134-9df41f196ad6"
   },
   "outputs": [
    {
     "name": "stdout",
     "output_type": "stream",
     "text": [
      "<class 'pandas.core.frame.DataFrame'>\n",
      "RangeIndex: 1000163 entries, 0 to 1000162\n",
      "Data columns (total 5 columns):\n",
      " #   Column                       Non-Null Count    Dtype  \n",
      "---  ------                       --------------    -----  \n",
      " 0   geolocation_zip_code_prefix  1000163 non-null  int64  \n",
      " 1   geolocation_lat              1000163 non-null  float64\n",
      " 2   geolocation_lng              1000163 non-null  float64\n",
      " 3   geolocation_city             1000163 non-null  object \n",
      " 4   geolocation_state            1000163 non-null  object \n",
      "dtypes: float64(2), int64(1), object(2)\n",
      "memory usage: 38.2+ MB\n"
     ]
    }
   ],
   "source": [
    "# Cek info dari dataframe\n",
    "df_geolokasi.info()"
   ]
  },
  {
   "cell_type": "code",
   "execution_count": 12,
   "metadata": {
    "colab": {
     "base_uri": "https://localhost:8080/",
     "height": 300
    },
    "executionInfo": {
     "elapsed": 7,
     "status": "ok",
     "timestamp": 1732692111875,
     "user": {
      "displayName": "ACHMAD RIZQI RAMADHAN",
      "userId": "11285369809196046296"
     },
     "user_tz": -420
    },
    "id": "2lT6EfjWhTfi",
    "outputId": "e0bf2fae-8e1a-4068-9107-8f334aa1ddf6"
   },
   "outputs": [
    {
     "data": {
      "text/html": [
       "<div>\n",
       "<style scoped>\n",
       "    .dataframe tbody tr th:only-of-type {\n",
       "        vertical-align: middle;\n",
       "    }\n",
       "\n",
       "    .dataframe tbody tr th {\n",
       "        vertical-align: top;\n",
       "    }\n",
       "\n",
       "    .dataframe thead th {\n",
       "        text-align: right;\n",
       "    }\n",
       "</style>\n",
       "<table border=\"1\" class=\"dataframe\">\n",
       "  <thead>\n",
       "    <tr style=\"text-align: right;\">\n",
       "      <th></th>\n",
       "      <th>geolocation_zip_code_prefix</th>\n",
       "      <th>geolocation_lat</th>\n",
       "      <th>geolocation_lng</th>\n",
       "    </tr>\n",
       "  </thead>\n",
       "  <tbody>\n",
       "    <tr>\n",
       "      <th>count</th>\n",
       "      <td>1.000163e+06</td>\n",
       "      <td>1.000163e+06</td>\n",
       "      <td>1.000163e+06</td>\n",
       "    </tr>\n",
       "    <tr>\n",
       "      <th>mean</th>\n",
       "      <td>3.657417e+04</td>\n",
       "      <td>-2.117615e+01</td>\n",
       "      <td>-4.639054e+01</td>\n",
       "    </tr>\n",
       "    <tr>\n",
       "      <th>std</th>\n",
       "      <td>3.054934e+04</td>\n",
       "      <td>5.715866e+00</td>\n",
       "      <td>4.269748e+00</td>\n",
       "    </tr>\n",
       "    <tr>\n",
       "      <th>min</th>\n",
       "      <td>1.001000e+03</td>\n",
       "      <td>-3.660537e+01</td>\n",
       "      <td>-1.014668e+02</td>\n",
       "    </tr>\n",
       "    <tr>\n",
       "      <th>25%</th>\n",
       "      <td>1.107500e+04</td>\n",
       "      <td>-2.360355e+01</td>\n",
       "      <td>-4.857317e+01</td>\n",
       "    </tr>\n",
       "    <tr>\n",
       "      <th>50%</th>\n",
       "      <td>2.653000e+04</td>\n",
       "      <td>-2.291938e+01</td>\n",
       "      <td>-4.663788e+01</td>\n",
       "    </tr>\n",
       "    <tr>\n",
       "      <th>75%</th>\n",
       "      <td>6.350400e+04</td>\n",
       "      <td>-1.997962e+01</td>\n",
       "      <td>-4.376771e+01</td>\n",
       "    </tr>\n",
       "    <tr>\n",
       "      <th>max</th>\n",
       "      <td>9.999000e+04</td>\n",
       "      <td>4.506593e+01</td>\n",
       "      <td>1.211054e+02</td>\n",
       "    </tr>\n",
       "  </tbody>\n",
       "</table>\n",
       "</div>"
      ],
      "text/plain": [
       "       geolocation_zip_code_prefix  geolocation_lat  geolocation_lng\n",
       "count                 1.000163e+06     1.000163e+06     1.000163e+06\n",
       "mean                  3.657417e+04    -2.117615e+01    -4.639054e+01\n",
       "std                   3.054934e+04     5.715866e+00     4.269748e+00\n",
       "min                   1.001000e+03    -3.660537e+01    -1.014668e+02\n",
       "25%                   1.107500e+04    -2.360355e+01    -4.857317e+01\n",
       "50%                   2.653000e+04    -2.291938e+01    -4.663788e+01\n",
       "75%                   6.350400e+04    -1.997962e+01    -4.376771e+01\n",
       "max                   9.999000e+04     4.506593e+01     1.211054e+02"
      ]
     },
     "execution_count": 12,
     "metadata": {},
     "output_type": "execute_result"
    }
   ],
   "source": [
    "df_geolokasi.describe()"
   ]
  },
  {
   "cell_type": "code",
   "execution_count": 13,
   "metadata": {
    "colab": {
     "base_uri": "https://localhost:8080/",
     "height": 241
    },
    "executionInfo": {
     "elapsed": 340,
     "status": "ok",
     "timestamp": 1732692112208,
     "user": {
      "displayName": "ACHMAD RIZQI RAMADHAN",
      "userId": "11285369809196046296"
     },
     "user_tz": -420
    },
    "id": "b8XANhx3rMKP",
    "outputId": "2e40746c-ab4e-47de-c221-fd008b4a2586"
   },
   "outputs": [
    {
     "data": {
      "text/plain": [
       "geolocation_zip_code_prefix    0\n",
       "geolocation_lat                0\n",
       "geolocation_lng                0\n",
       "geolocation_city               0\n",
       "geolocation_state              0\n",
       "dtype: int64"
      ]
     },
     "execution_count": 13,
     "metadata": {},
     "output_type": "execute_result"
    }
   ],
   "source": [
    "df_geolokasi.isna().sum()"
   ]
  },
  {
   "cell_type": "code",
   "execution_count": 14,
   "metadata": {
    "colab": {
     "base_uri": "https://localhost:8080/"
    },
    "executionInfo": {
     "elapsed": 399,
     "status": "ok",
     "timestamp": 1732692112606,
     "user": {
      "displayName": "ACHMAD RIZQI RAMADHAN",
      "userId": "11285369809196046296"
     },
     "user_tz": -420
    },
    "id": "9edbLDqdrzWh",
    "outputId": "59785f39-f894-42f7-a67a-345214c25385"
   },
   "outputs": [
    {
     "name": "stdout",
     "output_type": "stream",
     "text": [
      "Data Duplikasi = 261831\n"
     ]
    }
   ],
   "source": [
    "print('Data Duplikasi =', df_geolokasi.duplicated().sum())"
   ]
  },
  {
   "cell_type": "markdown",
   "metadata": {
    "id": "sedEZuV7Zhz_"
   },
   "source": [
    "Insight : <br>\n",
    "dalam data geolokasi tidak ditemukan adanya data yang kosong, dan duplikasi menyatakan adanya customer yang membeli lebih dari satu kali di satu tempat sehingga tidak diperlukan cleaning karena data ini nantinya akan digunakan untuk melihat konsentrasi lokasi pembeli."
   ]
  },
  {
   "cell_type": "markdown",
   "metadata": {
    "id": "yqXDHhjfrUPn"
   },
   "source": [
    "#### Data Customer"
   ]
  },
  {
   "cell_type": "code",
   "execution_count": 15,
   "metadata": {
    "colab": {
     "base_uri": "https://localhost:8080/"
    },
    "executionInfo": {
     "elapsed": 7,
     "status": "ok",
     "timestamp": 1732692112606,
     "user": {
      "displayName": "ACHMAD RIZQI RAMADHAN",
      "userId": "11285369809196046296"
     },
     "user_tz": -420
    },
    "id": "v81SWaa-rWKw",
    "outputId": "353bdb2c-8b81-4f3f-8a9d-813fdf0b3aae"
   },
   "outputs": [
    {
     "name": "stdout",
     "output_type": "stream",
     "text": [
      "<class 'pandas.core.frame.DataFrame'>\n",
      "RangeIndex: 99441 entries, 0 to 99440\n",
      "Data columns (total 5 columns):\n",
      " #   Column                    Non-Null Count  Dtype \n",
      "---  ------                    --------------  ----- \n",
      " 0   customer_id               99441 non-null  object\n",
      " 1   customer_unique_id        99441 non-null  object\n",
      " 2   customer_zip_code_prefix  99441 non-null  int64 \n",
      " 3   customer_city             99441 non-null  object\n",
      " 4   customer_state            99441 non-null  object\n",
      "dtypes: int64(1), object(4)\n",
      "memory usage: 3.8+ MB\n"
     ]
    }
   ],
   "source": [
    "df_customer.info()"
   ]
  },
  {
   "cell_type": "code",
   "execution_count": 16,
   "metadata": {
    "colab": {
     "base_uri": "https://localhost:8080/",
     "height": 0
    },
    "executionInfo": {
     "elapsed": 5,
     "status": "ok",
     "timestamp": 1732692112606,
     "user": {
      "displayName": "ACHMAD RIZQI RAMADHAN",
      "userId": "11285369809196046296"
     },
     "user_tz": -420
    },
    "id": "MNWcOx-arZew",
    "outputId": "c7ae5553-493d-4d29-979b-f3819ed9c85c"
   },
   "outputs": [
    {
     "data": {
      "text/html": [
       "<div>\n",
       "<style scoped>\n",
       "    .dataframe tbody tr th:only-of-type {\n",
       "        vertical-align: middle;\n",
       "    }\n",
       "\n",
       "    .dataframe tbody tr th {\n",
       "        vertical-align: top;\n",
       "    }\n",
       "\n",
       "    .dataframe thead th {\n",
       "        text-align: right;\n",
       "    }\n",
       "</style>\n",
       "<table border=\"1\" class=\"dataframe\">\n",
       "  <thead>\n",
       "    <tr style=\"text-align: right;\">\n",
       "      <th></th>\n",
       "      <th>customer_zip_code_prefix</th>\n",
       "    </tr>\n",
       "  </thead>\n",
       "  <tbody>\n",
       "    <tr>\n",
       "      <th>count</th>\n",
       "      <td>99441.000000</td>\n",
       "    </tr>\n",
       "    <tr>\n",
       "      <th>mean</th>\n",
       "      <td>35137.474583</td>\n",
       "    </tr>\n",
       "    <tr>\n",
       "      <th>std</th>\n",
       "      <td>29797.938996</td>\n",
       "    </tr>\n",
       "    <tr>\n",
       "      <th>min</th>\n",
       "      <td>1003.000000</td>\n",
       "    </tr>\n",
       "    <tr>\n",
       "      <th>25%</th>\n",
       "      <td>11347.000000</td>\n",
       "    </tr>\n",
       "    <tr>\n",
       "      <th>50%</th>\n",
       "      <td>24416.000000</td>\n",
       "    </tr>\n",
       "    <tr>\n",
       "      <th>75%</th>\n",
       "      <td>58900.000000</td>\n",
       "    </tr>\n",
       "    <tr>\n",
       "      <th>max</th>\n",
       "      <td>99990.000000</td>\n",
       "    </tr>\n",
       "  </tbody>\n",
       "</table>\n",
       "</div>"
      ],
      "text/plain": [
       "       customer_zip_code_prefix\n",
       "count              99441.000000\n",
       "mean               35137.474583\n",
       "std                29797.938996\n",
       "min                 1003.000000\n",
       "25%                11347.000000\n",
       "50%                24416.000000\n",
       "75%                58900.000000\n",
       "max                99990.000000"
      ]
     },
     "execution_count": 16,
     "metadata": {},
     "output_type": "execute_result"
    }
   ],
   "source": [
    "df_customer.describe()"
   ]
  },
  {
   "cell_type": "code",
   "execution_count": 17,
   "metadata": {
    "colab": {
     "base_uri": "https://localhost:8080/",
     "height": 0
    },
    "executionInfo": {
     "elapsed": 4,
     "status": "ok",
     "timestamp": 1732692112606,
     "user": {
      "displayName": "ACHMAD RIZQI RAMADHAN",
      "userId": "11285369809196046296"
     },
     "user_tz": -420
    },
    "id": "Yn0tjmUDrfpB",
    "outputId": "bf66a20b-f33a-4d25-aa9c-296d846a53b8"
   },
   "outputs": [
    {
     "data": {
      "text/plain": [
       "customer_id                 0\n",
       "customer_unique_id          0\n",
       "customer_zip_code_prefix    0\n",
       "customer_city               0\n",
       "customer_state              0\n",
       "dtype: int64"
      ]
     },
     "execution_count": 17,
     "metadata": {},
     "output_type": "execute_result"
    }
   ],
   "source": [
    "df_customer.isna().sum()"
   ]
  },
  {
   "cell_type": "code",
   "execution_count": 18,
   "metadata": {
    "colab": {
     "base_uri": "https://localhost:8080/"
    },
    "executionInfo": {
     "elapsed": 403,
     "status": "ok",
     "timestamp": 1732692113005,
     "user": {
      "displayName": "ACHMAD RIZQI RAMADHAN",
      "userId": "11285369809196046296"
     },
     "user_tz": -420
    },
    "id": "pSKTN6STsGz1",
    "outputId": "20787926-5075-41ae-ec6e-85cb8a8699ba"
   },
   "outputs": [
    {
     "name": "stdout",
     "output_type": "stream",
     "text": [
      "Data Duplikasi = 0\n"
     ]
    }
   ],
   "source": [
    "print('Data Duplikasi =', df_customer.duplicated().sum())"
   ]
  },
  {
   "cell_type": "markdown",
   "metadata": {
    "id": "gGsg9MWLrjGa"
   },
   "source": [
    "Insight : <br>\n",
    "dalam data customer tidak ditemukan adanya data yang kosong dan terduplikasi, sehingga tidak perlu dilakukan cleaning"
   ]
  },
  {
   "cell_type": "markdown",
   "metadata": {
    "id": "VeY-gb03Zltf"
   },
   "source": [
    "#### Data Review"
   ]
  },
  {
   "cell_type": "code",
   "execution_count": 19,
   "metadata": {
    "colab": {
     "base_uri": "https://localhost:8080/"
    },
    "executionInfo": {
     "elapsed": 7,
     "status": "ok",
     "timestamp": 1732692113005,
     "user": {
      "displayName": "ACHMAD RIZQI RAMADHAN",
      "userId": "11285369809196046296"
     },
     "user_tz": -420
    },
    "id": "KkThAA6Xrtb9",
    "outputId": "6c9de8a6-5984-411f-868d-9ed0a2b6938b"
   },
   "outputs": [
    {
     "name": "stdout",
     "output_type": "stream",
     "text": [
      "<class 'pandas.core.frame.DataFrame'>\n",
      "RangeIndex: 99224 entries, 0 to 99223\n",
      "Data columns (total 7 columns):\n",
      " #   Column                   Non-Null Count  Dtype \n",
      "---  ------                   --------------  ----- \n",
      " 0   review_id                99224 non-null  object\n",
      " 1   order_id                 99224 non-null  object\n",
      " 2   review_score             99224 non-null  int64 \n",
      " 3   review_comment_title     11568 non-null  object\n",
      " 4   review_comment_message   40977 non-null  object\n",
      " 5   review_creation_date     99224 non-null  object\n",
      " 6   review_answer_timestamp  99224 non-null  object\n",
      "dtypes: int64(1), object(6)\n",
      "memory usage: 5.3+ MB\n"
     ]
    }
   ],
   "source": [
    "df_review.info()"
   ]
  },
  {
   "cell_type": "code",
   "execution_count": 20,
   "metadata": {
    "colab": {
     "base_uri": "https://localhost:8080/",
     "height": 300
    },
    "executionInfo": {
     "elapsed": 7,
     "status": "ok",
     "timestamp": 1732692113006,
     "user": {
      "displayName": "ACHMAD RIZQI RAMADHAN",
      "userId": "11285369809196046296"
     },
     "user_tz": -420
    },
    "id": "buxV-OQ9suFj",
    "outputId": "7d596ba1-930a-4ddd-854b-60e94d68b7e0"
   },
   "outputs": [
    {
     "data": {
      "text/html": [
       "<div>\n",
       "<style scoped>\n",
       "    .dataframe tbody tr th:only-of-type {\n",
       "        vertical-align: middle;\n",
       "    }\n",
       "\n",
       "    .dataframe tbody tr th {\n",
       "        vertical-align: top;\n",
       "    }\n",
       "\n",
       "    .dataframe thead th {\n",
       "        text-align: right;\n",
       "    }\n",
       "</style>\n",
       "<table border=\"1\" class=\"dataframe\">\n",
       "  <thead>\n",
       "    <tr style=\"text-align: right;\">\n",
       "      <th></th>\n",
       "      <th>review_score</th>\n",
       "    </tr>\n",
       "  </thead>\n",
       "  <tbody>\n",
       "    <tr>\n",
       "      <th>count</th>\n",
       "      <td>99224.000000</td>\n",
       "    </tr>\n",
       "    <tr>\n",
       "      <th>mean</th>\n",
       "      <td>4.086421</td>\n",
       "    </tr>\n",
       "    <tr>\n",
       "      <th>std</th>\n",
       "      <td>1.347579</td>\n",
       "    </tr>\n",
       "    <tr>\n",
       "      <th>min</th>\n",
       "      <td>1.000000</td>\n",
       "    </tr>\n",
       "    <tr>\n",
       "      <th>25%</th>\n",
       "      <td>4.000000</td>\n",
       "    </tr>\n",
       "    <tr>\n",
       "      <th>50%</th>\n",
       "      <td>5.000000</td>\n",
       "    </tr>\n",
       "    <tr>\n",
       "      <th>75%</th>\n",
       "      <td>5.000000</td>\n",
       "    </tr>\n",
       "    <tr>\n",
       "      <th>max</th>\n",
       "      <td>5.000000</td>\n",
       "    </tr>\n",
       "  </tbody>\n",
       "</table>\n",
       "</div>"
      ],
      "text/plain": [
       "       review_score\n",
       "count  99224.000000\n",
       "mean       4.086421\n",
       "std        1.347579\n",
       "min        1.000000\n",
       "25%        4.000000\n",
       "50%        5.000000\n",
       "75%        5.000000\n",
       "max        5.000000"
      ]
     },
     "execution_count": 20,
     "metadata": {},
     "output_type": "execute_result"
    }
   ],
   "source": [
    "df_review.describe()"
   ]
  },
  {
   "cell_type": "code",
   "execution_count": 21,
   "metadata": {
    "colab": {
     "base_uri": "https://localhost:8080/",
     "height": 303
    },
    "executionInfo": {
     "elapsed": 7,
     "status": "ok",
     "timestamp": 1732692113006,
     "user": {
      "displayName": "ACHMAD RIZQI RAMADHAN",
      "userId": "11285369809196046296"
     },
     "user_tz": -420
    },
    "id": "EPofvYDEtwGP",
    "outputId": "f7d2b8f7-3b92-4b0c-e762-0017e008fdec"
   },
   "outputs": [
    {
     "data": {
      "text/plain": [
       "review_id                      0\n",
       "order_id                       0\n",
       "review_score                   0\n",
       "review_comment_title       87656\n",
       "review_comment_message     58247\n",
       "review_creation_date           0\n",
       "review_answer_timestamp        0\n",
       "dtype: int64"
      ]
     },
     "execution_count": 21,
     "metadata": {},
     "output_type": "execute_result"
    }
   ],
   "source": [
    "df_review.isna().sum()"
   ]
  },
  {
   "cell_type": "code",
   "execution_count": 22,
   "metadata": {
    "colab": {
     "base_uri": "https://localhost:8080/"
    },
    "executionInfo": {
     "elapsed": 6,
     "status": "ok",
     "timestamp": 1732692113006,
     "user": {
      "displayName": "ACHMAD RIZQI RAMADHAN",
      "userId": "11285369809196046296"
     },
     "user_tz": -420
    },
    "id": "PI5vxWIat2Ky",
    "outputId": "01b7ffa5-0fdf-41ca-99aa-c7022526810b"
   },
   "outputs": [
    {
     "name": "stdout",
     "output_type": "stream",
     "text": [
      "Data Duplikasi = 0\n"
     ]
    }
   ],
   "source": [
    "print('Data Duplikasi =', df_review.duplicated().sum())"
   ]
  },
  {
   "cell_type": "markdown",
   "metadata": {
    "id": "aDN3GdqLtzIo"
   },
   "source": [
    "Insight :<br>\n",
    "Terlihat bahwa terdapat beberapa hal yang harus dilakukan sebelum data di proses yaitu :<br>\n",
    "- review_creation_date dan review_answer_timestamp seharusnya bertipe datetime\n",
    "- terdapat banyak data kosong untuk review_comment_title dan review_comment_message"
   ]
  },
  {
   "cell_type": "markdown",
   "metadata": {
    "id": "yNj_3byNZsm9"
   },
   "source": [
    "#### Data Order"
   ]
  },
  {
   "cell_type": "code",
   "execution_count": 23,
   "metadata": {
    "colab": {
     "base_uri": "https://localhost:8080/"
    },
    "executionInfo": {
     "elapsed": 5,
     "status": "ok",
     "timestamp": 1732692113006,
     "user": {
      "displayName": "ACHMAD RIZQI RAMADHAN",
      "userId": "11285369809196046296"
     },
     "user_tz": -420
    },
    "id": "A_-b77WLZvhk",
    "outputId": "6db373c5-9a13-4d1b-93fa-188628034fd6"
   },
   "outputs": [
    {
     "name": "stdout",
     "output_type": "stream",
     "text": [
      "<class 'pandas.core.frame.DataFrame'>\n",
      "RangeIndex: 99441 entries, 0 to 99440\n",
      "Data columns (total 8 columns):\n",
      " #   Column                         Non-Null Count  Dtype \n",
      "---  ------                         --------------  ----- \n",
      " 0   order_id                       99441 non-null  object\n",
      " 1   customer_id                    99441 non-null  object\n",
      " 2   order_status                   99441 non-null  object\n",
      " 3   order_purchase_timestamp       99441 non-null  object\n",
      " 4   order_approved_at              99281 non-null  object\n",
      " 5   order_delivered_carrier_date   97658 non-null  object\n",
      " 6   order_delivered_customer_date  96476 non-null  object\n",
      " 7   order_estimated_delivery_date  99441 non-null  object\n",
      "dtypes: object(8)\n",
      "memory usage: 6.1+ MB\n"
     ]
    }
   ],
   "source": [
    "df_order.info()"
   ]
  },
  {
   "cell_type": "code",
   "execution_count": 24,
   "metadata": {
    "colab": {
     "base_uri": "https://localhost:8080/",
     "height": 195
    },
    "executionInfo": {
     "elapsed": 724,
     "status": "ok",
     "timestamp": 1732692113726,
     "user": {
      "displayName": "ACHMAD RIZQI RAMADHAN",
      "userId": "11285369809196046296"
     },
     "user_tz": -420
    },
    "id": "xYOlwlQ6bCNV",
    "outputId": "a76bfb08-7c81-4b6a-8f73-e06704545090"
   },
   "outputs": [
    {
     "data": {
      "text/html": [
       "<div>\n",
       "<style scoped>\n",
       "    .dataframe tbody tr th:only-of-type {\n",
       "        vertical-align: middle;\n",
       "    }\n",
       "\n",
       "    .dataframe tbody tr th {\n",
       "        vertical-align: top;\n",
       "    }\n",
       "\n",
       "    .dataframe thead th {\n",
       "        text-align: right;\n",
       "    }\n",
       "</style>\n",
       "<table border=\"1\" class=\"dataframe\">\n",
       "  <thead>\n",
       "    <tr style=\"text-align: right;\">\n",
       "      <th></th>\n",
       "      <th>order_id</th>\n",
       "      <th>customer_id</th>\n",
       "      <th>order_status</th>\n",
       "      <th>order_purchase_timestamp</th>\n",
       "      <th>order_approved_at</th>\n",
       "      <th>order_delivered_carrier_date</th>\n",
       "      <th>order_delivered_customer_date</th>\n",
       "      <th>order_estimated_delivery_date</th>\n",
       "    </tr>\n",
       "  </thead>\n",
       "  <tbody>\n",
       "    <tr>\n",
       "      <th>count</th>\n",
       "      <td>99441</td>\n",
       "      <td>99441</td>\n",
       "      <td>99441</td>\n",
       "      <td>99441</td>\n",
       "      <td>99281</td>\n",
       "      <td>97658</td>\n",
       "      <td>96476</td>\n",
       "      <td>99441</td>\n",
       "    </tr>\n",
       "    <tr>\n",
       "      <th>unique</th>\n",
       "      <td>99441</td>\n",
       "      <td>99441</td>\n",
       "      <td>8</td>\n",
       "      <td>98875</td>\n",
       "      <td>90733</td>\n",
       "      <td>81018</td>\n",
       "      <td>95664</td>\n",
       "      <td>459</td>\n",
       "    </tr>\n",
       "    <tr>\n",
       "      <th>top</th>\n",
       "      <td>e481f51cbdc54678b7cc49136f2d6af7</td>\n",
       "      <td>9ef432eb6251297304e76186b10a928d</td>\n",
       "      <td>delivered</td>\n",
       "      <td>2018-04-11 10:48:14</td>\n",
       "      <td>2018-02-27 04:31:10</td>\n",
       "      <td>2018-05-09 15:48:00</td>\n",
       "      <td>2018-05-08 23:38:46</td>\n",
       "      <td>2017-12-20 00:00:00</td>\n",
       "    </tr>\n",
       "    <tr>\n",
       "      <th>freq</th>\n",
       "      <td>1</td>\n",
       "      <td>1</td>\n",
       "      <td>96478</td>\n",
       "      <td>3</td>\n",
       "      <td>9</td>\n",
       "      <td>47</td>\n",
       "      <td>3</td>\n",
       "      <td>522</td>\n",
       "    </tr>\n",
       "  </tbody>\n",
       "</table>\n",
       "</div>"
      ],
      "text/plain": [
       "                                order_id                       customer_id  \\\n",
       "count                              99441                             99441   \n",
       "unique                             99441                             99441   \n",
       "top     e481f51cbdc54678b7cc49136f2d6af7  9ef432eb6251297304e76186b10a928d   \n",
       "freq                                   1                                 1   \n",
       "\n",
       "       order_status order_purchase_timestamp    order_approved_at  \\\n",
       "count         99441                    99441                99281   \n",
       "unique            8                    98875                90733   \n",
       "top       delivered      2018-04-11 10:48:14  2018-02-27 04:31:10   \n",
       "freq          96478                        3                    9   \n",
       "\n",
       "       order_delivered_carrier_date order_delivered_customer_date  \\\n",
       "count                         97658                         96476   \n",
       "unique                        81018                         95664   \n",
       "top             2018-05-09 15:48:00           2018-05-08 23:38:46   \n",
       "freq                             47                             3   \n",
       "\n",
       "       order_estimated_delivery_date  \n",
       "count                          99441  \n",
       "unique                           459  \n",
       "top              2017-12-20 00:00:00  \n",
       "freq                             522  "
      ]
     },
     "execution_count": 24,
     "metadata": {},
     "output_type": "execute_result"
    }
   ],
   "source": [
    "df_order.describe()"
   ]
  },
  {
   "cell_type": "code",
   "execution_count": 25,
   "metadata": {
    "colab": {
     "base_uri": "https://localhost:8080/",
     "height": 335
    },
    "executionInfo": {
     "elapsed": 5,
     "status": "ok",
     "timestamp": 1732692113726,
     "user": {
      "displayName": "ACHMAD RIZQI RAMADHAN",
      "userId": "11285369809196046296"
     },
     "user_tz": -420
    },
    "id": "0g1GinjfbZdY",
    "outputId": "61d87e31-7c6c-454b-b448-28a1ca70e2ae"
   },
   "outputs": [
    {
     "data": {
      "text/plain": [
       "order_id                            0\n",
       "customer_id                         0\n",
       "order_status                        0\n",
       "order_purchase_timestamp            0\n",
       "order_approved_at                 160\n",
       "order_delivered_carrier_date     1783\n",
       "order_delivered_customer_date    2965\n",
       "order_estimated_delivery_date       0\n",
       "dtype: int64"
      ]
     },
     "execution_count": 25,
     "metadata": {},
     "output_type": "execute_result"
    }
   ],
   "source": [
    "df_order.isna().sum()"
   ]
  },
  {
   "cell_type": "code",
   "execution_count": 26,
   "metadata": {
    "colab": {
     "base_uri": "https://localhost:8080/"
    },
    "executionInfo": {
     "elapsed": 543,
     "status": "ok",
     "timestamp": 1732692114264,
     "user": {
      "displayName": "ACHMAD RIZQI RAMADHAN",
      "userId": "11285369809196046296"
     },
     "user_tz": -420
    },
    "id": "F5em7DAgbkD0",
    "outputId": "a8950ddf-67af-4843-ea53-fdf51c26cf77"
   },
   "outputs": [
    {
     "name": "stdout",
     "output_type": "stream",
     "text": [
      "Data Duplikasi = 0\n"
     ]
    }
   ],
   "source": [
    "print('Data Duplikasi =', df_order.duplicated().sum())"
   ]
  },
  {
   "cell_type": "markdown",
   "metadata": {
    "id": "rV9jri1pbtvf"
   },
   "source": [
    "Insight : <br>\n",
    "- order_delivered_carrier_date, order_delivered_customer_date, dan order_estimated_delivery_date seharusnya date time\n",
    "- terdapat data yang kosong yang semuanya merupakan data waktu atau tanggal. Data tersebut akan dibiarkan kosong karena memang seharusnya kosong. seperti contoh :\n",
    "untuk status order Cancelled maka order_delivered_customer_date akan kosong karena tidak ada pengiriman."
   ]
  },
  {
   "cell_type": "markdown",
   "metadata": {
    "id": "fi_vvFrTZh0C"
   },
   "source": [
    "### Cleaning Data"
   ]
  },
  {
   "cell_type": "code",
   "execution_count": 27,
   "metadata": {
    "colab": {
     "base_uri": "https://localhost:8080/",
     "height": 303
    },
    "executionInfo": {
     "elapsed": 8,
     "status": "ok",
     "timestamp": 1732692114265,
     "user": {
      "displayName": "ACHMAD RIZQI RAMADHAN",
      "userId": "11285369809196046296"
     },
     "user_tz": -420
    },
    "id": "20C-tJQsvIYt",
    "outputId": "ba4340b5-da76-4272-a3f2-a336f03c52a2"
   },
   "outputs": [
    {
     "data": {
      "text/plain": [
       "review_id                  0\n",
       "order_id                   0\n",
       "review_score               0\n",
       "review_comment_title       0\n",
       "review_comment_message     0\n",
       "review_creation_date       0\n",
       "review_answer_timestamp    0\n",
       "dtype: int64"
      ]
     },
     "execution_count": 27,
     "metadata": {},
     "output_type": "execute_result"
    }
   ],
   "source": [
    "# Cleaning data review\n",
    "# Mengubah semua data kosong / Nan menjadi string kosong \"\"\n",
    "df_review = df_review.fillna(\"\")\n",
    "df_review.isna().sum()"
   ]
  },
  {
   "cell_type": "markdown",
   "metadata": {
    "id": "hksU70lCvVwj"
   },
   "source": [
    "Data review customer sudah tidak memiliki value Nan"
   ]
  },
  {
   "cell_type": "code",
   "execution_count": 28,
   "metadata": {
    "colab": {
     "base_uri": "https://localhost:8080/"
    },
    "executionInfo": {
     "elapsed": 7,
     "status": "ok",
     "timestamp": 1732692114265,
     "user": {
      "displayName": "ACHMAD RIZQI RAMADHAN",
      "userId": "11285369809196046296"
     },
     "user_tz": -420
    },
    "id": "RqWiqY_3vicA",
    "outputId": "73145b92-00d6-45a7-e047-d862e7628eea"
   },
   "outputs": [
    {
     "name": "stdout",
     "output_type": "stream",
     "text": [
      "<class 'pandas.core.frame.DataFrame'>\n",
      "RangeIndex: 99224 entries, 0 to 99223\n",
      "Data columns (total 7 columns):\n",
      " #   Column                   Non-Null Count  Dtype         \n",
      "---  ------                   --------------  -----         \n",
      " 0   review_id                99224 non-null  object        \n",
      " 1   order_id                 99224 non-null  object        \n",
      " 2   review_score             99224 non-null  int64         \n",
      " 3   review_comment_title     99224 non-null  object        \n",
      " 4   review_comment_message   99224 non-null  object        \n",
      " 5   review_creation_date     99224 non-null  datetime64[ns]\n",
      " 6   review_answer_timestamp  99224 non-null  datetime64[ns]\n",
      "dtypes: datetime64[ns](2), int64(1), object(4)\n",
      "memory usage: 5.3+ MB\n"
     ]
    }
   ],
   "source": [
    "# Mengubah tipedata dari review_creation_date dan review_answer_timestamp menjadi datetime\n",
    "df_review['review_creation_date'] = pd.to_datetime(df_review['review_creation_date'])\n",
    "df_review['review_answer_timestamp'] = pd.to_datetime(df_review['review_answer_timestamp'])\n",
    "df_review.info()"
   ]
  },
  {
   "cell_type": "code",
   "execution_count": 29,
   "metadata": {
    "colab": {
     "base_uri": "https://localhost:8080/"
    },
    "executionInfo": {
     "elapsed": 6,
     "status": "ok",
     "timestamp": 1732692114265,
     "user": {
      "displayName": "ACHMAD RIZQI RAMADHAN",
      "userId": "11285369809196046296"
     },
     "user_tz": -420
    },
    "id": "Ibe1uwinjPTQ",
    "outputId": "fc09d62c-ed8c-4ceb-e9b2-f7cf5dded4c9"
   },
   "outputs": [
    {
     "name": "stdout",
     "output_type": "stream",
     "text": [
      "<class 'pandas.core.frame.DataFrame'>\n",
      "RangeIndex: 99441 entries, 0 to 99440\n",
      "Data columns (total 8 columns):\n",
      " #   Column                         Non-Null Count  Dtype         \n",
      "---  ------                         --------------  -----         \n",
      " 0   order_id                       99441 non-null  object        \n",
      " 1   customer_id                    99441 non-null  object        \n",
      " 2   order_status                   99441 non-null  object        \n",
      " 3   order_purchase_timestamp       99441 non-null  object        \n",
      " 4   order_approved_at              99281 non-null  object        \n",
      " 5   order_delivered_carrier_date   97658 non-null  datetime64[ns]\n",
      " 6   order_delivered_customer_date  96476 non-null  datetime64[ns]\n",
      " 7   order_estimated_delivery_date  99441 non-null  datetime64[ns]\n",
      "dtypes: datetime64[ns](3), object(5)\n",
      "memory usage: 6.1+ MB\n"
     ]
    }
   ],
   "source": [
    "# Mengubah data object dengan datetime\n",
    "df_order['order_delivered_carrier_date'] = pd.to_datetime(df_order['order_delivered_carrier_date'])\n",
    "df_order['order_delivered_customer_date'] = pd.to_datetime(df_order['order_delivered_customer_date'])\n",
    "df_order['order_estimated_delivery_date'] = pd.to_datetime(df_order['order_estimated_delivery_date'])\n",
    "df_order.info()"
   ]
  },
  {
   "cell_type": "markdown",
   "metadata": {
    "id": "a5unbEGdZh0E"
   },
   "source": [
    "## Exploratory Data Analysis (EDA)"
   ]
  },
  {
   "cell_type": "markdown",
   "metadata": {
    "id": "sOXKBqAPZh0H"
   },
   "source": [
    "### Explore ..."
   ]
  },
  {
   "cell_type": "code",
   "execution_count": 30,
   "metadata": {
    "colab": {
     "base_uri": "https://localhost:8080/"
    },
    "executionInfo": {
     "elapsed": 494,
     "status": "ok",
     "timestamp": 1732692114755,
     "user": {
      "displayName": "ACHMAD RIZQI RAMADHAN",
      "userId": "11285369809196046296"
     },
     "user_tz": -420
    },
    "id": "1D6lOSjr-qGh",
    "outputId": "c40fd69b-4ecf-4c36-c221-d9c58a08eb83"
   },
   "outputs": [
    {
     "name": "stdout",
     "output_type": "stream",
     "text": [
      "AC : \n",
      "sao paulo, rio de janeiro, sena madureira, rio branco, feijo, senador guiomard, cruzeiro do sul, xapuri, feijó, manoel urbano, santa rosa do purus, placido de castro, tarauaca, assis brasil, mâncio lima, mancio lima, tarauacá, porto walter, brasileia, campinas, rodrigues alves, brasiléia, acrelandia, plácido de castro, epitaciolândia, bujari, marechal thaumaturgo, epitaciolandia, porto acre, capixaba, jordão, jordao, acrelândia, rio bracnco\n",
      "\n",
      "AL : \n",
      "maceio, maceió, maceia³, barra de sao miguel, rio largo, marechal deodoro, pilar, satuba, santa luzia do norte, barra de são miguel, coqueiro seco, coruripe, sao sebastiao, feliz deserto, teotonio vilela, junqueiro, penedo, igreja nova, sao miguel dos campos, luziapolis, piacabucu, jequia da praia, roteiro, teotônio vilela, campo alegre, piaçabuçu, porto real do colegio, são miguel dos campos, poxim, limoeiro de anadia, são sebastião, arapiraca, feira grande, craibas, lagoa da canoa, coite do noia, traipu, girau do ponciano, campo grande, vila sao francisco, olho dágua grande, sao bras, olho d'agua grande, são brás, pau d'arco, delmiro gouveia, pão de açúcar, batalha, olho d'agua das flores, piranhas, pao de acucar, olho d agua das flores, sao jose da tapera, agua branca, jaramataia, olho d'água das flores, monteiropolis, pariconha, jacare dos homens, palestina, são josé da tapera, olho d'água do casado, santana do ipanema, poco das trincheiras, dois riachos, inhapi, mata grande, ouro branco, maravilha, major isidoro, cacimbinhas, poço das trincheiras, canapi, olivenca, carneiros, senador rui palmeira, igaci, estrela de alagoas, palmeira dos indios, boca da mata, maribondo, belem, tanque d'arca, palmeira dos índios, atalaia, anadia, taquarana, cha preta, cajueiro, vicosa, chã preta, paulo jacinto, quebrangulo, capela, viçosa, pindoba, mar vermelho, branquinha, santana do mundau, uniao dos palmares, sao jose da laje, união dos palmares, ibateguara, murici, são josé da laje, santana do mundaú, maragogi, sao luis do quitunde, joaquim gomes, japaratinga, novo lino, sao miguel dos milagres, campestre, matriz de camaragibe, porto calvo, paripueira, colonia leopoldina, barra de santo antonio, porto de pedras, flexeiras, colônia leopoldina, são luís do quitunde, passo de camaragibe, jacuípe, messias, jundia, barra de santo antônio, jacuipe, barra de  santo antônio, são miguel dos milagres\n",
      "\n",
      "AM : \n",
      "manaus, parintins, itacoatiara, silves, rio preto da eva, urucurituba, maues, nhamunda, boa vista do ramos, maués, urucará, itapiranga, sao sebastiao do uatuma, freguesia do andira, apui, borba, nova olinda do norte, careiro, careiro da varzea, autazes, apuí, manicore, novo aripuanã, manicoré, novo aripuana, tapauá, manaquiri, manacapuru, coari, tefe, codajas, caapiranga, anori, iranduba, maraã, codajás, maraa, japura, anama, tapaua, itamarati, carauari, tefé, alvaraes, jurua, benjamin constant, tabatinga, fonte boa, atalaia do norte, são paulo de olivença, tonantins, jutai, sao paulo de olivenca, amaturá, amatura, presidente figueiredo, novo airão, sao gabriel da cachoeira, barcelos, iauarete, novo airao, boca do acre, humaitá, labrea, humaita, pauini, eirunepé, ipixuna, guajara, guajará, lábrea, envira, eirunepe, canutama\n",
      "\n",
      "AP : \n",
      "macapa, serra do navio, laranjal do jari, macapá, santana, oiapoque, pedra branca do amapari, vitoria do jari, mazagao, clevelândia do norte, porto grande, amapa, calcoene, ferreira gomes, amapari, vitória do jari, clevelandia do norte\n",
      "\n",
      "BA : \n",
      "salvador, salvador , lauro de freitas, madre de deus, abrantes, dias d'avila, camacari, camaçari, dias d'ávila, monte gordo, catu de abrantes, dias davila, dias d avila, barra do jacuipe, arembepe, dias dávila, monte gordo (camacari) - distrito, simões filho, simoes filho, candeias, sao sebastiao do passe, são sebastião do passe, passé, menino jesus, são sebastião do passé, passagem dos teixeiras, sao francisco do conde, são francisco do conde, feira de santana, santo estevao, santa barbara, tanquinho, santo estevão, antonio cardoso, antônio cardoso, santo estêvão, conceicao do jacuipe, santo amaro, amelia rodrigues, coracao de maria, saubara, amélia rodrigues, irara, teodoro sampaio, conceição do jacuípe, terra nova, santanópolis, irará, coração de maria, santanopolis, acupe, cruz das almas, cachoeira, conceicao da feira, são félix, muritiba, governador mangabeira, sao goncalo dos campos, são gonçalo dos campos, conceição da feira, cabaceiras do paraguacu, sao felix, cabaceiras do paraguaçu, nazare, itaparica, nazaré, maragogipe, salinas da margarida, vera cruz, aratuipe, aratuípe, jaguaripe, sao roque do paraguacu, santo antonio de jesus, conceicao do almeida, são miguel das matas, sapeaçu, sapeacu, conceição do almeida, castro alves, santo antônio de jesus, rafael jambeiro, são felipe, sao miguel das matas, sao felipe, santa terezinha, varzedo, santa teresinha, muniz ferreira, dom macedo costa, mairi, capim grosso, ipira, capela do alto alegre, riachao do jacuipe, pe de serra, pintadas, pé de serra, nova fatima, baixa grande, riachão do jacuípe, várzea nova, gaviao, sao jose do jacuipe, serra preta, varzea da roca, ipirá, varzea nova, anguera, são josé do jacuípe, várzea da roça, ipecaeta, ipecaetá, jacobina, serrolandia, ponto novo, ourolandia, antônio gonçalves, miguel calmon, campo formoso, quixabeira, antonio goncalves, filadelfia, pindobacu, ourolândia, caem, varzea do poco, serrolândia, umburanas, pindobaçu, mirangaba, caém, saúde, caldeirao grande, filadélfia, saude, caldeirão grande, várzea do poço, morro do chapeu, cafarnaum, mulungu do morro, canarana, tapiramuta, piritiba, morro do chapéu, barro alto, mundo novo, salobro, tapiramutá, irece, joao dourado, central, irecê, uibai, presidente dutra, barra do mendes, lapao, america dourada, ibitita, ibipeba, jussara, lapão, sao gabriel, ibititá, são gabriel, joão dourado, uibaí, vitoria da conquista, vitória da conquista, barra do choca, ribeirao do largo, caatiba, tremedal, planalto, itambe, belo campo, candido sales, anage, encruzilhada, cândido sales, barra do choça, caraibas, itambé, lucaia, caraíbas, anagé, jequie, iguai, jitauna, pocoes, poções, itagi, jequié, boa nova, bom jesus da serra, ibicui, lafaiete coutinho, nova canaa, nova canaã, ibicuí, iguaí, catingal, mirante, manoel vitorino, jitaúna, aiquara, caetanos, iguaibi, jaguaquara, maracas, itirucu, milagres, nova itarana, itiruçu, brejoes, irajuba, maracás, amargosa, elisio medrado, santa ines, cravolândia, planaltino, cravolandia, itaquara, ubaira, lajedo do tabocal, santa inês, apuarema, engenheiro franca, brejões, ubaíra, valenca, itubera, mutuipe, wenceslau guimaraes, gandu, itamari, presidente tancredo neves, ituberá, valença, camamu, mutuípe, teolândia, taperoa, igrapiuna, teolandia, nilo peçanha, morro de sao paulo, nova ibia, laje, wenceslau guimarães, piraí do norte, jiquiriçá, pirai do norte, jequirica, taperoá, nilo pecanha, jiquirica, igrapiúna, cairu, morro de são paulo, jequiriçá, ibirataia, ibirapitanga, dario meira, itacare, ipiau, dário meira, itagiba, marau, itacaré, ubatã, barra do rocha, gongogi, ipiaú, ubata, maraú, ubaitaba, itagibá, ilhéus, itabuna, buerarema, ilheus, coaraci, itajuipe, urucuca, una, são josé da vitória, jussari, almadina, itapitanga, aurelino leal, barro preto, itajuípe, uruçuca, sao jose da vitoria, arataca, governador lomanto junior, itarantim, itororo, itapetinga, potiragua, firmino alves, macarani, ibicaraí, floresta azul, ibicarai, maiquinique, itororó, rio do meio, itape, potiraguá, santa cruz da vitoria, itaju do colonia, santa cruz da vitória, itapé, itaju do colônia, eunapolis, porto seguro, canavieiras, itamaraju, trancoso, belmonte, arraial d'ajuda, camacan, jucurucu, santa cruz cabralia, itabela, pau brasil, itagimirim, santa cruz cabrália, arraial d ajuda, eunápolis, mascote, santa luzia, guaratinga, itapebi, jucuruçu, teixeira de freitas, medeiros neto, mucuri, itanhém, caravelas, nova viçosa, prado, cumuruxatiba, itanhem, itabatan, ibirapua, posto da mata, itabata, alcobaca, ibirajá, ibirapuã, nova vicosa, alcobaça, ibiraja, batinga, lajedao, itabatan (mucuri), itupeva, vereda, rio de contas, brumado, malhada de pedras, livramento de nossa senhora, paramirim, erico cardoso, aracatu, dom basílio, dom basilio, érico cardoso, itaquarai, piripa, maetinga, condeuba, presidente janio quadros, rio do antonio, rio do antônio, mortugaba, condeúba, cordeiros, ibitira, piripá, guajeru, pindai, jacaraci, cacule, candiba, urandi, ibiassuce, ibiassucê, licinio de almeida, pindaí, caculé, licínio de almeida, tauape, irundiara, guanambi, carinhanha, iuiu, malhada, igapora, caetité, matina, feira da mata, palmas de monte alto, riacho de santana, caetite, lagoa real, sebastiao laranjeiras, sebastião laranjeiras, maniacu, igaporã, macaubas, tanque novo, botupora, ibipitanga, caturama, boquira, rio do pires, macaúbas, ibiajara, botuporã, jussiape, contendas do sincora, barra da estiva, ituacu, tanhaçu, tanhacu, abaira, ituaçu, abaíra, contendas do sincorá, boninal, piata, novo horizonte, ibitiara, iramaia, ibicoara, itaete, mucugê, mucuge, marcionílio souza, itaeté, inubia, marcionilio souza, piatã, inúbia, bonito, ruy barbosa, nova redencao, itaberaba, iacu, macajuba, boa vista do tupim, utinga, itatim, andarai, ubiraita, nova redenção, andaraí, joão amaro, iaçu, lajedinho, ibiquera, nova redencao bahia, seabra, wagner, palmeiras, lencois, iraquara, souto soares, lençóis, iraporanga, barra, buritirama, santa rita de cassia, muquém de são francisco, santa rita de cássia, muquem de sao francisco, muquem do sao francisco, mansidao, mansidão, remanso, pilao arcado, pilão arcado, campo alegre de lourdes, campo alegre de lourdes, bahia, brasil, casa nova, sento se, sento sé, santana do sobrado, xique-xique, itaguacu da bahia, gentio do ouro, itaguaçu da bahia, oliveira dos brejinhos, paratinga, brotas de macaúbas, morpara, ibotirama, brotas de macaubas, ipupiara, morpará, correntina, sao felix do coribe, serra do ramalho, bom jesus da lapa, santa maria da vitoria, cocos, coribe, sitio do mato, jaborandi, santa maria da vitória, são félix do coribe, sítio do mato, canápolis, santana, serra dourada, brejolandia, canapolis, tabocas do brejo velho, brejolândia, luis eduardo magalhaes, luís eduardo magalhães, barreiras, sao desiderio, são desidério, baianopolis, sítio grande, roda velha, catolândia, formosa do rio preto, angical, riachao das neves, wanderley, cristopolis, riachão das neves, cotegipe, cristópolis, alagoinhas, aramari, pojuca, entre rios, catu, pedrao, agua fria, água fria, aracas, araçás, ouricangas, boa uniao, mata de sao joao, mata de são joão, açu da torre, itanagra, conde, rio real, esplanada, apora, acajutiba, cardeal da silva, jandaira, jandaíra, itamira, aporá, novo triunfo, cicero dantas, nova soure, fatima, antas, cipo, inhambupe, cícero dantas, paripiranga, ribeira do pombal, heliopolis, olindina, banzaê, banzae, itapicuru, ribeira do amparo, crisopolis, adustina, fátima, sao joao da fortaleza, satiro dias, crisópolis, cipó, heliópolis, sátiro dias, euclides da cunha, jeremoabo, canudos, coronel joao sa, santa brigida, santa brígida, pedro alexandre, sitio do quinto, coronel joão sá, sítio do quinto, paulo afonso, gloria, rodelas, abare, abaré, chorrocho, macururé, barra do tarrachil, chorrochó, macurure, glória, ibo, serrinha, barrocas, tucano, retirolândia, araci, conceição do coité, conceicao do coite, teofilandia, ichu, retirolandia, biritinga, teofilândia, candeal, salgadalia, lamarao, cansancao, itiuba, valente, santaluz, cansanção, monte santo, queimadas, itiúba, sao domingos, quijingue, algodões, nordestina, são domingos, juazeiro, sobradinho, jaguarari, senhor do bonfim, uauá, curaçá, andorinha, curaca, uaua, carnaiba do sertao\n",
      "\n",
      "CE : \n",
      "fortaleza, caucaia, eusebio, eusébio, aquiraz, pacatuba, itaitinga, guaiuba, maracanau, maranguape, maracanaú, amanari, lages, sobral, alcântaras, forquilha, taperuaba, alcantaras, massape, coreau, carire, mucambo, meruoca, pacuja, santana do acarau, coreaú, cariré, groairas, rafael arruda, massapê, jaibaras, santana do acaraú, são josé do torto, pacujá, sao jose do torto, jordao, ipu, santa quiteria, nova russas, ipueiras, varjota, ararenda, catunda, pires ferreira, ipaporanga, reriutaba, hidrolândia, hidrolandia, santa quitéria, poranga, ararendá, tiangua, vicosa do ceara, carnaubal, sao benedito, guaraciaba do norte, frecheirinha, ubajara, tianguá, são benedito, viçosa do ceará, croata, ibiapina, graca, croatá, uruoca, camocim, granja, martinopole, chaval, moraujo, barroquinha, bitupita, martinópole, senador sa, marco, cruz, bela cruz, acarau, jijoca de jericoacoara, itapipoca, itarema, acaraú, deserto, morrinhos, amontada, miraima, caicara, paracuru, apuiares, tururu, paraipaba, sebastiao de abreu, sao goncalo do amarante, uruburetama, trairi, pecem, umirim, itapage, itapajé, irauçuba, itapaje, pentecoste, iraucuba, sao luis do curu, são gonçalo do amarante, são luís do curu, tejuçuoca, tejucuoca, apuiarés, redencao, barreira, capistrano, paramoti, redenção, caninde, guaramiranga, itapiuna, caridade, pacoti, canindé, baturite, mulungu, baturité, acarape, aracoiaba, aratuba, itapiúna, ocara, palmacia, lagoa do mato, general sampaio, itaicaba, cascavel, pacajus, aracati, beberibe, jaguaruana, icapui, fortim, horizonte, pindoretama, chorozinho, sucatinga, icapuí, caponga, queimados, sao joao do jaguaribe, russas, morada nova, limoeiro do norte, quixere, tabuleiro do norte, alto santo, iracema, ibicuitinga, potiretama, são joão do jaguaribe, sao joao de deus, palhano, lagoinha, flores, juazeiro do norte, crato, campos sales, barbalha, assaré, assare, nova olinda, santana do cariri, altaneira, salitre, araripe, farias brito, potengi, tarrafas, jardim, penaforte, caririacu, brejo santo, abaiara, missao velha, granjeiro, milagres, mauriti, porteiras, jati, caririaçu, missão velha, mangabeira, ipaumirim, aurora, lavras da mangabeira, barro, baixio, umari, ico, jaguaribe, jaguaribara, pereiro, icó, cedro, erere, feiticeiro, nova floresta, jaguaretama, varzea alegre, iguatu, antonina do norte, acopiara, quixelô, oros, catarina, carius, saboeiro, várzea alegre, aiuaba, jucas, quixelo, jucás, cariús, sao pedro, orós, guassussê, guassusse, taua, independencia, pedra branca, senador pompeu, arneiroz, parambu, piquet carneiro, solonopole, milha, deputado irapuan pinheiro, quiterianopolis, mombaça, mombaca, milhã, solonópole, tauá, mineirolândia, quiterianópolis, ibicua, crateus, novo oriente, crateús, monsenhor tabosa, sucesso, tamboril, boa viagem, quixeramobim, madalena, sao miguel, quixada, ibaretama, banabuiu, banabuiú, quixadá, juatama\n",
      "\n",
      "DF : \n",
      "brasilia, brasília, cruzeiro, guara, guará, paranoa, lago norte, lago sul, sao sebastiao, são sebastião, nucleo bandeirante, núcleo bandeirante, candangolândia, candangolandia, riacho fundo, riacho fundo 2, taguatinga, ceilandia, ceilandia norte, ceilândia, samambaia, gama, santa maria, recanto das emas, brazlândia, brazlandia, sobradinho, planaltina\n",
      "\n",
      "ES : \n",
      "vitória, vitoria, vila velha, serra, cariacica, aracruz, viana, fundao, coqueiral, praia grande, praia grande (fundão) - distrito, fundão, anchieta, rio novo do sul, guarapari, iconha, marechal floriano, domingos martins, alfredo chaves, piuma, vargem alta, araguaia, piúma, isabel, paraju, jacigua, arace, cachoeiro de itapemirim, castelo, ibatiba, presidente kennedy, venda nova do imigrante, itapemirim, irupi, marataizes, marataízes, conceicao do castelo, iuna, itaipava, iúna, conduru, muniz freire, conceição do castelo, itaoca, vargem grande do soturno, córrego dos monos, sao joao de vicosa, pacotuba, burarama, venda nova do imigrante-es, corrego dos monos, sao jose do calcado, mimoso do sul, muqui, atilio vivacqua, apiaca, bom jesus do norte, são josé do calçado, apiacá, sao jose das torres, alto calcado, cafe, alegre, jerônimo monteiro, divino de sao lourenco, dores do rio preto, guacui, ibitirama, jeronimo monteiro, celina, guaçuí, rive, são pedro de rates, divino de são lourenço, afonso claudio, santa maria de jetiba, santa teresa, sao roque do canaa, laranja da terra, itarana, santa leopoldina, sao roque do cannaa, joao neiva, santa maria de jetibá, afonso cláudio, joão neiva, ibiracu, são roque do canaã, itaguacu, brejetuba, itaguaçu, itaimbe, ibiraçu, santo antonio do canaa, sao joao de petropolis, santo antônio do canaã, acioli, colatina, são gabriel da palha, baixo guandu, pancas, vila valerio, mantenopolis, sao gabriel da palha, marilandia, vila verde, alto rio novo, governador lindenberg, mantenópolis, sao domingos do norte, aguia branca, marilândia, lajinha, novo brasil, são domingos do norte, quilometro 14 do mutum, vila valério, águia branca, santa luzia de mantenopolis, alto mutum preto, boa esperanca, ecoporanga, nova venecia, montanha, mucurici, vila pavao, agua doce do norte, barra de são francisco, barra de sao francisco, nova venécia, vila nelita, itabaiana, paulista, ponto belo, água doce do norte, boa esperança, santo agostinho, governador lacerda de aguiar, vila pavão, monte sinai, vinhatico, conceicao da barra, linhares, são mateus, sooretama, sao mateus, jaguare, pinheiros, pedro canário, rio bananal, sao joao do sobrado, braco do rio, pedro canario, braço do rio, conceição da barra, cristal do norte, jaguaré, sao jorge do tiradentes, itaunas, linharesl\n",
      "\n",
      "GO : \n",
      "novo gama, luziania, valparaiso de goias, cidade ocidental, valparaíso de goiás, luziânia, jardim abc de goias, aguas lindas de goias, pirenopolis, alexania, santo antonio do descoberto, corumba de goias, águas lindas de goiás, pirenópolis, santo antônio do descoberto, abadiania, cocalzinho de goias, cocalzinho de goiás, corumbá de goiás, abadiânia, alexânia, cavalcante, alto paraiso de goias, planaltina, alto paraíso de goiás, agua fria de goias, padre bernardo, teresina de goiás, teresina de goias, mimoso de goias, água fria de goiás, sao joao d'alianca, colinas do sul, são joão d'aliança, sao joao dalianca, planaltina de goias, mimoso de goiás, sao joao d alianca, formosa, cristalina, campos belos, divinopolis de goias, cabeceiras, sao domingos, monte alegre de goias, vila boa, nova roma, flores de goias, são domingos, flores de goiás, monte alegre de goiás, divinópolis de goiás, mambai, iaciara, simolandia, posse, simolândia, alvorada do norte, damianopolis, guarani de goias, damianópolis, mambaí, sitio d'abadia, buritinopolis, buritinópolis, goiania, goiânia, aparecida de goiania, aparecida de goiânia, anapolis, anápolis, ouro verde de goias, silvania, sao miguel do passa quatro, goianapolis, campo limpo de goias, gameleira de goias, bonfinopolis, silvânia, leopoldo de bulhoes, goianápolis, leopoldo de bulhões, sousania, bonfinópolis, terezópolis de goiás, são miguel do passa quatro, terezopolis de goias, orizona, senador canedo, cristianopolis, pires do rio, bela vista de goias, bela vista de goiás, vianopolis, palmelo, vianópolis, cristianópolis, caldazinha, santa cruz de goias, catalão, trindade, santa barbara de goias, aragoiânia, goianira, hidrolandia, guapo, avelinopolis, abadia de goias, santo antonio de goias, guapó, hidrolândia, varjao, aragoiania, santo antônio de goiás, campestre de goias, brazabrantes, inhumas, nova veneza, petrolina de goias, jesúpolis, neropolis, itaucu, petrolina de goiás, nerópolis, aracu, santa rosa de goias, sao francisco de goias, jesupolis, caturai, itauçu, santa rosa de goiás, caturaí, damolandia, araçu, são francisco de goiás, itumbiara, cachoeira dourada, vicentinopolis, bom jesus, vicentinópolis, bom jesus de goias, inaciolandia, inaciolândia, panama, goiatuba, caldas novas, corumbaiba, buriti alegre, pontalina, joviania, morrinhos, corumbaíba, mairipotaba, marzagao, porteirao, joviânia, aloandia, rio quente, aloândia, piracanjuba, agua limpa, cromínia, professor jamil, porteirão, marzagão, crominia, catalao, campo alegre de goias, goiandira, ipameri, urutai, nova aurora, cumari, santo antônio do rio verde, tres ranchos, ouvidor, três ranchos, davinopolis, santo antonio do rio verde, davinópolis, anhanguera, urutaí, jataí, sao simao, jatai, quirinopolis, cachoeira alta, portelandia, itaruma, mineiros, cacu, caiaponia, são simão, chapadão do céu, caiapônia, perolandia, doverlandia, serranopolis, chapadao do ceu, gouvelandia, santa rita do araguaia, itarumã, paranaiguara, lagoa santa, aparecida do rio doce, itaguacu, quirinópolis, aporé, palestina de goias, itaja, apore, caçu, gouvelândia, doverlândia, serranópolis, palestina de goiás, itajá, rio verde, edeia, maurilandia, santa helena de goias, acreuna, castelandia, santa helena de goiás, indiara, palminopolis, jandaia, edealina, montividiu, parauna, turvelandia, ouroana, santo antonio da barra, edéia, paraúna, sao joao da parauna, acreúna, palminópolis, maurilândia, turvelândia, castelândia, riverlandia, santo antônio da barra, palmeiras de goias, sao luis de montes belos, adelandia, buriti de goias, são luís de montes belos, sanclerlandia, corrego do ouro, anicuns, aurilandia, turvania, sanclerlândia, mossamedes, mossâmedes, moipora, cachoeira de goias, cezarina, palmeiras de goiás, americano do brasil, firminopolis, amorinopolis, nazario, córrego do ouro, cachoeira de goiás, firminópolis, ivolândia, ivolandia, nazário, buriti de goiás, amorinópolis, piranhas, arenopolis, jussara, ipora, baliza, bom jardim de goias, aragarcas, montes claros de goias, israelandia, novo brasil, itapirapuã, itapirapua, iporá, fazenda nova, diorama, aragarças, britania, montes claros de goiás, jaupaci, santa fe de goias, santa fé de goiás, bom jardim de goiás, britânia, jacilandia, rubiataba, goianesia, barro alto, ceres, morro agudo de goias, itapaci, jaragua, jaraguá, rialma, goianésia, carmo do rio verde, uruana, sao luiz do norte, rianapolis, hidrolina, rianápolis, nova glória, guarinos, sao patricio, vila propício, santa isabel, vila propicio, ipiranga de goias, nova america, nova américa, nova gloria, pilar de goias, ipiranga de goiás, são luiz do norte, santa rita do novo destino, morro agudo de goiás, uruacu, minacu, niquelandia, montividiu do norte, mara rosa, santa tereza de goiás, campinorte, niquelândia, formoso, uruaçu, campinacu, santa tereza de goias, minaçu, campinaçu, trombas, estrela do norte, nova iguacu de goias, amaralina, porangatu, crixas, bonopolis, santa terezinha de goiás, mundo novo, novo planalto, são miguel do araguaia, alto horizonte, sao miguel do araguaia, crixás, nova crixas, santa terezinha de goias, nova crixás, campos verdes, mutunopolis, bonópolis, uirapuru, mutunópolis, itaberai, goias, itaguaru, itaguari, itapuranga, itaberaí, goiás, guaraita, heitorai, taquaral de goias, heitoraí, taquaral de goiás, guaraíta, mozarlandia, araguapaz, mozarlândia, aruanã, matrincha, faina, aruana, matrinchã\n",
      "\n",
      "MA : \n",
      "sao luis, são luís, santa rita, paco do lumiar, sao jose de ribamar, rosario, primeira cruz, icatu, humberto de campos, axixa, rosário, bacabeira, são josé de ribamar, morros, raposa, santo amaro, paço do lumiar, presidente juscelino, penalva, pinheiro, são bento, viana, sao joao batista, boa vista do gurupi, governador nunes freire, palmeirandia, cajari, carutapera, santa helena, santa luzia do parua, cajapio, sao bento, nova olinda do maranhao, godofredo viana, presidente sarney, cururupu, sao vicente ferrer, matinha, centro novo do maranhao, centro do guilherme, olinda nova do maranhao, bacuri, serrano do maranhao, mirinzal, maracacume, presidente medici, luis domingues, guimaraes, junco do maranhão, luís domingues, central do maranhao, turiacu, são joão batista, cândido mendes, candido mendes, maranhaozinho, alcantara, peri mirim, centro novo do maranhão, alcântara, bacurituba, pedro do rosário, santa luzia do paruá, bequimao, maracaçumé, são vicente ferrer, olinda nova do maranhão, maranhãozinho, presidente médici, porto rico do maranhao, junco do maranhao, turilandia, turiaçu, cedral, apicum-acu, nova olinda do maranhão, amapá do maranhão, amapa do maranhao, bequimão, santa luzia, pindare mirim, sao joao do caru, vitoria do mearim, buriticupu, santa inês, bom jesus das selvas, igarape do meio, alto alegre do pindare, santa ines, bom jardim, vitorino freire, moncao, ze doca, alto alegre do pindaré, governador newton bello, altamira do maranhao, pindaré mirim, tufilândia, araguana, vitória do mearim, conceicao do lago-acu, zé doca, monção, brejo de areia, conceição do lago-açu, pindaré-mirim, bela vista do maranhao, são joão do carú, tufilandia, arari, coroata, codo, vargem grande, presidente vargas, itapecuru mirim, miranda do norte, sao mateus do maranhao, timbiras, anajatuba, pirapemas, são benedito do rio preto, codó, peritoro, nina rodrigues, matoes do norte, alto alegre do maranhao, cantanhede, coroatá, são mateus do maranhão, itapecuru-mirim, sao benedito do rio preto, peritoró, barreirinhas, chapadinha, tutoia, brejo, sao bernardo, mata roma, santa quiteria do maranhao, urbano santos, buriti, tutóia, araioses, araióses, milagres do maranhão, agua doce do maranhao, santana do maranhao, anapurus, magalhaes de almeida, barro duro, são bernardo, magalhães de almeida, paulino neves, belagua, afonso cunha, milagres do maranhao, água doce do maranhão, belágua, santana do maranhão, santa quitéria do maranhão, coelho neto, timon, colinas, caxias, lagoa do mato, buriti bravo, fortuna, parnarama, matões, sao joao dos patos, são joão dos patos, matoes, paraibano, jatobá, passagem franca, jatoba, barao de grajau, duque bacelar, sucupira do riachao, aldeias altas, sao francisco do maranhao, sao joao do soter, são joão do soter, são francisco do maranhão, barão de grajaú, olho d'água das cunhãs, pocao de pedras, presidente dutra, governador archer, lago da pedra, bacabal, tuntum, pedreiras, trizidela do vale, sao domingos do maranhao, lago verde, dom pedro, santo antonio dos lopes, lima campos, lago do junco, capinzal do norte, lago dos rodrigues, olho d'agua das cunhas, esperantinopolis, igarapé grande, joselandia, goncalves dias, governador eugenio barros, igarape grande, fatimarmnte dutra, olho d agua das cunhas, paulo ramos, lagoa grande do maranhao, poção de pedras, pio xii, senador alexandre costa, são luís gonzaga do maranhão, sao raimundo do doca bezerra, bom lugar, satubinha, governador luiz rocha, sao jose dos basilios, esperantinópolis, joselândia, sao roberto, são roberto, graca aranha, gonçalves dias, bernardo do mearim, santo antônio dos lopes, olho dágua das cunhãs, maraja do sena, governador eugênio barros, são raimundo do doca bezerra, lagoa grande do maranhão, são domingos do maranhão, santa filomena do maranhao, sao luis gonzaga do maranhao, balsas, sao raimundo das mangabeiras, pastos bons, alto parnaiba, loreto, sucupira do norte, são raimundo das mangabeiras, mirador, tasso fragoso, sao domingos do azeitao, fortaleza dos nogueiras, nova iorque, alto parnaíba, nova colinas, são félix de balsas, benedito leite, sao felix de balsas, imperatriz, acailandia, estreito, barra do corda, jenipapo dos vieiras, grajau, itaipava do grajau, carolina, itinga do maranhao, feira nova do maranhao, sao joao do paraiso, cidelandia, porto franco, joao lisboa, riachao, sitio novo, amarante do maranhao, campestre do maranhão, itinga do maranhão, sao francisco do brejao, campestre do maranhao, arame, sao pedro da agua branca, buritirana, vila nova dos martirios, vila nova dos martírios, são pedro da água branca, feira nova do maranhão, lajeado novo, senador la rocque, grajaú, açailândia, ribamar fiquene, montes altos, formosa da serra negra, davinopolis, governador edison lobao, são joão do paraíso, riachão, são francisco do brejão, governador edison lobão, sao pedro dos crentes, senador la roque, buritirama\n",
      "\n",
      "MG : \n",
      "belo horizonte, belo horizonta, bh, contagem, sarzedo, mário campos, mario campos, ibirite, ibirité, betim, igarapé, igarape, sao joaquim de bicas, são joaquim de bicas, santa luzia, vespasiano, sao jose da lapa, são josé da lapa, lagoa santa, confins, pedro leopoldo, vera cruz de minas, ribeirão das neves, ribeirao das neves, taquaracu de minas, taquaraçu de minas, nova lima, rio acima, raposos, sabara, sabará, ravena, caete, caeté, rocas novas, nova uniao, nova união, morro vermelho, governador valadares, timoteo, coronel fabriciano, ipatinga, itanhomi, pescador, nova modica, frei inocencio, timóteo, alpercata, tarumirim, ipaba, engenheiro caldas, vargem alegre, santana do paraiso, marlieria, mesquita, iapu, dom cavati, santana do paraíso, antônio dias, marilac, acucena, antonio dias, capitão andrade, mathias lobato, naque, periquito, tumiritinga, braunas, belo oriente, sao joao do oriente, sobralia, perpetuo socorro, sao jose do acacio, bugre, nova módica, braúnas, capitao andrade, fernandes tourinho, naque-nanuque, jaguaracu, sobrália, sao sebastiao de braunas, perpétuo socorro, frei inocêncio, são joão do oriente, goiabal, joanesia, baguari, chonim, joanésia, sao sebastiao da barra, açucena, sao vicente do rio doce, marliéria, mantena, itueta, aimores, conselheiro pena, mendes pimentel, resplendor, itabirinha, sao joao do manteninha, goiabeira, divino das laranjeiras, floresta, santa rita do itueto, sao sebastiao da vala, central de minas, itabirinha de mantena, cuparaque, sao geraldo do baixio, galileia, alvarenga, aimorés, central de santa helena, quatituba, limeira de mantena, sapucaia do norte, conceicao do capim, sao felix de minas, boa união de itabirinha, ferruginha, são josé do itueto, campo alegre de minas, nova belem, são félix de minas, barra do cuiete, são geraldo do baixio, calixto, são joão do manteninha, penha do capim, sao jose do itueto, barra do ariranha, boa uniao de itabirinha, são sebastião da vala, conceição do capim, independencia, aldeia, galiléia, abre campo, ubaporanga, matipo, caratinga, inhapim, urucania, sao pedro dos ferros, santa rita de minas, raul soares, rio casca, piedade de caratinga, imbé de minas, sericita, são domingos das dores, entre folhas, sao domingos das dores, matipó, bom jesus do galho, pedra bonita, são pedro dos ferros, jequeri, aguas ferreas, padre fialho, corrego novo, santa bárbara do leste, santa barbara do leste, sao sebastiao do anta, piedade de ponte nova, são sebastião do anta, santo antônio do grama, sao vicente do grama, vermelho novo, pingo-d'agua, urucânia, santo antonio do grama, imbe de minas, sapucaia, santa cruz do escalvado, bicuiba, pingo-d agua, santa efigenia, sao joao do jacutinga, vermelho velho, santa luzia de caratinga, granada, santana do tabuleiro, córrego novo, sao vicente da estrela, santo antonio do manhuacu, grota, moeda, ponte nova, mariana, itabirito, ouro preto, brumadinho, entre rios de minas, piedade dos gerais, amarantina, antonio pereira, cachoeira do campo, desterro de entre rios, itaguara, barra longa, antônio pereira, oratorios, rio doce, cachoeira do brumado, sao bras do suacui, amparo da serra, acaiaca, dom silverio, bonfim, belo vale, crucilandia, crucilândia, sem peixe, guaraciaba, santa rita durao, lavras novas, jeceaba, santo antonio do leite, passagem de mariana, monsenhor horta, claudio manuel, vau-acu, bandeirantes, diogo de vasconcelos, dom silvério, rio manso, santa rita de ouro preto, oratórios, santa rita durão, furquim, são brás do suaçuí, santo antônio do leite, sao bartolomeu, rodrigo silva, santana do paraopeba, piedade do paraopeba, rosario do pontal, oliveira, divinopolis, formiga, santo antonio do monte, luz, divinópolis, carmopolis de minas, nova serrana, arcos, lagoa da prata, carmópolis de minas, lamounier, santo antonio dos campos, perdigao, pimenta, são gonçalo do pará, pains, monsenhor joao alexandre, itapecerica, morro do ferro, carmo da mata, carmo do cajuru, camacho, piracema, sao francisco de paula, claudio, sao goncalo do para, sao sebastiao do oeste, santo antônio dos campos, são francisco de paula, esteios, cláudio, perdigão, neolândia, santo antônio do monte, pedra do indaia, pedra do indaiá, passa tempo, corrego fundo, são sebastião do oeste, neolandia, japaraíba, sao jose dos salgados, japaraiba, boa vista de minas, martins guimaraes, para de minas, itauna, pequi, juatuba, abaete, maravilhas, bom despacho, martinho campos, papagaios, morada nova de minas, pará de minas, moema, estrela do indaia, mateus leme, abaeté, itaúna, pitangui, araujos, pompeu, conceicao do para, florestal, ibitira, itatiaiucu, azurita, quartel geral, igaratinga, paineiras, dores do indaia, onca de pitangui, pompéu, dores do indaiá, araújos, sao jose da varginha, leandro ferreira, biquinhas, itatiaiuçu, engenho do ribeiro, cedro do abaete, são josé da varginha, serra da saudade, estrela do indaiá, alberto isaacson, santa terezinha de minas, conceição do pará, pocoes de paineiras, serra azul, antunes, antunes (igaratinga), torneiros, sete lagoas, paraopeba, matozinhos, curvelo, capim branco, prudente de morais, esmeraldas, baldim, santana de pirapama, funilandia, caetanópolis, caetanopolis, felixlandia, inhauma, fortuna de minas, são vicente, melo viana, jequitiba, cachoeira da prata, cordisburgo, mocambeiro, aracai, felixlândia, santa rita do cedro, funilândia, morro da garca, araçaí, sao vicente, inhaúma, anguereta, jequitibá, inimutaba, conceicao do mato dentro, carmesia, congonhas do norte, sao sebastiao do rio preto, ferros, esmeraldas de ferros, dom joaquim, santana do riacho, santo antonio do norte, conceição do mato dentro, jaboticatubas, itambe do mato dentro, santo antonio do rio abaixo, dores de guanhães, morro do pilar, passabém, santo antônio do rio abaixo, dores de guanhaes, gororos, itambé do mato dentro, carmésia, gororós, passabem, joao monlevade, nova era, barao de cocais, santa barbara, santa maria de itabira, itabira, bela vista de minas, sao goncalo do rio abaixo, rio piracicaba, alvinópolis, catas altas, joão monlevade, alvinopolis, barão de cocais, sao domingos do prata, dionísio, dionisio, santa bárbara, cocais, sao jose do goiabal, bom jesus do amparo, são domingos do prata, ipoema, são gonçalo do rio abaixo, são josé do goiabal, fonseca, senhora do carmo, barra feliz, juiz de fora, juíz de fora, lima duarte, ewbank da camara, santa barbara do monte verde, matias barbosa, santa rita de jacutinga, guarani, belmiro braga, goiana, rio pomba, pirauba, chacara, paiva, chácara, rio preto, merces, tabuleiro, rio novo, coronel pacheco, simao pereira, conceicao da ibitipoca, silveirania, piau, goianá, mercês, santana do garambeu, sarandira, olaria, piraúba, rosario de minas, pedro teixeira, barbacena, aracitaba, dores de campos, santos dumont, carandai, mantiqueira do palmital, cipotânea, barroso, carandaí, alto rio doce, senhora dos remedios, correia de almeida, capela nova, santa rita do ibitipoca, santa barbara do tugurio, antônio carlos, senhora das dores, alfredo vasconcelos, piedade do rio grande, desterro do melo, bias fortes, ressaquinha, antonio carlos, cipotanea, senhora dos remédios, santa bárbara do tugúrio, ibertioga, sao joao da serra, pinheiro grosso, costas da mantiqueira, abreus, oliveira fortes, vitorinos, dores do paraibuna, vitorinos - alto rio doce, são sebastião dos torres, sao joao del rei, lagoa dourada, tiradentes, resende costa, sao tiago, são joão del rei, conceicao da barra de minas, coronel xavier chaves, santa cruz de minas, itutinga, nazareno, são sebastião da vitória, prados, ritapolis, são tiago, merces de agua limpa, conceição da barra de minas, rio das mortes, sao sebastiao da vitoria, mercês de água limpa, ritápolis, conselheiro lafaiete, ouro branco, congonhas, casa grande, lamim, piranga, senhora de oliveira, rio espera, cristiano otoni, santana dos montes, presidente bernardes, queluzito, itaverava, caranaiba, alto maranhao, catas altas da noruega, caranaíba, pinheiros altos, santo antonio do pirapetinga, rio melo, vicosa, visconde do rio branco, cajuri, uba, ervalia, coimbra, ubá, sao geraldo, são miguel do anta, porto firme, tocantins, guidoval, sao miguel do anta, divinésia, teixeiras, viçosa, divinesia, ervália, senador firmino, são geraldo, rodeiro, guiricema, dores do turvo, araponga, paula candido, brás pires, cachoeira de santa cruz, canaa, bras pires, canaã, pedra do anta, descoberto, alem paraiba, sao domingos, sao joao nepomuceno, bicas, além paraíba, guarara, mar de espanha, pequeri, angustura, santo antônio do aventureiro, rochedo de minas, maripa de minas, senador cortes, santo antonio do aventureiro, são joão nepomuceno, santana do deserto, guarará, chiador, leopoldina, mirai, cataguases, pirapetinga, sao sebastiao da vargem alegre, recreio, santana de cataguases, cataguarino, astolfo dutra, palma, volta grande, estrela dalva, itamarati de minas, laranjal, argirita, itapirucu, dona euzebia, miraí, vista alegre, piacatuba, sereno, ribeiro junqueira, dona euzébia, cisneiros, sao manoel do guaiacu, tebas, eugenopolis, carangola, muriaé, divino, muriae, rosario da limeira, fervedouro, vieiras, orizania, espera feliz, tombos, faria lemos, miradouro, caparao, sao francisco do gloria, caiana, silveira carvalho, barao de monte alto, vermelho, patrocinio do muriae, antonio prado de minas, eugenópolis, antônio prado de minas, pedra dourada, macuco, rosário da limeira, patrocínio do muriaé, caparaó, cachoeira alegre, orizânia, alvorada, catune, barão de monte alto, ponte alta de minas, manhuacu, santa margarida, manhumirim, taparuba, simonesia, ipanema, martins soares, são joão do manhuaçu, alto jequitiba, caputira, mutum, manhuaçu, alto caparao, lajinha, santana do manhuacu, simonésia, sao jose do mantimento, sao pedro do avai, sao joao do manhuacu, realeza, pocrane, durande, luisburgo, alegria, alto jequitibá, ribeirao de sao domingos, chale, reduto, santana do manhuaçu, durandé, sao sebastiao do sacramento, são sebastião do sacramento, conceicao de ipanema, ribeirão de são domingos, chalé, são josé do mantimento, realeza (manhuacu), roseiral, alto caparaó, são pedro do avaí, varginha, boa esperanca, tres pontas, alfenas, carmo do rio claro, campos gerais, boa esperança, areado, paraguacu, serrania, conceicao da aparecida, eloi mendes, campo do meio, três pontas, divino espirito santo, monte belo, fama, santana da vargem, alterosa, guape, divisa nova, ilicinea, corrego do ouro, divino espírito santo, conceição da aparecida, guapé, elói mendes, ilicínea, paraguaçu, córrego do ouro, lavras, campo belo, perdoes, carmo da cachoeira, ingai, santo antonio do amparo, bom sucesso, itumirim, nepomuceno, coqueiral, santo antônio do amparo, candeias, perdões, carrancas, cristais, santana do jacare, santana do jacaré, macuco de minas, aguanil, ribeirao vermelho, cana verde, luminarias, ijaci, ribeirão vermelho, lavras mg, ibituruna, luminárias, ingaí, bom jardim de minas, liberdade, sao vicente de minas, andrelandia, passa vinte, madre de deus de minas, são vicente de minas, arantina, andrelândia, bocaina de minas, tabuao, são lourenço, sao lourenco, lambari, santana do capivari, itanhandu, heliodora, sao goncalo do sapucai, caxambu, tres coracoes, cambuquira, passa quatro, baependi, campanha, alagoa, jesuania, cruzilia, dom vicoso, conceição do rio verde, três corações, sao thome das letras, pouso alto, cristina, minduri, monsenhor paulo, virginia, carmo de minas, serranos, itamonte, soledade de minas, conceicao do rio verde, são thomé das letras, cordislandia, olimpio noronha, aiuruoca, são bento abade, carvalhos, turvolandia, cruzília, sao sebastiao do rio verde, sao bento abade, são sebastião do rio verde, seritinga, jesuânia, são gonçalo do sapucaí, virgínia, turvolândia, olímpio noronha, pouso alegre, maria da fe, itajuba, bueno brandao, itajubá, brasópolis, conceicao dos ouros, conceição dos ouros, cachoeira de minas, monte siao, santa rita do sapucai, brasopolis, brazopolis, ipuiuna, sao sebastiao da bela vista, ouro fino, santa rita do sapucaí, pedralva, borda da mata, são sebastião da bela vista, inconfidentes, jacutinga, careacu, natercia, sao jose do alegre, tocos do moji, estiva, luminosa, piranguinho, senador jose bento, delfim moreira, monte sião, espirito santo do dourado, conceicao das pedras, silvianopolis, são josé do alegre, senador josé bento, congonhal, maria da fé, wenceslau braz, bueno brandão, espírito santo do dourado, pirangucu, marmelopolis, natércia, albertina, brazópolis, careaçu, sao joao da mata, silvianópolis, crisolia, ipuiúna, conceição das pedras, são joão da mata, itaim, marmelópolis, cambui, monte verde, sapucai-mirim, extrema, cambuí, itapeva, camanducaia, senador amaral, paraisopolis, munhoz, gonçalves, bom repouso, toledo, paraisópolis, goncalves, consolacao, sapucaí-mirim, corrego do bom jesus, córrego do bom jesus, sao mateus de minas, pocos de caldas, poços de caldas, campestre, carvalhopolis, machado, andradas, botelhos, caldas, poco fundo, palmeiral, ibitiúra de minas, poço fundo, bandeira do sul, santa rita de caldas, ibitiura de minas, são gonçalo de botelhos, carvalhópolis, sao goncalo de botelhos, santana de caldas, guaxupé, guaxupe, muzambinho, cabo verde, sao pedro da uniao, arceburgo, guaranesia, juruaia, nova resende, guaranésia, santa cruz do prata, petunia, são pedro da união, ibiraci, monte santo de minas, itau de minas, cássia, capetinga, sao sebastiao do paraiso, passos, bom jesus da penha, piumhii, capitolio, são tomás de aquino, alpinopolis, sao joao batista do gloria, cassia, piumhi, pratapolis, itaú de minas, fortaleza de minas, são sebastião do paraíso, sao roque de minas, doresopolis, delfinopolis, delfinópolis, são joão batista do glória, capitólio, itamogi, sao tomas de aquino, vargem bonita, jacui, são roque de minas, sao jose da barra, claraval, pratápolis, guardinha, alpinópolis, jacuí, são josé da barra, doresópolis, são josé do barreiro, uberaba, araxa, araxá, sacramento, perdizes, prata, conceicao das alagoas, santa juliana, conceição das alagoas, conquista, delta, tapira, veríssimo, campo florido, agua comprida, pedrinopolis, nova ponte, ponte alta, verissimo, água comprida, pedrinópolis, guaxima, campina verde, iturama, frutal, planura, fronteira, limeira do oeste, sao sebastiao do pontal, são francisco de sales, itapagipe, uniao de minas, sao francisco de sales, carneirinho, são sebastião do pontal, pirajuba, alexandrita, comendador gomes, aparecida de minas, honorópolis, limeira do oeste mg, limeira d oeste, união de minas, estrela da barra, santa vitoria, ituiutaba, capinopolis, capinópolis, ipiaçu, canápolis, canapolis, santa vitória, cachoeira dourada, ipiacu, centralina, gurinhata, gurinhatã, chaveslandia, perdilandia, uberlandia, araguari, uberlândia, arapora, monte alegre de minas, tupaciguara, araporã, indianópolis, indianopolis, cascalho rico, amanhece, grupiara, tapuirama, martinesia, monte carmelo, abadia dos dourados, estrela do sul, coromandel, guarda-mor, irai de minas, romaria, douradoquara, iraí de minas, paracatu, unai, urucuia, unaí, bonfinopolis de minas, buritis, dom bosco, cabeceira grande, riachinho, arinos, formoso, uruana de minas, natalandia, chapada gaucha, chapada gaúcha, serra bonita, bonfinópolis de minas, natalândia, luizlandia do oeste, patos de minas, presidente olegario, lagoa grande, joao pinheiro, vazante, patrocinio, sao goncalo do abaete, lagoa formosa, guimarânia, brasilandia de minas, varjão de minas, serra do salitre, guimarania, patrocínio, lagamar, pilar, cruzeiro da fortaleza, joão pinheiro, presidente olegário, varjao de minas, são gonçalo do abaeté, sao joao da serra negra, brasilândia de minas, canabrava, silvano, luizlândia do oeste, santana de patos, brejo bonito, olhos d'agua do oeste, veredas, sao gotardo, carmo do paranaiba, são gotardo, tiros, rio paranaiba, carmo do paranaíba, quintinos, matutina, arapua, santa rosa da serra, rio paranaíba, guarda dos ferreiros, arapuá, ibia, pratinha, bambui, corrego danta, iguatama, campos altos, ibiá, bambuí, medeiros, tapirai, córrego danta, senador modestino goncalves, diamantina, serro, sao goncalo do rio preto, datas, rio vermelho, milho verde, gouveia, alvorada de minas, senador mourao, felício dos santos, senador modestino gonçalves, gouvea, serra azul de minas, couto de magalhaes de minas, felicio dos santos, santo antonio do itambe, presidente kubitschek, sao joao da chapada, sao goncalo do rio das pedras, desembargador otoni, santo antônio do itambé, couto de magalhães de minas, pedra menina, varzea da palma, pirapora, lassance, tres marias, corinto, buritizeiro, três marias, santo hipolito, buenópolis, buenopolis, sao romao, várzea da palma, augusto de lima, joaquim felicio, santa fe de minas, monjolos, guaicui, são romão, andrequice, joaquim felício, presidente juscelino, santo hipólito, santa fé de minas, sao joao do pacui, jequitai, sao francisco, são francisco, brasilia de minas, campo azul, olhos-d agua, japonvar, brasília de minas, bocaiuva, ponto chique, icaraí de minas, icarai de minas, bocaiúva, alvacao, ibiai, francisco dumont, olhos d'agua, patis, ibiaí, ubai, lagoa dos patos, sao joao da lagoa, coracao de jesus, claro dos pocoes, luislândia, mirabela, engenheiro navarro, guaraciama, olhos d'água, luislandia, claro dos poções, pintopolis, coração de jesus, ubaí, luiz pires de minas, pintópolis, bentópolis de minas, jequitaí, montes claros, janauba, januaria, são joão da ponte, janaúba, lontra, sao joao da ponte, manga, varzelandia, sao joao das missoes, itacarambi, januária, bonito de minas, montalvania, varzelândia, cacarema, pedras de maria da cruz, ibiracatu, capitao eneas, miravania, juvenilia, matias cardoso, verdelandia, sao sebastiao dos pocoes, montalvânia, são joão das missões, nova esperanca, capitão enéas, conego marinho, verdelândia, vila nova de minas, juvenília, caçarema, rio pardo de minas, taiobeiras, sao joao do paraiso, mato verde, serranopolis de minas, jaiba, porteirinha, berizal, vargem grande do rio pardo, salinas, itacambira, monte azul, mamonas, espinosa, riacho dos machados, catuti, jaíba, grão mogol, botumirim, francisco sa, fruta de leite, padre carvalho, novorizonte, nova porteirinha, santa cruz de salinas, rubelita, cristalia, grao mogol, montezuma, curral de dentro, indaiabira, juramento, francisco sá, ninheira, gameleiras, pai pedro, glaucilandia, cristália, josenopolis, adao colares, santo antonio do retiro, são joão do paraíso, catuni, santo antônio do retiro, tocandira, barreiro branco, itamarandiba, capelinha, virgem da lapa, aracuai, minas novas, malacacheta, turmalina, itaobim, coronel murta, chapada do norte, jose goncalves de minas, francisco badaro, medina, comercinho, angelândia, angelandia, carbonita, jenipapo de minas, ponto dos volantes, setubinha, franciscopolis, veredinha, berilo, araçuaí, aricanduva, leme do prado, itinga, franciscópolis, engenheiro schnoor, francisco badaró, tuparece, agua branca de minas, cacaratiba, mendonca, josé gonçalves de minas, santa maria do suacui, pecanha, guanhaes, sardoa, sao jose do jacuri, santa efigenia de minas, gonzaga, sao joao evangelista, sabinopolis, divinolandia de minas, guanhães, sao pedro do suacui, paulistas, materlandia, jose raydan, virginopolis, coroaci, coluna, peçanha, virgolandia, divinolândia de minas, são josé da safira, agua boa, são joão evangelista, santa maria do suaçuí, senhora do porto, água boa, virgolândia, cantagalo, virginópolis, correntinho, frei lagonegro, sao sebastiao do maranhao, sao geraldo da piedade, nacip raydan, materlândia, sapucaia de guanhaes, sardoá, sabinópolis, santa efigênia de minas, são josé do jacuri, sao geraldo do baguari, sao jose da safira, josé raydan, são sebastião do maranhão, são geraldo da piedade, nelson de sena, conceição de tronqueiras, são pedro do suaçuí, teofilo otoni, aguas formosas, pote, joaima, nanuque, bertopolis, novo cruzeiro, padre paraiso, teófilo otoni, itambacuri, itaipe, vila pereira, monte formoso, carai, frei gaspar, fronteira dos vales, machacalis, ladainha, novo oriente de minas, serra dos aimores, águas formosas, ouro verde de minas, campanario, carlos chagas, felisburgo, santa helena de minas, pavao, umburatiba, ataleia, catuji, queixada, crisolita, caraí, joaíma, jampruca, serra dos aimorés, nova santa luzia, padre paraíso, ponto do marambaia, concordia de mucuri, sao jose do divino, campanário, ataléia, pavão, bertópolis, itaipé, presidente pena, poté, pedro versiani, marambainha, mucuri, epaminondas otoni, topazio, são josé do divino, jequitinhonha, pedra azul, almenara, mata verde, jordania, aguas vermelhas, salto da divisa, jordânia, divisopolis, santo antonio do jacinto, jacinto, rubim, cachoeira de pajeú, bandeira, palmopolis, águas vermelhas, cachoeira de pajeu, rio do prado, santa maria do salto, avaí do jacinto, divisa alegre, santo antônio do jacinto, estrela de jordânia, itapiru, dois de abril, palmópolis, divisópolis, estrela de jordania\n",
      "\n",
      "MS : \n",
      "campo grande, ribas do rio pardo, maracaju, sidrolandia, rio brilhante, terenos, nova alvorada do sul, sidrolândia, prudencio thomaz, prudêncio thomaz, anhandui, vista alegre, anastacio, bonito, aquidauana, nioaque, jardim, porto murtinho, dois irmãos do buriti, bela vista, guia lopes da laguna, dois irmaos do buriti, caracol, anastácio, cipolandia, corumba, ladario, ladário, corumbá, miranda, bodoquena, sonora, sao gabriel do oeste, coxim, camapuã, bandeirantes, são gabriel do oeste, pedro gomes, rio verde de mato grosso, rio negro, corguinho, rochedo, camapua, pontinha do cocho, figueirao, jaraguari, figueirão, aparecida do taboado, cassilandia, costa rica, alcinópolis, inocencia, chapadao do sul, paraíso das águas, paranaiba, paraiso das aguas, chapadão do sul, paranaíba, alcinopolis, selviria, cassilândia, inocência, agua clara, brasilandia, tres lagoas, santa rita do pardo, três lagoas, água clara, brasilândia, arapua, nova andradina, bataguassu, ivinhema, angélica, fatima do sul, gloria de dourados, bataypora, batayporã, deodápolis, angelica, bataipora, fátima do sul, anaurilândia, lagoa bonita, anaurilandia, glória de dourados, jatei, vicentina, nova casa verde, taquarussu, deodapolis, novo horizonte do sul, sao jose, jateí, amandina, dourados, vila vargas, itapora, douradina, itaporã, montese, sao pedro, itahum, pirapora, amambai, mundo novo, caarapo, ponta pora, navirai, iguatemi, tacuru, paranhos, juti, eldorado, japorã, caarapó, itaquirai, sete quedas, coronel sapucaia, japora, ponta porã, laguna carapa, aral moreira, naviraí, antônio joão, amambaí, itaquiraí, sanga puita, antonio joao, cristalina, jutí, laguna carapã, vila marques\n",
      "\n",
      "MT : \n",
      "cuiabá, cuiaba, chapada dos guimarães, várzea grande, varzea grande, pocone, chapada dos guimaraes, poconé, santo antonio do leverger, cangas, barao de melgaco, nossa senhora do livramento, nossa senhora da guia, santo antônio do leverger, pontes e lacerda, jauru, figueiropolis d'oeste, mirassol d'oeste, gloria d'oeste, caceres, são josé dos quatro marcos, sao jose dos quatro marcos, curvelandia, araputanga, rio branco, salto do céu, cáceres, lambari d'oeste, nova lacerda, vila bela da santissima trindade, mirassol doeste, indiavai, vale de sao domingos, reserva do cabacal, salto do ceu, vale de são domingos, conquista d'oeste, porto esperidiao, figueiropolis d oeste, mirassol d oeste, curvelândia, figueirópolis d'oeste, porto esperidião, vila bela da santssima trindade, lambari doeste, sonho azul, figueirópolis doeste, lambari d%26apos%3boeste, figueiropolis doeste, vila bela da santíssima trindade, juina, tangara da serra, nova olimpia, denise, barra do bugres, cotriguaçu, campo novo do parecis, sapezal, colniza, comodoro, aripuana, tangará da serra, nova olímpia, cotriguacu, juína, campos de julio, aripuanã, porto estrela, castanheira, brasnorte, juruena, campos de júlio, rondolandia, itamarati norte, diamantino, lucas do rio verde, rosario oeste, nova mutum, nobres, alto paraguai, nortelandia, arenapolis, sao jose do rio claro, são josé do rio claro, jangada, santa rita do trivelato, nova maringa, santo afonso, nortelândia, nova marilândia, arenápolis, nova marilandia, novo diamantino, rosário oeste, acorizal, nova maringá, nova canaa do norte, sinop, colider, alta floresta, apiacás, guaranta do norte, juara, nova monte verde, colíder, matupa, ipiranga do norte, peixoto de azevedo, tabapora, novo mundo, nova guarita, tapurah, nova bandeirantes, marcelândia, apiacas, uniao do sul, claudia, porto dos gauchos, terra nova do norte, nova santa helena, itanhangá, marcelandia, itanhanga, cláudia, guarantã do norte, porto dos gaúchos, paranaita, itauba, matupá, carlinda, tabaporã, paranaíta, nova canaã do norte, novo horizonte do norte, santa carmem, itaúba, união do sul, colorado do norte, porto alegre do norte, nova xavantina, barra do garças, água boa, agua boa, canarana, araguaiana, barra do garcas, ribeiraozinho, confresa, sao jose do xingu, campinapolis, bom jesus do araguaia, santa terezinha, querencia, canabrava do norte, vila rica, alto boa vista, serra nova dourada, santa cruz do xingu, novo santo antonio, novo sao joaquim, cocalinho, pontal do araguaia, campinápolis, querência, ribeirao cascalheira, são félix do araguaia, ponte branca, ribeirão cascalheira, sao felix do araguaia, torixoreu, santo antonio do leste, luciara, santo antônio do leste, general carneiro, ribeirãozinho, araguainha, são josé do xingu, nova nazaré, novo são joaquim, rondonopolis, rondonópolis, alto taquari, itiquira, guiratinga, alto araguaia, pedra preta, tesouro, alto garcas, alto garças, são josé do povo, boa vista, sao jose do povo, primavera do leste, vera, campo verde, feliz natal, gaucha do norte, jaciara, sorriso, poxoreu, juscimeira, paranatinga, dom aquino, gaúcha do norte, poxoréu, nova ubiratã, nova brasilandia, planalto da serra, boa esperanca, sao pedro da cipa, boa esperança, nova ubirata, santa elvira\n",
      "\n",
      "PA : \n",
      "belem, belém, ananindeua, marituba, santarem, santarém, itaituba, juruti, jacareacanga, ruropolis, medicilandia, novo progresso, placas, uruara, brasil novo, prainha, trairao, medicilândia, mojui dos campos, trairão, rurópolis, trairâo, mojuí dos campos, mujui dos campos, belterra, uruará, oriximina, óbidos, monte alegre, terra santa, obidos, alenquer, almeirim, curua, porto trombetas, oriximiná, faro, tucuma, altamira, ourilandia do norte, castelo dos sonhos, sao felix do xingu, anapu, senador jose porfirio, porto de moz, tucumã, ourilândia do norte, gurupa, são félix do xingu, gurupá, bannach, cumaru do norte, vitoria do xingu, vitória do xingu, cameta, pacaja, tucuruí, abaetetuba, novo repartimento, tucurui, breu branco, limoeiro do ajuru, moju, pacajá, portel, barcarena, murucupi, igarape-miri, cametá, oeiras do para, mocajuba, oeiras do pará, bagre, melgaco, igarapé-miri, hidreletrica tucurui, hidrelétrica tucuruí, baiao, melgaço, vila dos cabanos, maiauata, baião, conceicao do araguaia, parauapebas, maraba, redencao, canaa dos carajas, brejo grande do araguaia, floresta do araguaia, conceição do araguaia, marabá, xinguara, jacunda, nova ipixuna, bom jesus do tocantins, curionópolis, curionopolis, itupiranga, abel figueiredo, redenção, santana do araguaia, eldorado dos carajas, picarra, jacundá, pau d'arco, canaã dos carajás, rio maria, são geraldo do araguaia, sapucaia, sao geraldo do araguaia, sao domingos do araguaia, agua azul do norte, palestina do para, eldorado dos carajás, piçarra, santa maria das barreiras, são domingos do araguaia, palestina do pará, carajas, pau d  arco, paragominas, sao miguel do guama, rondon do para, nova esperanca do piria, mae do rio, goianésia do pará, braganca, tailândia, goianesia do para, rondon do pará, ourem, tailandia, tome-acu, garrafao do norte, ulianópolis, ipixuna do para, bragança, dom eliseu, ulianopolis, acará, cachoeira do piriá, bujaru, sao domingos do capim, capitao poco, mãe do rio, nova esperança do piriá, concordia do para, são miguel do guamá, ourém, capitão poço, augusto correa, aurora do para, cachoeira do piria, irituia, santa luzia do para, viseu, bonito, concórdia do pará, cachoeira de piria, augusto corrêa, ipixuna do pará, garrafão do norte, tracuateua, tomé-açú, quatro bocas, acara, taliandia, são domingos do capim, tomé-açu, castanhal, capanema, nova timboteua, benevides, santa maria do para, santa isabel do pará, santa barbara do para, santa isabel do para, maracana, igarape-acu, vigia, salinópolis, salinopolis, sao francisco do para, santo antonio do taua, santo antônio do tauá, colares, santa maria do pará, sao joao de pirabas, curuca, primavera, maracanã, igarapé-açu, marapanim, benfica, quatipuru, peixe-boi, magalhaes barata, são francisco do pará, americano, curuçá, santarem novo, apeu, são joão de pirabas, terra alta, breves, ponta de pedras, muana, sao sebastiao da boa vista, são sebastião da boa vista, curralinho, anajás, soure, anajas, salvaterra, muaná, santa cruz do arari, cachoeira do arari, afuá, afua\n",
      "\n",
      "PB : \n",
      "joao pessoa, joão pessoa, areial, esperanca, cabedelo, barra de santa rosa, lagoa seca, cuite, soledade, picuí, picui, campina grande, pedra lavrada, cubati, alagoa nova, boa vista, pocinhos, sossego, nova floresta, massaranduba, frei martinho, barauna, damiao, montadas, esperança, puxinana, sao sebastiao de lagoa de roca, cuité, damião, matinhas, nova palmeira, guarabira, araruna, cuitegi, belém, mamanguape, rio tinto, jacarau, cacimba de dentro, mataraca, sertaozinho, caicara, bananeiras, aracagi, cuite de mamanguape, serra da raiz, itapororoca, belem, solânea, solanea, pirpirituba, capim, dona inês, jacaraú, curral de cima, piloezinhos, logradouro, dona ines, duas estradas, lagoa de dentro, pedro regis, casserengue, araçagi, pilõezinhos, pedras de fogo, santa rita, ingá, sape, bayeux, sao miguel de taipu, areia, riachão do bacamarte, alagoa grande, itabaiana, serra redonda, conde, mogeiro, caapora, arara, lucena, riachao do bacamarte, caaporã, serraria, sapé, algodão de jandaíra, remígio, mulungu, alagoinha, remigio, itatuba, pilões, mari, inga, pilar, gurinhem, caldas brandao, varzea nova, juripiranga, sobrado, alhandra, juarez tavora, salgado de sao felix, cruz do espirito santo, pitimbu, piloes, cruz do espírito santo, várzea nova, são josé dos ramos, queimadas, santa cecilia de umbuzeiro, santa cecilia, boqueirao, barra de sao miguel, natuba, umbuzeiro, fagundes, aroeiras, sao jose da mata, riacho de santo antonio, são josé da mata, cabaceiras, barra de santana, sao domingos do cariri, alcantil, santa cecília, sume, serra branca, monteiro, sao jose dos cordeiros, sumé, ouro velho, são joão do cariri, prata, camalau, congo, zabele, parari, amparo, sao joao do tigre, coxixola, pindurão, santa luzia do cariri, sao joao do cariri, camalaú, junco do seridó, santo andre, taperoa, santa luzia, livramento, tenorio, varzea, são mamede, juazeirinho, sao mamede, junco do serido, cacimbas, desterro, assuncao, várzea, gurjao, sao jose do sabugi, taperoá, são josé do sabugi, patos, aguiar, tavares, água branca, princesa isabel, nova olinda, teixeira, imaculada, condado, santana dos garrotes, mae d'agua, pedra branca, itaporanga, agua branca, olho d'água, mãe d'água, juru, sao jose do bonfim, malta, coremas, sao jose de caiana, pianco, matureia, igaracy, sao jose de princesa, catingueira, sao jose de espinharas, areia de baraunas, são josé do bonfim, santa teresinha, são josé de caiana, olho d'agua, piancó, vista serrana, são bentinho, catole do rocha, sousa, pombal, brejo do cruz, sao bento, riacho dos cavalos, sao bentinho, brejo dos santos, paulista, aparecida, marizopolis, sao jose da lagoa tapada, sao francisco, catolé do rocha, lagoa, sao jose do brejo do cruz, são josé da lagoa tapada, mato grosso, lastro, jerico, jericó, nazarezinho, são bento, santa cruz, bom sucesso, belem do brejo do cruz, cajazeiras, serra grande, carrapateira, são joão do rio do peixe, conceição, manaíra, manaira, conceicao, uirauna, diamante, santana de mangueira, sao jose de piranhas, cachoeira dos indios, sao joao do rio do peixe, ibiara, bernardino batista, bonito de santa fe, poco dantas, triunfo, boa ventura, uiraúna, bom jesus, santa helena, poco de jose de moura, monte horebe, santa ines, são josé de piranhas, joca claudino, cachoeira dos índios, santa inês\n",
      "\n",
      "PE : \n",
      "recife, olinda, paulista, abreu e lima, igarassu, aracoiaba, araçoiaba, itapissuma, fernando de noronha, ilha de itamaraca, itamaraca, ilha de itamaracá, jaboatao dos guararapes, jaboatão dos guararapes, jaboatão dos gurarapes, cabo de santo agostinho, santo agostinho, camaragibe, sao lourenco da mata, são lourenço da mata, nossa senhora da luz, moreno, caruaru, belo jardim, toritama, sao caitano, brejo da madre de deus, santa cruz do capibaribe, riacho das almas, sao domingos, tacaimbo, são caitano, serra do vento, fazenda nova, jatauba, água fria, são domingos, pesqueira, garanhuns, sanharo, pedra, alagoinha, venturosa, poção, pocao, sanharó, perpétuo socorro, sao bento do una, bom conselho, saloá, são bento do una, jupi, aguas belas, capoeiras, caetés, calcado, águas belas, ibirajuba, lajedo, saloa, caetes, cachoeirinha, correntes, lagoa do ouro, brejão, terezinha, iati, paranatama, jucati, palmeirina, rainha isabel, sao pedro, canhotinho, maraial, catende, altinho, sao joao, panelas, quipapa, jurema, cupira, agrestina, são joão, belem de maria, sao benedito do sul, lagoa dos gatos, santo antonio das queimadas, jaqueira, santo antônio das queimadas, batateira, são benedito do sul, angelim, cruzes, laje grande, ipojuca, água preta, ribeirão, escada, barreiros, xexeu, palmares, tamandare, rio formoso, ribeirao, sirinhaem, agua preta, tamandaré, amaraji, nossa senhora do ó, joaquim nabuco, nossa senhora do o, primavera, sao jose da coroa grande, são josé da coroa grande, cortes, sirinhaém, gameleira, camela, xexéu, cortês, vitoria de santo antao, bonito, barra de guabiraba, bezerros, gravata, gloria do goita, cha grande, camocim de sao felix, vitória de santo antão, são joaquim do monte, sairé, salgadinho, gravatá, saire, pombos, glória do goitá, passira, sao joaquim do monte, pirituba, cumaru, chã grande, camocim de são félix, frei miguelinho, taquaritinga do norte, surubim, vertentes, limoeiro, orobo, joao alfredo, feira nova, bom jardim, machados, vertente do lerio, santa maria do cambuca, orobó, bizarra, joão alfredo, casinhas, santa maria do cambucá, carpina, paudalho, sao vicente ferrer, alianca, timbauba, lagoa do carro, nazare da mata, ferreiros, cha de alegria, buenos aires, tracunhaem, nazaré da mata, vicencia, macaparana, tracunhaém, são vicente ferrer, lagoa do itaenga, chã de alegria, timbaúba, aliança, itambe, goiana, condado, itaquitinga, itambé, camutanga, salgueiro, oroco, parnamirim, moreilandia, terra nova, cabrobo, cedro, verdejante, granito, serrita, orocó, cabrobó, moreilândia, santa filomena, ipubi, exu, araripina, trindade, bodocó, ouricuri, bodoco, santa cruz, petrolina, santa maria da boa vista, lagoa grande, dormentes, afrânio, afranio, rajada, floresta, jatoba, carnaubeira da penha, petrolandia, belém do são francisco, belem de sao francisco, tacaratu, itacuruba, belem do sao francisco, petrolândia, jatobá, arcoverde, buique, tupanatinga, inajá, manari, itaíba, ibimirim, buíque, itaiba, inaja, sertania, custodia, sertânia, betânia, custódia, betania, tabira, itapetim, tuparetama, sao jose do egito, brejinho, solidao, santa terezinha, são josé do egito, santa cruz da baixa verde, flores, afogados da ingazeira, caraiba, triunfo, carnaíba, jabitaca, ingazeira, iguaraci, quixada, carnaiba, ibitiranga, quixabá, serra talhada, sao jose do belmonte, mirandiba, calumbi, são josé do belmonte\n",
      "\n",
      "PI : \n",
      "teresina, luzilandia, batalha, jose de freitas, barras, esperantina, uniao, boa hora, união, porto, matias olimpio, joca marques, josé de freitas, lagoa alegre, joaquim pires, miguel alves, luzilândia, murici dos portelas, cabeceiras do piaui, morro do chapeu do piaui, nossa senhora dos remedios, madeiro, matias olímpio, luis correia, altos, parnaiba, piripiri, parnaíba, sigefredo pacheco, piracuruca, capitao de campos, cocal, cocal dos alves, cajueiro da praia, campo maior, capitão de campos, pedro ii, são josé do divino, cocal de telha, lagoa de sao francisco, domingos mourao, luís correia, bom principio do piaui, buriti dos lopes, caxingo, sao jose do divino, milton brandao, sao joao da fronteira, ilha grande, brasileira, nossa senhora de nazare, caraubas do piaui, boqueirao do piaui, boqueirão do piauí, domingos mourão, beneditinos, santa cruz dos milagres, valenca do piaui, elesbao veloso, pimenteiras, sao miguel do tapuio, sao joao da serra, juazeiro do piaui, elesbão veloso, alto longa, buriti dos montes, valença do piauí, demerval lobao, castelo do piaui, juazeiro do piauí, passagem franca do piaui, são miguel do tapuio, castelo do piauí, são félix do piauí, são miguel da baixa grande, assuncao do piaui, lagoa do sitio, aroazes, sao felix do piaui, coivaras, prata do piaui, novo santo antonio, sao miguel da baixa grande, novo santo antônio, lagoa do piaui, hugo napoleão, jardim do mulato, francisco ayres, regeneração, hugo napoleao, regeneracao, sao goncalo do piaui, agua branca, agricolândia, sao pedro do piaui, barro duro, água branca, amarante, angical do piaui, arraial, palmeirais, agricolandia, curralinhos, olho d'água do piauí, lagoinha do piauí, monsenhor gil, miguel leao, lagoinha do piaui, angical do piauí, caridade do piaui, simoes, oeiras, inhuma, novo oriente do piaui, são josé do peixe, simões, jaicos, caridade do piauí, ipiranga do piaui, wall ferraz, campo grande do piaui, francinopolis, varzea grande, vera mendes, santo inacio do piaui, santa cruz do piaui, isaías coelho, floresta do piaui, colonia do piaui, sao francisco do piaui, sao jose do peixe, novo oriente do piauí, santa rosa do piaui, itainopolis, jaicós, isaias coelho, várzea grande, tanque do piaui, barra d'alcântara, campo grande do piauí, francinópolis, cajazeiras do piauí, sao miguel do fidalgo, são francisco do piauí, colônia do piauí, curral novo do piaui, santo inácio do piauí, barra d'alcantara, itainópolis, massape do piaui, sao joao da varjota, ipiranga do piauí, são miguel do fidalgo, picos, fronteiras, santo antonio de lisboa, alagoinha do piaui, bocaina, paqueta, pio ix, monsenhor hipolito, francisco santos, são julião, vila nova do piaui, dom expedito lopes, alegrete do piauí, monsenhor hipólito, sao jose do piaui, alegrete do piaui, marcolandia, caldeirao grande do piaui, santana do piaui, santana do piauí, marcolândia, padre marcos, sao joao da canabrava, sao juliao, caldeirão grande do piauí, alagoinha do piauí, belem do piaui, sao joao do piaui, são joão do piauí, capitao gervasio oliveira, acauã, várzea branca, conceicao do caninde, sao raimundo nonato, simplício mendes, paulistana, queimada nova, bela vista do piaui, pedro laurentino, dirceu arcoverde, nova santa rita, acaua, anisio de abreu, são raimundo nonato, bela vista do piauí, simplicio mendes, dom inocencio, ribeira do piaui, caracol, sao braz do piaui, paes landim, campinas do piaui, lagoa do barro do piaui, guaribas, sao francisco de assis do piaui, coronel jose dias, capitão gervásio oliveira, sao lourenco do piaui, são francisco de assis do piauí, varzea branca, betania do piaui, jurema, fartura do piauí, betânia do piauí, socorro do piaui, campo alegre do fidalgo, campinas do piauí, jacobina do piaui, guadalupe, baixa grande do ribeiro, floriano, eliseu martins, urucui, canto do buriti, landri sales, colonia do gurgueia, itaueira, tamboril do piaui, marcos parente, rio grande do piaui, brejo do piaui, uruçuí, manoel emídio, manoel emidio, rio grande do piauí, sebastiao leal, ribeiro goncalves, flores do piaui, antonio almeida, pavussu, colônia do gurguéia, porto alegre do piaui, pajeu do piaui, bertolinia, nazare do piaui, antônio almeida, flores do piauí, bertolínia, ribeiro gonçalves, palmeira do piauí, corrente, bom jesus, avelino lopes, monte alegre do piaui, santa luz, santa filomena, redencao do gurgueia, cristino castro, curimatá, curimata, gilbues, sao goncalo do gurgueia, alvorada do gurguéia, morro cabeça no tempo, alvorada do gurgueia, riacho frio, morro cabeca no tempo, parnagua, parnaguá, barreiras do piaui, cristalandia do piaui, barreiras do piauí, cristalândia do piauí, julio borges, palmeira do piaui\n",
      "\n",
      "PR : \n",
      "curitiba, * cidade, são josé dos pinhais, sao jose dos pinhais, tijucas do sul, paranagua, matinhos, pontal do parana, guaratuba, paranaguá, pontal do paraná, alexandra, ilha dos valadares, pinhais, morretes, piraquara, guaraquecaba, antonina, porto de cima, guaraqueçaba, colombo, quatro barras, tunas do parana, campina grande do sul, bocaiuva do sul, borda do campo, adrianópolis, bocaiúva do sul, adrianopolis, tunas do paraná, almirante tamandare, almirante tamandaré, rio branco do sul, itaperuçu, cerro azul, itaperucu, doutor ulysses, campo magro, campo largo, balsa nova, bugre, lapa, araucaria, araucária, contenda, mariental, fazenda rio grande, rio negro, campo do tenente, quitandinha, mandirituba, pien, piên, agudos do sul, areia branca dos assis, sao mateus do sul, são mateus do sul, antonio olinto, antônio olinto, ponta grossa, carambei, palmeira, castro, porto amazonas, colonia castrolanda, carambeí, sao joao do triunfo, socavao, são joão do triunfo, telemaco borba, pirai do sul, senges, jaguariaíva, telêmaco borba, jaguariaiva, figueira, curiuva, imbau, sengés, harmonia, piraí do sul, curiúva, sapopema, imbaú, reserva, tibagi, ortigueira, ventania, caetano mendes, prudentopolis, ivai, imbituva, guamiranga, candido de abreu, prudentópolis, ipiranga, cândido de abreu, ivaí, bom jardim do sul, reboucas, irati, mallet, teixeira soares, rio azul, rebouças, fernandes pinheiro, uniao da vitoria, união da vitória, general carneiro, bituruna, cruz machado, paulo frontin, paula freitas, porto vitoria, porto vitória, santana do itarare, salto do itararé, salto do itarare, jaboti, ibaiti, arapoti, siqueira campos, tomazina, japira, wenceslau braz, pinhalao, santana do itararé, sao jose da boa vista, são josé da boa vista, pinhalão, guarapuava, pinhao, inacio martins, candói, foz do jordao, marquinho, goioxim, candoi, turvo, inácio martins, cantagalo, pinhão, campina do simao, reserva do iguacu, vitoria, colonia vitoria, reserva do iguaçu, campina do simão, colônia vitória, foz do jordão, pitanga, manoel ribas, palmital, nova tebas, laranjal, altamira do parana, boa ventura de sao roque, mato rico, santa maria do oeste, altamira do paraná, boa ventura de são roque, laranjeiras do sul, nova laranjeiras, virmond, rio bonito do iguacu, rio bonito do iguaçu, porto barreiro, tres barras do parana, braganey, cafelandia, corbelia, espigao alto do iguacu, ubirata, guaraniacu, campo bonito, cafelândia, quedas do iguacu, nova aurora, ibema, anahy, catanduvas, ubiratã, corbélia, quedas do iguaçu, guaraniaçu, três barras do paraná, ouro verde do piquiri, diamante do sul, iguatu, espigão alto do iguaçu, palmas, pato branco, clevelandia, sulina, itapejara d'oeste, sao jorge doeste, coronel vivida, chopinzinho, saudade do iguaçu, vere, são joão, sao joao, mangueirinha, sao jorge d'oeste, bom sucesso do sul, são jorge d'oeste, cruzeiro do iguacu, mariopolis, saudade do iguacu, verê, vitorino, mariópolis, sao jorge do oeste, honorio serpa, itapejara d  oeste, coronel domingos soares, clevelândia, honório serpa, cruzeiro do iguaçu, dois irmãos, sao roque do chopim, francisco beltrao, dois vizinhos, salto do lontra, nova prata do iguacu, ampere, francisco beltrão, renascenca, marmeleiro, enéas marques, nova esperanca do sudoeste, nova esperança do sudoeste, santa izabel do oeste, boa esperanca do iguacu, eneas marques, salgado filho, flor da serra do sul, nova prata do iguaçu, manfrinopolis, flôr da serra do sul, ampére, renascença, boa esperança do iguaçu, capanema, realeza, planalto, santa lucia, santo antônio do sudoeste, bom jesus do sul, capitao leonidas marques, santo antonio do sudoeste, pranchita, pinhal de sao bento, boa vista da aparecida, pérola d'oeste, barracao, bela vista da caroba, alto alegre do iguacu, perola d'oeste, capitão leônidas marques, barracão, perola doeste, santa lúcia, foz do iguacu, céu azul, foz do iguaçu, cascavel, ceu azul, medianeira, missal, sao miguel do iguacu, diamante d  oeste, são miguel do iguaçu, santa tereza do oeste, formosa do oeste, santa terezinha de itaipu, santa helena, diamante d'oeste, matelandia, vera cruz do oeste, itaipulandia, jesuitas, sao jose das palmeiras, itaipulândia, matelândia, serranopolis do iguacu, rio do salto, ramilandia, sede alvorada, serranópolis do iguaçu, sao jose do itavo, lindoeste, iracema do oeste, jesuítas, ramilândia, aurora do iguacu, são josé das palmeiras, toledo, guaira, guaíra, marechal candido rondon, palotina, assis chateaubriand, marechal cândido rondon, quatro pontes, nova santa rosa, tupassi, novo sarandi, ouro verde do oeste, pato bragado, terra roxa, bragantina, maripá, maripa, tupãssi, vila nova, novo sobradinho, mercedes, santa rita do oeste, porto mendes, sao pedro do iguacu, entre rios do oeste, doutor oliveira castro, são camilo, dez de maio, são pedro do iguaçu, encantado d'oeste, londrina, sertanópolis, porecatu, primeiro de maio, florestopolis, tamarana, bela vista do paraíso, cambe, sertanopolis, alvorada do sul, cambé, bela vista do paraiso, paiquere, florestópolis, nova santa barbara, assai, nova america da colina, ibipora, santa cecilia do pavao, são sebastião da amoreira, urai, ibiporã, sao sebastiao da amoreira, nova santa bárbara, jataizinho, assaí, nova américa da colina, sao jeronimo da serra, uraí, rancho alegre, são jerônimo da serra, santa cecília do pavão, cruzeiro do norte, cornelio procopio, congonhinhas, cambara, bandeirantes, cambará, andira, santa amelia, andirá, barra do jacare, sertaneja, cornélio procópio, nova fatima, leopolis, santa mariana, itambaraca, leópolis, santo antonio do paraiso, barra do jacaré, panema, nova fátima, itambaracá, santa amélia, congonhas, joaquim tavora, jacarezinho, santo antonio da platina, quatigua, ribeirao do pinhal, santo antônio da platina, quatiguá, carlopolis, ribeirao claro, conselheiro mairinck, guapirama, carlópolis, abatia, ribeirão do pinhal, joaquim távora, jundiaí do sul, jundiai do sul, ribeirão claro, abatiá, lupionopolis, rolandia, santo inacio, rolândia, itaguaje, colorado, são martinho, jaguapitã, centenario do sul, jaguapita, nossa senhora das gracas, prado ferreira, lupionópolis, miraselva, guaraci, cafeara, santo inácio, centenário do sul, santa ines, nossa senhora das graças, santa inês, pitangueiras, alto alegre, itaguajé, bentopolis, sao martinho, astorga, arapongas, florida, lobato, iguaracu, santa fe, munhoz de melo, sabaudia, ângulo, angulo, icara, santa fé, santa zelia, iguaraçu, sabáudia, apucarana, jardim alegre, maua da serra, cruzmaltina, vila reis, ivaipora, rosário do ivaí, marilândia do sul, faxinal, rio branco do ivai, rosario do ivai, ariranha do ivai, california, lidianopolis, ariranha do ivaí, marilandia do sul, rio bom, grandes rios, arapua, ivaiporã, cambira, califórnia, pirapo, mauá da serra, novo itacolomi, rio branco do ivaí, arapuã, godoy moreira, marialva, jandaia do sul, marumbi, mandaguari, borrazopolis, são pedro do ivaí, sao pedro do ivai, lunardelli, barbosa ferraz, corumbatai do sul, sao joao do ivai, kalore, fenix, kaloré, borrazópolis, bom sucesso, luar, fênix, aquidaban, são joão do ivaí, ubauna, maringá, maringa, mandaguacu, paicandu, sarandi, sao jorge do ivai, doutor camargo, ourizona, paiçandu, são jorge do ivaí, mandaguaçu, floresta, ivatuba, florai, presidente castelo branco, itambe, itambé, floraí, água boa, pulinopolis, cianorte, peabiru, araruna, luiziana, engenheiro beltrao, iretama, sao tome, quinta do sol, são manoel do paraná, indianopolis, ivailandia, terra boa, japura, jussara, engenheiro beltrão, japurá, sao manoel do parana, são tomé, vidigal, campo mourao, janiopolis, moreira sales, roncador, goioere, mambore, juranda, campina da lagoa, nova cantu, campo mourão, mamborê, rancho alegre d'oeste, quarto centenario, goioerê, farol, boa esperança, boa esperanca, rancho alegre d  oeste, 4o. centenario, quarto centenário, janiópolis, rio verde, 4º centenario, paraná d'oeste, tapejara, douradina, mariluz, tuneiras do oeste, cruzeiro do oeste, nova olimpia, maria helena, nova olímpia, sao silvestre, altonia, umuarama, iporã, perola, guaipora, ipora, pérola, sao jorge do patrocinio, xambre, brasilândia do sul, ivate, icaraima, alto piquiri, perobal, cafezal do sul, francisco alves, serra dos dourados, rio bonito, brasilandia do sul, esperanca nova, icaraíma, alto paraíso, ivaté, alto paraiso, jangada, altônia, santa eliza, xambrê, são jorge do patrocínio, uniflor, cruzeiro do sul, paranacity, nova esperança, inajá, nova esperanca, atalaia, inaja, paranapoema, jardim olinda, alto parana, paranavai, paranavaí, são carlos do ivaí, paraiso do norte, são joão do caiuá, sao joao do caiua, tamboara, sao carlos do ivai, paraíso do norte, alto paraná, santo antonio do caiua, nova alianca do ivai, graciosa, santo antônio do caiuá, nova aliança do ivaí, guairaca, cidade gaucha, tapira, terra rica, rondon, mirador, planaltina do parana, amapora, cidade gaúcha, guaporema, amaporã, adhemar de barros, planaltina do paraná, guairaçá, santa cruz de monte castelo, itauna do sul, nova londrina, loanda, marilena, querencia do norte, santa isabel do ivai, porto rico, querência do norte, santa mônica, santa monica, são pedro do paraná, sao pedro do parana, diamante do norte, porto sao jose, itaúna do sul, santa isabel do ivaí, sao jose do ivai\n",
      "\n",
      "RJ : \n",
      "rio de janeiro, rio de janeiro, rio de janeiro, brasil, rj, rio janeiro, campo grande, seropedica, itaguai, itaguaí, mangaratiba, itacurussa, vila muriqui, seropédica, conceicao de jacarei, itacurussá, conceição de jacareí, parati, paraty, angra dos reis, ilha grande, parati mirim, niterói, niteroi, sao goncalo, são gonçalo, itaborai, itaboraí, tanguá, tangua, marica, maricá, inoa, duque de caxias, são joão de meriti, sao joao de meriti, petropolis, petrópolis, sao jose do vale do rio preto, são josé do vale do rio preto, paraiba do sul, tres rios, comendador levy gasparian, werneck, três rios, areal, sapucaia, jamapara, paraíba do sul, nossa senhora da aparecida, anta, jamapará, piao, afonso arinos, guapimirim, teresopolis, magé, mage, teresópolis, guia de pacobaiba, piabeta, inhomirim, santo aleixo, guia de pacobaíba, ´teresopolis, nova iguacu, nova iguaçu, belford roxo, queimados, japeri, mesquita, nilopolis, nilópolis, paracambi, engenheiro paulo de frontin, sacra familia do tingua, sacra família do tinguá, mendes, miguel pereira, paty do alferes, governador portela, avelar, conrado, pirai, barra do pirai, pinheiral, barra do piraí, sao jose do turvo, califórnia da barra, piraí, arrozal, ipiabas, vargem alegre, california da barra, dorandia, santanesia, california da barra (barra do pirai), são josé do turvo, volta redonda, barra mansa, rio claro, quatis, lidice, lídice, getulândia, passa tres, passa três, resende, porto real, itatiaia, visconde de maua, penedo, penedo (itatiaia), engenheiro passos, valenca, taboas, rio das flores, barao de juparana, conservatória, valença, conservatoria, barão de juparana, santa isabel do rio preto, manuel duarte, parapeuna, vassouras, andrade pinto, macae, macaé, carapebus, glicerio, sana, frade, campos dos goytacazes, campos dos goytacaze, goitacazes, cardoso moreira, vila nova de campos, santo amaro de campos, sao sebastiao de campos, santa maria, travessao, tocos, morro do coco, italva, sao joao da barra, barcelos, sao francisco de itabapoana, são joão da barra, são francisco de itabapoana, bom jesus do itabapoana, natividade, itaperuna, varre-sai, porciuncula, retiro do muriaé, laje do muriaé, laje do muriae, comendador venancio, raposo, porciúncula, retiro do muriae, purilandia, boa ventura, santa clara, calheiros, carabucu, carabuçu, sao fidelis, santo antonio de padua, miracema, aperibe, cambuci, sao joao do paraiso, são fidélis, colonia, aperibé, sao jose de uba, pureza, santo antônio de pádua, são joão do paraíso, são josé de ubá, monte alegre, tres irmaos, cambiasca, colônia, ipuca, paraiso do tobias, macuco, cordeiro, portela, cantagalo, sao sebastiao do alto, itaocara, laranjais, são sebastião do alto, ipituna, boa sorte, santa rita da floresta, valao do barro, nova friburgo, japuiba, carmo, cachoeiras de macacu, bom jardim, duas barras, papucaia, sumidouro, banquete, japuíba, porto velho do cunha, sao jose do ribeirao, trajano de moraes, conceicao de macabu, quissama, quissamã, santa maria madalena, trajano de morais, conceição de macabu, visconde de imbe, rio das ostras, rio bonito, casimiro de abreu, silva jardim, barra de sao joao, boa esperança, barra de são joão, boa esperanca, cabo frio, arraial do cabo, araruama, armacao dos buzios, sao pedro da aldeia, saquarema, iguaba grande, armação dos búzios, armacao de buzios, sao vicente de paula, são vicente de paula, são pedro da aldeia, búzios, buzios, bacaxa, tamoios (cabo frio), bacaxa (saquarema) - distrito, sampaio correia, ...arraial do cabo\n",
      "\n",
      "RN : \n",
      "são paulo, natal, parnamirim, sao jose de mipibu, espirito santo, goianinha, varzea, nísia floresta, espírito santo, vila flor, são josé de mipibu, baía formosa, canguaretama, tibau do sul, monte alegre, montanhas, arez, nisia floresta, pedro velho, pipa, baia formosa, jundiá, vera cruz, jundia, santa cruz, macaiba, sao goncalo do amarante, santo antonio, serra de sao bento, sao jose do campestre, boa saude, nova cruz, são gonçalo do amarante, santo antônio, jacana, macaíba, tangara, campo redondo, coronel ezequiel, tangará, lagoa d'anta, lajes pintadas, passa e fica, brejinho, bom jesus, serra caiada, são josé do campestre, jaçanã, japi, monte das gameleiras, sao bento do trairi, lagoa salgada, senador eloi de souza, serrinha, jucurutu, sao jose do serido, parelhas, currais novos, lagoa nova, jardim do serido, caico, ouro branco, jardim de piranhas, sao vicente, florania, acari, caicó, sao joao do sabugi, tenente laurentino cruz, sao fernando, cruzeta, santana do serido, carnauba dos dantas, equador, serra negra do norte, jardim do seridó, ipueira, carnaúba dos dantas, santana do seridó, cerro cora, cerro corá, timbauba dos batistas, são vicente, lagoa de velhos, são paulo do potengi, sao paulo do potengi, ruy barbosa, sao tome, ielmo marinho, riachuelo, serra da tapuia, barcelona, sitio novo, santa maria, são pedro, são tomé, sao pedro, santana do matos, guamaré, fernando pedroza, são miguel do gostoso, alto do rodrigues, angicos, touros, ceará-mirim, joão câmara, joao camara, macau, caicara do rio do vento, extremoz, ceara-mirim, sao miguel do gostoso, afonso bezerra, galinhos, bodo, jandaira, poco branco, pedro avelino, pedra grande, pendencias, ipanguacu, guamare, caiçara do norte, sao miguel de touros, caicara do norte, lajes, taipu, sao rafael, são rafael, itaja, sao bento do norte, parazinho, caiçara do rio do vento, jandaíra, rio do fogo, ceara mirim, ipanguaçu, pendências, pureza, bento fernandes, itajá, mossoro, mossoró, campo grande, acu, areia branca, açu, grossos, janduis, parau, carnaubais, porto do mangue, triunfo potiguar, barauna, baraúna, tibau, upanema, serra do mel, janduís, paraú, apodi, patu, caraúbas, almino afonso, olho-d'água do borges, messias targino, caraubas, governador dix-sept rosado, felipe guerra, olho-d agua do borges, rafael godeiro, olho-d'agua do borges, rodolfo fernandes, lucrecia, umarizal, antonio martins, martins, portalegre, antônio martins, serrinha dos pintos, frutuoso gomes, itaú, lucrécia, riacho da cruz, vicosa, itau, severiano melo, taboleiro grande, joão dias, joao dias, pau dos ferros, sao miguel, sao francisco do oeste, agua nova, marcelino vieira, encanto, piloes, luis gomes, tenente ananias, riacho de santana, são francisco do oeste, josé da penha, alexandria, luís gomes, major sales, são miguel, jose da penha, pilões, venha-ver, coronel joao pessoa, doutor severiano, rafael fernandes, francisco dantas, parana\n",
      "\n",
      "RO : \n",
      "porto velho, itapua do oeste, guajara-mirim, jaru, buritis, campo novo de rondonia, monte negro, cacaulândia, candeias do jamari, theobroma, ariquemes, alto paraiso, cujubim, guajará-mirim, governador jorge teixeira, extrema, machadinho d'oeste, mutum parana, nova mamoré, jaci parana, alto paraíso, vale do anari, cacaulandia, machadinho d oeste, nova mamore, rio crespo, guajara mirim, vista alegre do abuna, nova california, campo novo de rondônia, machadinho doeste, rolim de moura, alta floresta d'oeste, nova brasilandia d'oeste, sao francisco do guapore, ji-parana, ouro preto do oeste, seringueiras, colorado do oeste, pimenta bueno, espigao do oeste, teixeirópolis, vale do paraíso, cacoal, costa marques, ji-paraná, sao miguel do guapore, nova brasilandia doeste, chupinguaia, cerejeiras, vilhena, presidente medici, urupá, cabixi, nova brasilândia d'oeste, corumbiara, primavera de rondonia, nova brasilandia d oeste, novo horizonte do oeste, alvorada d'oeste, alto alegre dos parecis, alta alegre dos parecis, são miguel do guaporé, santa luzia d'oeste, urupa, alta floresta do oeste, espigão do oeste, mirante da serra, pimenteiras do oeste, sao felipe d'oeste, teixeiropolis, vale do paraiso, são francisco do guaporé, presidente médici, santa luzia doeste, alvorada do oeste, parecis, ministro andreazza, são felipe d'oeste, nova uniao, castanheiras, alta floresta doeste, primavera de rondônia\n",
      "\n",
      "RR : \n",
      "boa vista, mucajai, pacaraima, bonfim, sao joao da baliza, alto alegre, sao luiz, caracarai, caroebe, rorainopolis, normandia, rorainópolis, iracema, caracaraí\n",
      "\n",
      "RS : \n",
      "nova andradina, porto alegre, porto aelgre, canoas, nova santa rita, guaiba, guaíba, sertao santana, sertão santana, eldorado do sul, mariana pimentel, sao leopoldo, são leopoldo, portao, portão, sapucaia do sul, esteio, novo hamburgo, estância velha, estancia velha, campo bom, sapiranga, nova hartz, ararica, araricá, morro reuter, dois irmaos, ivoti, lindolfo collor, santa maria do herval, dois irmãos, presidente lucena, gravatai, gravataí, glorinha, viamao, viamão, capao da porteira, aguas claras, alvorada, cachoeirinha, caxias do sul, carlos barbosa, sao marcos, farroupilha, nova petrópolis, pinhal alto, nova petropolis, picada cafe, nova sardenha, picada café, jansen, são marcos, arco verde, fazenda souza, santa lucia do piai, nova milano, vacaria, flores da cunha, sao jose dos ausentes, antonio prado, bom jesus, antônio prado, ipe, campestre da serra, ipê, monte alegre dos campos, nova roma do sul, otavio rocha, muitos capoes, são josé dos ausentes, nova pádua, nova padua, lagoa vermelha, nova prata, parai, veranópolis, ibiraiaras, veranopolis, fagundes varela, sao jorge, vila flores, caseiros, nova bassano, vista alegre do prata, barracao, cotipora, nova araca, guabiju, barracão, andre da rocha, pinhal da serra, cotiporã, protasio alves, andré da rocha, esmeralda, nova araçá, paraí, sao francisco de paula, cambara do sul, são francisco de paula, jaquirana, cambará do sul, osvaldo kroeff, santo antonio da patrulha, cidreira, tramandai, torres, capao da canoa, palmares do sul, morrinhos do sul, osorio, xangri-la, três cachoeiras, osório, arroio do sal, capivari do sul, capão da canoa, tramandaí, rainha do mar, balneario pinhal, maquine, santo antônio da patrulha, capao novo, tres cachoeiras, terra de areia, dom pedro de alcantara, maquiné, quintao, xangri-lá, balneário pinhal, caraa, itati, tres forquilhas, dom pedro de alcântara, santa luzia, xangrila, curumim, caraá, tres coroas, três coroas, canela, gramado, taquara, imbe, parobe, imbé, rolante, igrejinha, riozinho, parobé, salvador do sul, sao sebastiao do cai, bento goncalves, alto feliz, bom princípio, roca sales, montenegro, sao vendelino, são sebastião do caí, garibaldi, bento gonçalves, marata, feliz, bom principio, tupandi, coronel pilar, capela de santana, barao, barão, sao jose do hortencio, monte belo do sul, linha nova, harmonia, brochier, pareci novo, vale real, boa vista do sul, sao jose do sul, sao pedro da serra, vale dos vinhedos, são vendelino, pinto bandeira, poço das antas, poco das antas, tuiuti, são pedro da serra, são josé do hortêncio, bom retiro do sul, venancio aires, teutonia, teutônia, estrela, taquari, triunfo, venâncio aires, imigrante, general camara, general câmara, westfalia, fazenda vilanova, mato leitão, westfália, vale verde, mato leitao, paverama, colinas, tabai, nova alvorada, lajeado, muçum, encantado, progresso, arvorezinha, cruzeiro do sul, arroio do meio, boqueirao do leao, santa clara do sul, nova brescia, boqueirão do leão, anta gorda, capitao, ilopolis, doutor ricardo, relvado, serio, putinga, mucum, sério, ilópolis, nova bréscia, pouso novo, capitão, marques de souza, canudos do vale, itapuca, coqueiro baixo, forquetinha, vespasiano correa, itapucá, travesseiro, pelotas, sao lourenco do sul, camaqua, dom feliciano, capao do leao, são lourenço do sul, arambaré, chuvisca, cristal, camaquã, morro redondo, capão do leão, arambare, arroio do padre, colônia z-3, turuçu, colonia z-3, turucu, santa vitoria do palmar, quilombo, monte bonito, são josé do norte, rio grande, santa vitória do palmar, tavares, mostardas, chui, sao jose do norte, chuí, quinta, jaguarao, arroio grande, pedro osorio, cerrito, jaguarão, herval, pedro osório, bage, pinheiro machado, dom pedrito, candiota, bagé, hulha negra, piratini, acegua, pedras altas, aceguá, colonia nova, colônia nova, cachoeira do sul, cacapava do sul, paraiso do sul, santana da boa vista, caçapava do sul, paraíso do sul, agudo, novo cabrais, cerro branco, cortado, cangucu, rio pardo, canguçu, encruzilhada do sul, pantano grande, passo do sobrado, amaral ferrador, pântano grande, arroio dos ratos, charqueadas, sao jeronimo, tapes, barra do ribeiro, butia, minas do leao, cerro grande do sul, minas do leão, butiá, são jerônimo, sentinela do sul, barao do triunfo, barão do triunfo, santa cruz do sul, vera cruz, sinimbu, vale do sol, monte alverne, herveiras, gramado xavier, sobradinho, candelaria, passa sete, estrela velha, arroio do tigre, ibarama, candelária, segredo, lagoa bonita do sul, santa maria, itaara, dilermando de aguiar, silveira martins, são martinho da serra, sao martinho da serra, faxinal do soturno, nova palma, restinga seca, sao joao do polesine, formigueiro, dona francisca, sao gabriel, sao sepe, são gabriel, lavras do sul, vila nova do sul, são sepé, santa margarida do sul, sao vicente do sul, sao pedro do sul, são pedro do sul, mata, cacequi, são vicente do sul, toropi, uruguaiana, santana do livramento, rosario do sul, alegrete, quarai, quaraí, rosário do sul, sant'ana do livramento, barra do quaraí, barra do quarai, barrado quarai, sao francisco de assis, sao borja, manoel viana, itaqui, são borja, são francisco de assis, macambara, itacurubi, maçambará, garruchos, santiago, capao do cipo, nova esperanca do sul, jaguari, nova esperança do sul, unistalda, capão do cipó, sao luiz gonzaga, são luiz gonzaga, bossoroca, santo antônio das missões, sao nicolau, santo antonio das missoes, pirapo, dezesseis de novembro, pirapó, são nicolau, rolador, sao paulo das missoes, cerro largo, caibate, guarani das missoes, salvador das missoes, roque gonzales, sao pedro do butia, mato queimado, guarani das missões, são pedro do butiá, salvador das missões, são paulo das missões, sete de setembro, caibaté, cruz alta, jari, tupancireta, júlio de castilhos, tupanciretã, julio de castilhos, boa vista do cadeado, fortaleza dos valos, jóia, pinhal grande, ivora, quevedos, boa vista do incra, joia, ibirubá, quinze de novembro, panambi, ibiruba, santa barbara do sul, condor, pejucara, saldanha marinho, santa bárbara do sul, pejuçara, palmeira das missoes, seberi, cerro grande, rodeio bonito, lajeado do bugre, são josé das missões, novo barreiro, palmeira das missões, novo tiradentes, sagrada família, cristal do sul, pinhal, jaboticaba, boa vista das missoes, erval seco, boa vista das missões, sao jose das missoes, sagrada familia, dois irmãos das missões, dois irmaos das missoes, palmitinho, frederico westphalen, ametista do sul, alpestre, irai, planalto, vicente dutra, iraí, vista alegre, pinheirinho do vale, taquaruçu do sul, taquarucu do sul, caicara, caiçara, tenente portela, santo augusto, redentora, vista gaucha, derrubadas, campo novo, coronel bicaco, miraguai, braga, barra do guarita, bom progresso, vista gaúcha, miraguaí, sao valerio do sul, tres passos, tiradentes do sul, sao martinho, são martinho, três passos, crissiumal, esperanca do sul, humaita, esperança do sul, sede nova, padre gonzales, humaitá, ijui, catuipe, santa rosa, chiapetta, augusto pestana, ijuí, ajuricaba, inhacora, nova ramada, bozano, catuípe, inhacorá, coronel barros, santo angelo, santo ângelo, girua, sao miguel das missoes, são miguel das missões, eugenio de castro, senador salgado filho, entre-ijuís, vitoria das missoes, giruá, buriti, entre-ijuis, vitória das missões, ubiretama, tres de maio, santo cristo, campina das missoes, nova candelaria, boa vista do buricá, boa vista do burica, porto lucena, porto xavier, alecrim, horizontina, tuparendi, candido godoi, doutor mauricio cardoso, três de maio, tucunduva, novo machado, porto maua, nova candelária, alegria, campina das missões, independencia, cândido godói, independência, sao jose do inhacora, doutor maurício cardoso, porto vera cruz, porto mauá, passo fundo, marau, ernestina, sertao, sertão, camargo, nicolau vergueiro, vila maria, coxilha, mato castelhano, pontao, gentil, pontão, serafina correa, vanini, serafina corrêa, guapore, santo antonio do palma, dois lajeados, guaporé, santo antônio do palma, casca, sao domingos do sul, uniao da serra, sao valentim do sul, montauri, são domingos do sul, são valentim do sul, união da serra, ibirapuita, fontoura xavier, soledade, sao jose do herval, são josé do herval, lagoao, tio hugo, barros cassal, victor graeff, mormaco, mormaço, tunas, ibirapuitã, lagoão, nao-me-toque, espumoso, tapera, selbach, colorado, salto do jacui, salto do jacuí, campos borges, não-me-toque, lagoa dos tres cantos, jacuizinho, alto alegre, lagoa dos três cantos, carazinho, santo antonio do planalto, sarandi, chapada, almirante tamandare do sul, coqueiros do sul, rondinha, almirante tamandaré do sul, nova boa vista, barra funda, santo antônio do planalto, sao valentim, trindade do sul, nonoai, campinas do sul, benjamin constant do sul, ronda alta, liberato salzano, constantina, gramado dos loureiros, faxinalzinho, tres palmeiras, cruzaltense, novo xingu, entre rios do sul, três palmeiras, rio dos indios, são valentim, erechim, aratiba, barra do rio azul, itatiba do sul, paulo bento, tres arroios, ponte preta, barao de cotegipe, erval grande, barão de cotegipe, mariano moro, jacutinga, quatro irmaos, três arroios, severiano de almeida, sao jose do ouro, machadinho, sao joao da urtiga, maximiliano de almeida, sananduva, viadutos, santo expedito do sul, centenario, gaurama, cacique doble, aurea, carlos gomes, são josé do ouro, marcelino ramos, paim filho, são joão da urtiga, áurea, tupanci do sul, david canabarro, tapejara, ibiaca, getulio vargas, getúlio vargas, agua santa, muliterno, estacao, charrua, ipiranga do sul, vila langaro, ciriaco, floriano peixoto, erebango, ibiaçá, santa cecilia do sul, ciríaco, estação, vila lângaro\n",
      "\n",
      "SC : \n",
      "balneario de picarras, florianopolis, florianópolis, florian&oacute;polis, floripa, palhoça, sao jose, santo amaro da imperatriz, palhoca, governador celso ramos, biguacu, são josé, sao pedro de alcantara, biguaçu, antonio carlos, aguas mornas, antônio carlos, são pedro de alcântara, guaporanga, bombinhas, tijucas, itapema, porto belo, canelinha, sao joao batista, são joão batista, nova trento, major gercino, botuvera, botuverá, itajai, balneario camboriu, itajaí, navegantes, brusque, penha, balneário piçarras, camboriu, balneário camboriú, camboriú, balneario picarras, barra velha, guabiruba, ilhota, são joão do itaperiú, picarras, sao joao do itaperiu, agrolandia, alfredo wagner, vidal ramos, leoberto leal, petrolândia, paulo lopes, garopaba, rancho queimado, ituporanga, atalanta, petrolandia, angelina, rio bonito, agrolândia, imbuia, anitapolis, sao bonifacio, anitápolis, chapadao do lageado, chapadão do lageado, lages, celso ramos, otacilio costa, otacílio costa, correia pinto, anita garibaldi, sao jose do cerrito, capao alto, ponte alta, bocaina do sul, palmeira, campo belo do sul, são josé do cerrito, bocaína do sul, cerro negro, painel, videira, bom retiro, sao joaquim, urubici, urupema, são joaquim, rio rufino, bom jardim da serra, tubarao, laguna, imbituba, braco do norte, sangao, braço do norte, treze de maio, sao ludgero, tubarão, capivari de baixo, imarui, jaguaruna, armazem, são ludgero, armazém, rio fortuna, sao martinho, azambuja, pescaria brava, santa rosa de lima, gravatal, pedras grandes, imaruí, sangão, são martinho, criciuma, estacao cocal, lauro muller, içara, nova veneza, icara, criciúma, orleans, nossa senhora de caravaggio, forquilhinha, urussanga, sideropolis, cocal do sul, grão pará, morro da fumaca, grao para, morro da fumaça, siderópolis, lauro müller, treviso, balneario rincao, balneário rincão, estação cocal, araranguá, ararangua, passo de torres, balneario arroio do silva, jacinto machado, meleiro, santa rosa do sul, sao joao do sul, sombrio, balneario gaivota, maracana, balneário arroio do silva, praia grande, sapiranga, turvo, são joão do sul, timbe do sul, ermo, balneário gaivota, maracajá, morro grande, timbé do sul, maracaja, morro chato, indaial, blumenau, rio do sul, jose boiteux, lontras, rio do campo, laurentino, gaspar, luiz alves, timbo, pomerode, salete, benedito novo, presidente getulio, apiuna, timbó, ibirama, massaranduba, rodeio, trombudo central, pouso redondo, doutor pedrinho, agronomica, braço do trombudo, braco do trombudo, presidente getúlio, witmarsum, ascurra, taio, rio do oeste, santa terezinha, vitor meireles, dona emma, apiúna, dalbergia, taió, vítor meireles, agronômica, rio dos cedros, aurora, presidente nereu, mirim doce, josé boiteux, joinville, sao bento do sul, rio negrinho, araquari, sao francisco do sul, jaragua do sul, guaramirim, schroeder, garuva, jaraguá do sul, campo alegre, balneario barra do sul, são francisco do sul, itapoa, corupa, são bento do sul, balneário barra do sul, itapoá, corupá, itapocu, fragosos, mafra, itaiopolis, papanduva, itaiópolis, monte castelo, residencia fuck, canoinhas, porto uniao, porto união, major vieira, bela vista do toldo, irineópolis, irineopolis, tres barras, santa cruz do timbo, três barras, calmon, matos costa, cacador, fraiburgo, curitibanos, timbó grande, ponte alta do norte, arroio trinta, caçador, santa cecília, iomere, lebon regis, santa cecilia, timbo grande, lebon régis, salto veloso, pinheiro preto, sao cristovao do sul, rio das antas, frei rogerio, são cristóvão do sul, macieira, iomerê, frei rogério, campos novos, irani, brunopolis, faxinal dos guedes, joacaba, piratuba, capinzal, catanduvas, vargem bonita, ponte serrada, tangara, ipira, tangará, agua doce, treze tilias, passos maia, herval d'oeste, herval d oeste, monte carlo, vargeao, joaçaba, ouro, abdon batista, ibiam, jabora, erval velho, zortéa, vargem, zortea, treze tílias, ibicare, vargeão, luzerna, água doce, brunópolis, jaborá, herval doeste, lacerdopolis, ibicaré, herval d' oeste, concordia, seara, arabuta, ita, concórdia, presidente castello branco, xavantina, lindoia do sul, alto bela vista, ipumirim, peritiba, arvoredo, paial, lindóia do sul, itá, serra alta, xaxim, pinhalzinho, chapeco, itapiranga, xanxere, maravilha, palmitos, sao joao do oeste, sul brasil, coronel freitas, chapecó, caibi, modelo, ipora do oeste, nova erechim, sao carlos, formosa do sul, xanxerê, mondai, saudades, ipuacu, cunha pora, sao domingos, jardinopolis, ipuaçu, riqueza, abelardo luz, quilombo, cunhatai, caxambu do sul, águas de chapecó, são carlos, tunapolis, galvao, águas frias, sao miguel da boa vista, iraceminha, guatambu, santiago do sul, planalto alegre, irati, coronel martins, aguas de chapeco, guatambú, cordilheira alta, união do oeste, tigrinhos, iporã do oeste, nova itaberaba, jupiá, ouro verde, cunha porã, flor do sertão, jupia, uniao do oeste, são miguel da boa vista, aguas frias, galvão, flor do sertao, são domingos, jardinópolis, entre rios, lajeado grande, marema, bom jesus, são joão do oeste, mondaí, tunápolis, sao miguel do oeste, campo erê, são miguel do oeste, guaraciaba, sao lourenco do oeste, sao jose do cedro, princesa, novo horizonte, anchieta, guaruja do sul, santa terezinha do progresso, guarujá do sul, descanso, romelândia, paraiso, dionisio cerqueira, campo ere, dionísio cerqueira, são lourenço do oeste, paraíso, sao bernardino, palma sola, romelandia, são josé do cedro, santa helena, barra bonita, são bernardino, belmonte, bandeirante\n",
      "\n",
      "SE : \n",
      "aracaju, riachuelo, nossa senhora do socorro, barra dos coqueiros, itaporanga d'ajuda, sao cristovao, são cristóvão, santo amaro das brotas, pirambu, laranjeiras, umbauba, estancia, itabaianinha, cristinapolis, estância, tomar do geru, cristinápolis, araua, santa luzia do itanhy, indiaroba, umbaúba, arauá, tobias barreto, boquim, salgado, pedrinhas, riachao do dantas, riachão do dantas, lagarto, simao dias, poco verde, simão dias, poço verde, itabaiana, malhador, campo do brito, ribeiropolis, frei paulo, macambira, pinhao, sao domingos, carira, são domingos, moita bonita, pinhão, ribeirópolis, sao miguel do aleixo, nossa senhora aparecida, areia branca, nossa senhora das dores, nossa senhora da gloria, nossa senhora da glória, divina pastora, siriri, monte alegre de sergipe, feira nova, cumbe, santa rosa de lima, aquidabã, carmopolis, rosario do catete, capela, rosário do catete, carmópolis, maruim, aquidaba, general maynard, muribeca, porto da folha, caninde de sao francisco, canhoba, poco redondo, poço redondo, canindé de são francisco, nossa senhora de lourdes, graccho cardoso, gararu, neopolis, propria, pacatuba, malhada dos bois, sao francisco, ilha das flores, brejo grande, japoata, cedro de sao joao, japoatã, propriá, japaratuba, são francisco, santana do sao francisco, neópolis, cedro de são joão, telha, amparo de sao francisco, santana do são francisco\n",
      "\n",
      "SP : \n",
      "sao paulo, são paulo, sao bernardo do campo, jundiaí, taboão da serra, sãopaulo, sp, sa£o paulo, sao jose dos campos, osasco, carapicuíba, carapicuiba, barueri, santana de parnaiba, pirapora do bom jesus, santana de parnaíba, jandira, itapevi, cotia, taboao da serra, vargem grande paulista, embu das artes, itapecerica da serra, embu, são lourenço da serra, sao lourenco da serra, embu-guacu, embu-guaçu, embu guaçu, juquitiba, embu guacu, embuguacu, guarulhos, adamantina, guarulhos-sp, aruja, arujá, santa isabel, mairipora, mairiporã, cajamar, caieiras, jordanesia, polvilho, mauá, jordanésia, franco da rocha, francisco morato, poa, itaquaquecetuba, ferraz de vasconcelos, poá, suzano, mogi das cruzes, mogidascruzes, salesopolis, biritiba-mirim, guararema, salesópolis, biritiba mirim, santo andre, santo andré, maua, ribeirão pires, ribeirao pires, rio grande da serra, sao caetano do sul, são caetano do sul, são bernardo do campo, sbcampo, diadema, santos, bertioga, caruara, sao vicente, são vicente, guarujá, guaruja, cubatao, cubatão, sao sebastiao, ubatuba, ilhabela, caraguatatuba, são sebastião, maresias, sao francisco da praia, são francisco da praia, mongagua, praia grande, mongaguá, itanhaem, peruibe, itariri, pedro de toledo, itanhaém, peruíbe, ana dias, miracatu, juquia, juquiá, pariquera-acu, cajati, registro, jacupiranga, ilha comprida, barra do turvo, eldorado, iguape, cananéia, cananeia, sete barras, pariquera-açu, taubate, taubaté, natividade da serra, tremembe, lagoinha, tremembé, redencao da serra, catucaba, sao luiz do paraitinga, sao luis do paraitinga, são luiz do paraitinga, são josé dos campos, cacapava, paraibuna, caçapava, jambeiro, monteiro lobato, sao francisco xavier, são francisco xavier, jacarei, jacareí, santa branca, igarata, igaratá, pindamonhangaba, são bento do sapucaí, campos do jordao, sao bento do sapucai, santo antonio do pinhal, campos do jordão, santo antônio do pinhal, guaratingueta, potim, guaratinguetá, aparecida, cunha, roseira, campos de cunha, lorena, cachoeira paulista, piquete, silveiras, canas, cruzeiro, lavrinhas, arapeí, queluz, arapei, bananal, sao jose do barreiro, são josé do barreiro, areias, atibaia, braganca paulista, bom jesus dos perdoes, piracaia, bom jesus dos perdões, pedra bela, bragança paulista, joanopolis, vargem, nazaré paulista, nazare paulista, joanópolis, pinhalzinho, tuiuti, campinas, artur nogueira, hortolandia, paulinia, sumare, cosmopolis, monte mor, hortolândia, sumaré, cosmópolis, paulínia, engenheiro coelho, itatiba, vinhedo, jundiai, valinhos, varzea paulista, louveira, jarinu, campo limpo paulista, morungaba, itupeva, várzea paulista, indaiatuba, capivari, salto, itu, nova odessa, cabreuva, elias fausto, rafard, rio das pedras, jacare, cabreúva, mombuca, jacaré, jacaré (cabreúva), cardeal, jacare (cabreuva), bom fim do bom jesus, americana, limeira, piracicaba, santa bárbara d'oeste, santa barbara d'oeste, saltinho, cordeiropolis, iracemápolis, iracemapolis, santa barbara d oeste, cordeirópolis, santa bárbara doeste, santa barbara doeste, santa bárbara d`oeste, rio claro, sao carlos, ipeuna, santa gertrudes, itirapina, charqueada, são carlos, ribeirao bonito, ipeúna, sao pedro, são pedro, dourado, corumbataí, analandia, aguas de sao pedro, corumbatai, santa eudóxia, águas de são pedro, agua vermelha, ribeirão bonito, araras, pirassununga, porto ferreira, santa cruz das palmeiras, santa rita do passa quatro, leme, descalvado, santa cruz da conceicao, santa cruz da conceição, mococa, são josé do rio pardo, sao jose do rio pardo, casa branca, caconde, tambau, tapiratiba, divinolandia, são benedito das areias, itobi, sao sebastiao da grama, tambaú, igarai, são sebastião da grama, divinolândia, lagoa branca, sao benedito das areias, venda branca, igaraí, jaguariuna, vargem grande do sul, mogi-guacu, santo antonio de posse, mogi guaçu, santo antônio de posse, sao joao da boa vista, mogi mirim, jaguariúna, holambra, aguai, conchal, mogi guacu, estiva gerbi, são joão da boa vista, mogi-mirim, aguas da prata, aguaí, monte alegre do sul, águas da prata, martinho prado junior, sao roque da fartura, amparo, itapira, socorro, lindoia, aguas de lindoia, pedreira, serra negra, espirito santo do pinhal, águas de lindóia, barao ataliba nogueira, espírito santo do pinhal, barão ataliba nogueira, santo antonio do jardim, santo antônio do jardim, lindóia, eleutério, eleuterio, ribeirao preto, ribeirão preto, sertãozinho, sertaozinho, serrana, pontal, cravinhos, bonfim paulista, guatapará, dumont, guatapara, candia, cajuru, luis antonio, sao simao, santa rosa de viterbo, serra azul, luís antônio, cassia dos coqueiros, são simão, santa cruz da esperanca, cássia dos coqueiros, santo antonio da alegria, brodowski, batatais, altinopolis, altinópolis, santo antônio da alegria, franca, jeriquara, rifaina, sao jose da bela vista, cristais paulista, patrocinio paulista, pedregulho, itirapuã, patrocínio paulista, itirapua, ribeirao corrente, restinga, são josé da bela vista, ribeirão corrente, franca sp, igarapava, ituverava, miguelopolis, aramina, miguelópolis, buritizal, guara, guará, sao benedito da cachoeirinha, pioneiros, ipua, sao joaquim da barra, morro agudo, orlandia, jardinopolis, orlândia, são joaquim da barra, jardinópolis, ipuã, sales oliveira, nuporanga, jurucê, juruce, barretos, bebedouro, viradouro, guaira, colombia, taiúva, pitangueiras, guaíra, monte azul paulista, colina, severinia, taiacu, terra roxa, taiuva, ibitiuva, jaborandi, severínia, taquaral, colômbia, taiaçu, araraquara, gaviao peixoto, jaboticabal, santa lucia, barrinha, ibaté, americo brasiliense, rincao, guariba, ibate, pradopolis, américo brasiliense, pradópolis, rincão, motuca, gavião peixoto, santa lúcia, ibitinga, itapolis, novo horizonte, tabatinga, nova europa, irapua, nova america, itápolis, borborema, boa esperanca do sul, sales, boa esperança do sul, trabiju, irapuã, tapinas, curupa, nova américa, sao jose do rio preto, são josé do rio preto, mirassol, monte aprazível, tanabi, neves paulista, jaci, bady bassitt, sebastianopolis do sul, guapiacu, nhandeara, bálsamo, potirendaba, guapiaçu, monte aprazivel, poloni, balsamo, mirassolandia, ipigua, engenheiro balduíno, ipiguá, engenheiro balduino, sebastianópolis do sul, mirassolândia, uniao paulista, jose bonifacio, buritama, josé bonifácio, turiuba, macaubal, mendonca, nipoa, adolfo, moncoes, planalto, turiúba, zacarias, ubarana, monções, nova alianca, nova aliança, mendonça, nova itapirema, lourdes, nipoã, união paulista, pereira barreto, ilha solteira, itapura, general salgado, auriflama, magda, floreal, gastao vidigal, nova luzitania, sao joao de iracema, suzanapolis, sud mennucci, guzolandia, são joão de iracema, gastão vidigal, suzanápolis, guzolândia, nova castilho, mágda, bandeirantes d'oeste, paulo de faria, olimpia, riolândia, icem, riolandia, nova granada, palestina, onda verde, guaraci, orindiuva, olímpia, altair, cajobi, embauba, orindiúva, monte verde paulista, icém, baguacu, embaúba, valentim gentil, cardoso, votuporanga, cosmorama, pontes gestal, americo de campos, boa vista dos andradas, mira estrela, parisi, alvares florence, álvares florence, américo de campos, fernandopolis, ouroeste, meridiano, indiapora, estrela d'oeste, fernandópolis, estrela d oeste, guarani d'oeste, estrela doeste, pedranopolis, macedonia, indiaporã, são joão das duas pontes, populina, sao joao das duas pontes, brasitania, macedônia, brasitânia, tres fronteiras, urania, jales, santa fe do sul, santa fé do sul, palmeira d'oeste, vitória brasil, santa albertina, turmalina, santana da ponte pensa, santa salete, aparecida d oeste, santa clara d'oeste, rubineia, dirce reis, sao francisco, santa rita d'oeste, dolcinopolis, marinopolis, três fronteiras, aparecida d'oeste, paranapua, mesopolis, palmeira doeste, aspasia, rubinéia, vitoria brasil, urânia, pontalinda, palmeira d oeste, santa clara d oeste, nova canaa paulista, dolcinópolis, nova canaã paulista, são francisco, marinópolis, santa rita d oeste, aspásia, paranapuã, aparecida doeste, santa rita doeste, pindorama, urupes, itajobi, catanduva, paraiso, tabapua, catiguá, palmares paulista, cedral, novais, catigua, pirangi, uchoa, ibira, ibirá, elisiario, paraíso, marapoama, tabapuã, urupês, sao joao de itaguacu, roberto, são joão de itaguaçu, termas de ibira, ariranha, matao, taquaritinga, santa ernestina, monte alto, matão, santa adelia, vista alegre do alto, botelho, fernando prestes, aparecida de monte alto, dobrada, cândido rodrigues, candido rodrigues, santa adélia, agulha, jurupema, aracatuba, araçatuba, santo antonio do aracangua, santo antônio do aracanguá, birigüi, piacatu, birigui, bilac, clementina, gabriel monteiro, glicerio, brauna, coroados, santopolis do aguapei, santópolis do aguapeí, brejo alegre, glicério, juritis, penápolis, penapolis, promissao, luiziania, promissão, avanhandava, alto alegre, luiziânia, barbosa, lins, guaicara, sabino, getulina, guaimbe, guaiçara, guaimbê, cafelandia, cafelândia, guaranta, guarantã, simoes, presidente alves, pongai, avai, pirajui, uru, pongaí, pirajuí, balbinos, avaí, guararapes, rubiacea, bento de abreu, rubiácea, mirandopolis, valparaiso, lavinia, mirandópolis, lavínia, valparaíso, tres aliancas, andradina, castilho, guaracai, guaraçaí, murutinga do sul, nova independencia, nova independência, bauru, arealva, agudos, iacanga, reginopolis, paulistania, reginópolis, domelia, paulistânia, jacuba, jau, pederneiras, jaú, itapui, bariri, itaju, boraceia, macatuba, bocaina, itapuí, boracéia, santelmo, potunduva, guaianas, barra bonita, brotas, igaracu do tiete, dois corregos, mineiros do tiete, torrinha, mineiros do tietê, dois córregos, igaraçu do tietê, santa maria da serra, guarapua, lupércio, garca, duartina, galia, álvaro de carvalho, piratininga, garça, cabralia paulista, ubirajara, lupercio, alvinlandia, lucianópolis, fernao, alvinlândia, lucianopolis, gália, cabrália paulista, alvaro de carvalho, jafa, fernão, marilia, julio mesquita, marília, queiroz, pompeia, pompéia, vera cruz, oriente, ocaucu, júlio mesquita, ocauçu, tupa, bastos, herculandia, iacri, tupã, quintana, arco-iris, herculândia, osvaldo cruz, lucelia, rinopolis, parapua, sagres, inubia paulista, pracinha, parapuã, salmourão, salmourao, lucélia, rinópolis, inúbia paulista, junqueiropolis, pacaembu, flora rica, florida paulista, irapuru, junqueirópolis, mariapolis, flórida paulista, mariápolis, dracena, ouro verde, sao joao do pau d'alho, panorama, tupi paulista, monte castelo, pauliceia, santa mercedes, nova guataporanga, são joão do pau d'alho, sao joao do pau d alho, paulicéia, jamaica, sao joao do pau dalho, são joão do pau d%26apos%3balho, sorocaba, mairinque, capela do alto, sao roque, votorantim, pilar do sul, aluminio, aracariguama, salto de pirapora, aracoiaba da serra, são roque, piedade, ibiuna, ibiúna, tapiraí, araçoiaba da serra, alumínio, tapirai, araçariguama, paruru, angatuba, sao miguel arcanjo, alambari, tatui, itapetininga, sarapui, tatuí, cesario lange, buri, porangaba, guareí, são miguel arcanjo, torre de pedra, guarei, campina do monte alegre, cesário lange, sarapuí, conceição, rechan, gramadinho, quadra, bom retiro da esperanca, apiai, capão bonito, guapiara, apiaí, capao bonito, itaoca, ribeira, iporanga, ribeirão grande, barra do chapéu, itapirapua paulista, barra do chapeu, ribeirao grande, itaóca, itapirapuã paulista, itapeva, itarare, nova campina, itaberá, itaporanga, taquarivai, riversul, guarizinho, itabera, ribeirao branco, barao de antonina, itararé, taquarivaí, bom sucesso de itarare, ribeirão branco, bom sucesso de itararé, barão de antonina, boituva, cerquilho, porto feliz, pereiras, iperó, conchas, laranjal paulista, ipero, tiete, tietê, jumirim, bofete, maristela, areiopolis, lençóis paulista, sao manuel, lencois paulista, botucatu, aparecida de são manuel, são manuel, borebi, aparecida de sao manuel, anhembi, pardinho, itatinga, alfredo guedes, pratania, areiópolis, pratânia, rubiao junior, piramboia, avare, cerqueira cesar, taquarituba, paranapanema, holambra ii, coronel macedo, itai, avaré, óleo, manduri, oleo, iaras, aguas de santa barbara, cerqueira césar, águas de santa bárbara, arandu, itaí, piraju, fartura, taguai, sarutaia, timburi, tejupá, taguaí, sarutaiá, tejupa, santa cruz do rio pardo, ipaussu, chavantes, sao pedro do turvo, bernardino de campos, espírito santo do turvo, canitar, espirito santo do turvo, irape, são pedro do turvo, irapé, sodrelia, caporanga, presidente prudente, alvares machado, álvares machado, santo expedito, floresta do sul, alfredo marcondes, eneida, pirapozinho, teodoro sampaio, narandiba, euclides da cunha paulista, tarabai, rosana, sandovalina, mirante do paranapanema, estrela do norte, primavera, cuiabá paulista, costa machado, cuiaba paulista, santo anastacio, presidente bernardes, emilianopolis, santo anastácio, ribeirao dos indios, emilianópolis, nova patria, ribeirão dos índios, presidente venceslau, presidente epitacio, presidente epitácio, maraba paulista, caiua, caiuá, piquerobi, campinal, regente feijo, taciba, martinopolis, regente feijó, indiana, martinópolis, espigao, anhumas, caiabu, iubatinga, tecainda, rancharia, joao ramalho, nantes, iepe, agisse, joão ramalho, iepê, gardenia, paraguacu paulista, quata, paraguaçu paulista, quatá, oscar bressane, lutecia, lutécia, assis, cândido mota, maracai, candido mota, maracaí, taruma, cruzalia, echapora, cruzália, pedrinhas paulista, florinia, tarumã, florínea, frutal do campo, florínia, echaporã, nova alexandria, florinea, são josé das laranjeiras, sao jose das laranjeiras, ourinhos, palmital, ibirarema, platina, salto grande, campos novos paulista, ribeirao do sul, ribeirão do sul\n",
      "\n",
      "TO : \n",
      "palmas, dianopolis, palmeiropolis, conceição do tocantins, parana, combinado, conceicao do tocantins, novo jardim, taguatinga, almas, ponte alta do bom jesus, arraias, dianópolis, aurora do tocantins, pindorama do tocantins, porto alegre do tocantins, sao valerio da natividade, sao salvador do tocantins, santa rosa do tocantins, natividade, novo alegre, palmeirópolis, são salvador do tocantins, rio da conceição, taipas do tocantins, chapada da natividade, são valério da natividade, rio da conceicao, paranã, gurupi, lagoa da confusao, cariri do tocantins, figueiropolis, talismã, sucupira, alvorada, formoso do araguaia, nova rosalândia, araguacu, alianca do tocantins, cristalandia, jau do tocantins, lagoa da confusão, peixe, aliança do tocantins, talisma, sandolandia, nova rosalandia, duere, araguaçu, jaú do tocantins, crixas do tocantins, sandolândia, porto nacional, silvanopolis, fatima, ponte alta do tocantins, pium, brejinho de nazare, silvanópolis, mateiros, oliveira de fatima, fátima, brejinho de nazaré, monte do carmo, paraiso do tocantins, caseara, miracema do tocantins, miranorte, araguacema, barrolandia, dois irmaos do tocantins, divinópolis do tocantins, divinopolis do tocantins, marianopolis do tocantins, lizarda, lajeado, paraíso do tocantins, marianópolis do tocantins, goianorte, monte santo do tocantins, tocantínia, lagoa do tocantins, rio dos bois, novo acordo, rio sono, barrolândia, santa tereza do tocantins, pugmil, aparecida do rio negro, abreulândia, tocantinia, colinas do tocantins, guaraí, arapoema, guarai, bom jesus do tocantins, itaporã do tocantins, colmeia, bandeirantes do tocantins, pequizeiro, presidente kennedy, campos lindos, itacaja, pedro afonso, goiatins, filadelfia, nova olinda, colméia, santa maria do tocantins, bernardo sayão, bernardo sayao, couto de magalhaes, pau d'arco, itapiratins, brasilandia do tocantins, fortaleza do tabocao, itacajá, recursolandia, centenario, tupirama, fortaleza do tabocão, couto de magalhães, juarina, brasilândia do tocantins, itapora do tocantins, araguaina, araguaína, nazare, wanderlandia, xambioa, xambioá, carmolandia, ananas, araguana, santa fe do araguaia, ananás, santa terezinha do tocantins, santa fé do araguaia, araguanã, nazaré, babaculandia, aragominas, wanderlândia, muricilandia, tocantinopolis, praia norte, esperantina, buriti do tocantins, augustinopolis, araguatins, sitio novo do tocantins, angico, palmeiras do tocantins, sampaio, luzinopolis, augustinópolis, darcinopolis, sao miguel do tocantins, itaguatins, cachoeirinha, aguiarnopolis, tocantinópolis, maurilandia do tocantins, são bento do tocantins, maurilândia do tocantins, aguiarnópolis, sao sebastiao do tocantins, axixá do tocantins, sao bento do tocantins, axixa do tocantins, são miguel do tocantins, luzinópolis\n",
      "\n"
     ]
    }
   ],
   "source": [
    "# Grouping kota berdasarkan state untuk melihat kota mana berada di state apa\n",
    "city_state_df = df_geolokasi.groupby('geolocation_state')['geolocation_city'].unique().apply(list).reset_index()\n",
    "\n",
    "# Printing\n",
    "for index,row in city_state_df.iterrows():\n",
    "  print(f\"{row['geolocation_state']} : \\n{', '.join(row['geolocation_city'])}\")\n",
    "  print()"
   ]
  },
  {
   "cell_type": "code",
   "execution_count": 31,
   "metadata": {
    "colab": {
     "base_uri": "https://localhost:8080/"
    },
    "executionInfo": {
     "elapsed": 18,
     "status": "ok",
     "timestamp": 1732692114755,
     "user": {
      "displayName": "ACHMAD RIZQI RAMADHAN",
      "userId": "11285369809196046296"
     },
     "user_tz": -420
    },
    "id": "LuMmn1DUEr36",
    "outputId": "bb7a3a24-b768-4466-f246-99264020fb56"
   },
   "outputs": [
    {
     "data": {
      "text/plain": [
       "{'SP': 'São Paulo',\n",
       " 'RN': 'Rio Grande do Norte',\n",
       " 'AC': 'Acre',\n",
       " 'RJ': 'Rio de Janeiro',\n",
       " 'ES': 'Espírito Santo',\n",
       " 'MG': 'Minas Gerais',\n",
       " 'BA': 'Bahia',\n",
       " 'SE': 'Sergipe',\n",
       " 'PE': 'Pernambuco',\n",
       " 'AL': 'Alagoas',\n",
       " 'PB': 'Paraíba',\n",
       " 'CE': 'Ceará',\n",
       " 'PI': 'Piauí',\n",
       " 'MA': 'Maranhão',\n",
       " 'PA': 'Pará',\n",
       " 'AP': 'Amapá',\n",
       " 'AM': 'Amazonas',\n",
       " 'RR': 'Roraima',\n",
       " 'DF': 'Distrito Federal',\n",
       " 'GO': 'Goiás',\n",
       " 'RO': 'Rondônia',\n",
       " 'TO': 'Tocantins',\n",
       " 'MT': 'Mato Grosso',\n",
       " 'MS': 'Mato Grosso do Sul',\n",
       " 'RS': 'Rio Grande do Sul',\n",
       " 'PR': 'Paraná',\n",
       " 'SC': 'Santa Catarina'}"
      ]
     },
     "execution_count": 31,
     "metadata": {},
     "output_type": "execute_result"
    }
   ],
   "source": [
    "# Menyimpan kepanjangan setiap state dalam dictionary\n",
    "state_mapping = {\n",
    "    'SP': 'São Paulo',\n",
    "    'RN': 'Rio Grande do Norte',\n",
    "    'AC': 'Acre',\n",
    "    'RJ': 'Rio de Janeiro',\n",
    "    'ES': 'Espírito Santo',\n",
    "    'MG': 'Minas Gerais',\n",
    "    'BA': 'Bahia',\n",
    "    'SE': 'Sergipe',\n",
    "    'PE': 'Pernambuco',\n",
    "    'AL': 'Alagoas',\n",
    "    'PB': 'Paraíba',\n",
    "    'CE': 'Ceará',\n",
    "    'PI': 'Piauí',\n",
    "    'MA': 'Maranhão',\n",
    "    'PA': 'Pará',\n",
    "    'AP': 'Amapá',\n",
    "    'AM': 'Amazonas',\n",
    "    'RR': 'Roraima',\n",
    "    'DF': 'Distrito Federal',\n",
    "    'GO': 'Goiás',\n",
    "    'RO': 'Rondônia',\n",
    "    'TO': 'Tocantins',\n",
    "    'MT': 'Mato Grosso',\n",
    "    'MS': 'Mato Grosso do Sul',\n",
    "    'RS': 'Rio Grande do Sul',\n",
    "    'PR': 'Paraná',\n",
    "    'SC': 'Santa Catarina'\n",
    "}\n",
    "\n",
    "state_mapping"
   ]
  },
  {
   "cell_type": "code",
   "execution_count": 32,
   "metadata": {
    "colab": {
     "base_uri": "https://localhost:8080/",
     "height": 662
    },
    "executionInfo": {
     "elapsed": 460,
     "status": "ok",
     "timestamp": 1732692115214,
     "user": {
      "displayName": "ACHMAD RIZQI RAMADHAN",
      "userId": "11285369809196046296"
     },
     "user_tz": -420
    },
    "id": "18Ndzsl8Zh0I",
    "outputId": "5861fa5b-c0a2-47c6-ea86-186797d8ba2f"
   },
   "outputs": [
    {
     "data": {
      "image/png": "[encoded data removed]",
      "text/plain": [
       "<Figure size 1000x600 with 1 Axes>"
      ]
     },
     "metadata": {},
     "output_type": "display_data"
    }
   ],
   "source": [
    "# Mendapatkan total pembelian tiap state\n",
    "data = df_geolokasi['geolocation_state'].value_counts()\n",
    "\n",
    "# Mendapatkan urutan state sesuai dengan data\n",
    "state_order = data.index\n",
    "\n",
    "# Mendapatkan nama lengkap state berdasarkan urutan dan state_mapping\n",
    "full_state_names = [state_mapping[state] for state in state_order]\n",
    "\n",
    "# Normalisasi data menjadi 0-1 untuk colormapping\n",
    "normalized_data = (data.values - np.min(data.values)) / (np.max(data.values) - np.min(data.values))\n",
    "\n",
    "# Membuat a colormap\n",
    "colormap = plt.get_cmap('coolwarm_r')\n",
    "\n",
    "# Plotting dengan barh dan colormapping\n",
    "plt.figure(figsize=(10, 6)) # Mengatur agar terdapat jarak antar data\n",
    "plt.barh(\n",
    "    full_state_names,\n",
    "    data.values,\n",
    "    color=colormap(normalized_data)\n",
    ")\n",
    "plt.title('Jumlah pembeli tiap state')\n",
    "plt.ylabel('State')\n",
    "plt.xlabel('Total Pembelian')\n",
    "plt.tight_layout()\n",
    "plt.show()"
   ]
  },
  {
   "cell_type": "markdown",
   "metadata": {
    "id": "nzD5oYQwJlYl"
   },
   "source": [
    "Insight : <br>\n",
    "Dari data diagram terlihat bahwa daerah dimana total pembelian paling banyak terdapat di negara bagian Sao Paulo yang memiliki angka lebih dari 2 kali Minas Gerais."
   ]
  },
  {
   "cell_type": "code",
   "execution_count": 33,
   "metadata": {
    "colab": {
     "base_uri": "https://localhost:8080/",
     "height": 962
    },
    "executionInfo": {
     "elapsed": 354,
     "status": "ok",
     "timestamp": 1732692115558,
     "user": {
      "displayName": "ACHMAD RIZQI RAMADHAN",
      "userId": "11285369809196046296"
     },
     "user_tz": -420
    },
    "id": "EzHdzgcj0bnc",
    "outputId": "f7cad1fd-aa4d-4560-b618-2175ad59ce25"
   },
   "outputs": [
    {
     "data": {
      "text/plain": [
       "customer_state\n",
       "SP    41746\n",
       "RJ    12852\n",
       "MG    11635\n",
       "RS     5466\n",
       "PR     5045\n",
       "SC     3637\n",
       "BA     3380\n",
       "DF     2140\n",
       "ES     2033\n",
       "GO     2020\n",
       "PE     1652\n",
       "CE     1336\n",
       "PA      975\n",
       "MT      907\n",
       "MA      747\n",
       "MS      715\n",
       "PB      536\n",
       "PI      495\n",
       "RN      485\n",
       "AL      413\n",
       "SE      350\n",
       "TO      280\n",
       "RO      253\n",
       "AM      148\n",
       "AC       81\n",
       "AP       68\n",
       "RR       46\n",
       "Name: customer_unique_id, dtype: int64"
      ]
     },
     "execution_count": 33,
     "metadata": {},
     "output_type": "execute_result"
    }
   ],
   "source": [
    "df_customer_group_state = df_customer.groupby('customer_state')['customer_unique_id'].count()\n",
    "df_customer_group_state = df_customer_group_state.sort_values(ascending=False)\n",
    "df_customer_group_state"
   ]
  },
  {
   "cell_type": "code",
   "execution_count": 34,
   "metadata": {
    "colab": {
     "base_uri": "https://localhost:8080/",
     "height": 594
    },
    "executionInfo": {
     "elapsed": 614,
     "status": "ok",
     "timestamp": 1732692116169,
     "user": {
      "displayName": "ACHMAD RIZQI RAMADHAN",
      "userId": "11285369809196046296"
     },
     "user_tz": -420
    },
    "id": "m3TIvu4z1GGX",
    "outputId": "f302bc4f-751d-4567-88f3-2e9ce7a0a50e"
   },
   "outputs": [
    {
     "data": {
      "text/plain": [
       "<BarContainer object of 27 artists>"
      ]
     },
     "execution_count": 34,
     "metadata": {},
     "output_type": "execute_result"
    },
    {
     "data": {
      "image/png": "[encoded data removed]",
      "text/plain": [
       "<Figure size 1000x600 with 1 Axes>"
      ]
     },
     "metadata": {},
     "output_type": "display_data"
    }
   ],
   "source": [
    "# Mendapatkan urutan state sesuai dengan data\n",
    "state_order = df_customer_group_state.index\n",
    "\n",
    "# Mendapatkan nama lengkap state berdasarkan urutan dan state_mapping\n",
    "full_state_names = [state_mapping[state] for state in state_order]\n",
    "\n",
    "# Normalisasi data menjadi 0-1 untuk colormapping\n",
    "normalized_data = (df_customer_group_state.values - np.min(df_customer_group_state.values)) / (np.max(df_customer_group_state.values) - np.min(df_customer_group_state.values))\n",
    "\n",
    "# Membuat a colormap\n",
    "colormap = plt.get_cmap('coolwarm_r')\n",
    "\n",
    "# Plotting dengan barh dan colormapping\n",
    "plt.figure(figsize=(10, 6)) # Mengatur agar terdapat jarak antar data\n",
    "plt.barh(\n",
    "    full_state_names,\n",
    "    df_customer_group_state.values,\n",
    "    color=colormap(normalized_data)\n",
    ")\n"
   ]
  },
  {
   "cell_type": "markdown",
   "metadata": {
    "id": "5SEQyk1C3RWw"
   },
   "source": [
    "Insight : <br>\n",
    "Terlihat dari diagram bahwa lebih dari 40000 pembeli berasal dari Sao Paulo dan disusul oleh Rio De Janeiro di posisi kedua dengan angka pembeli mencapai hampir 15000"
   ]
  },
  {
   "cell_type": "code",
   "execution_count": 35,
   "metadata": {
    "colab": {
     "base_uri": "https://localhost:8080/",
     "height": 272
    },
    "executionInfo": {
     "elapsed": 5,
     "status": "ok",
     "timestamp": 1732692116171,
     "user": {
      "displayName": "ACHMAD RIZQI RAMADHAN",
      "userId": "11285369809196046296"
     },
     "user_tz": -420
    },
    "id": "PjaT9PZ0Qpmw",
    "outputId": "500de8b6-f83c-4af0-df9b-ef363669ea9d"
   },
   "outputs": [
    {
     "data": {
      "text/plain": [
       "review_score\n",
       "5    57328\n",
       "4    19142\n",
       "1    11424\n",
       "3     8179\n",
       "2     3151\n",
       "Name: count, dtype: int64"
      ]
     },
     "execution_count": 35,
     "metadata": {},
     "output_type": "execute_result"
    }
   ],
   "source": [
    "# Melihat jumlah review\n",
    "df_review['review_score'].value_counts()"
   ]
  },
  {
   "cell_type": "code",
   "execution_count": 36,
   "metadata": {
    "colab": {
     "base_uri": "https://localhost:8080/",
     "height": 423
    },
    "executionInfo": {
     "elapsed": 365,
     "status": "ok",
     "timestamp": 1732692116532,
     "user": {
      "displayName": "ACHMAD RIZQI RAMADHAN",
      "userId": "11285369809196046296"
     },
     "user_tz": -420
    },
    "id": "zVRtZIOfQ_MS",
    "outputId": "7e4eab08-bbfc-49fc-c9a3-110f60a3d4ca"
   },
   "outputs": [
    {
     "data": {
      "text/html": [
       "<div>\n",
       "<style scoped>\n",
       "    .dataframe tbody tr th:only-of-type {\n",
       "        vertical-align: middle;\n",
       "    }\n",
       "\n",
       "    .dataframe tbody tr th {\n",
       "        vertical-align: top;\n",
       "    }\n",
       "\n",
       "    .dataframe thead th {\n",
       "        text-align: right;\n",
       "    }\n",
       "</style>\n",
       "<table border=\"1\" class=\"dataframe\">\n",
       "  <thead>\n",
       "    <tr style=\"text-align: right;\">\n",
       "      <th></th>\n",
       "      <th>order_id</th>\n",
       "      <th>review_score</th>\n",
       "    </tr>\n",
       "  </thead>\n",
       "  <tbody>\n",
       "    <tr>\n",
       "      <th>0</th>\n",
       "      <td>00010242fe8c5a6d1ba2dd792cb16214</td>\n",
       "      <td>5.0</td>\n",
       "    </tr>\n",
       "    <tr>\n",
       "      <th>1</th>\n",
       "      <td>00018f77f2f0320c557190d7a144bdd3</td>\n",
       "      <td>4.0</td>\n",
       "    </tr>\n",
       "    <tr>\n",
       "      <th>2</th>\n",
       "      <td>000229ec398224ef6ca0657da4fc703e</td>\n",
       "      <td>5.0</td>\n",
       "    </tr>\n",
       "    <tr>\n",
       "      <th>3</th>\n",
       "      <td>00024acbcdf0a6daa1e931b038114c75</td>\n",
       "      <td>4.0</td>\n",
       "    </tr>\n",
       "    <tr>\n",
       "      <th>4</th>\n",
       "      <td>00042b26cf59d7ce69dfabb4e55b4fd9</td>\n",
       "      <td>5.0</td>\n",
       "    </tr>\n",
       "    <tr>\n",
       "      <th>...</th>\n",
       "      <td>...</td>\n",
       "      <td>...</td>\n",
       "    </tr>\n",
       "    <tr>\n",
       "      <th>98668</th>\n",
       "      <td>fffc94f6ce00a00581880bf54a75a037</td>\n",
       "      <td>5.0</td>\n",
       "    </tr>\n",
       "    <tr>\n",
       "      <th>98669</th>\n",
       "      <td>fffcd46ef2263f404302a634eb57f7eb</td>\n",
       "      <td>5.0</td>\n",
       "    </tr>\n",
       "    <tr>\n",
       "      <th>98670</th>\n",
       "      <td>fffce4705a9662cd70adb13d4a31832d</td>\n",
       "      <td>5.0</td>\n",
       "    </tr>\n",
       "    <tr>\n",
       "      <th>98671</th>\n",
       "      <td>fffe18544ffabc95dfada21779c9644f</td>\n",
       "      <td>5.0</td>\n",
       "    </tr>\n",
       "    <tr>\n",
       "      <th>98672</th>\n",
       "      <td>fffe41c64501cc87c801fd61db3f6244</td>\n",
       "      <td>5.0</td>\n",
       "    </tr>\n",
       "  </tbody>\n",
       "</table>\n",
       "<p>98673 rows × 2 columns</p>\n",
       "</div>"
      ],
      "text/plain": [
       "                               order_id  review_score\n",
       "0      00010242fe8c5a6d1ba2dd792cb16214           5.0\n",
       "1      00018f77f2f0320c557190d7a144bdd3           4.0\n",
       "2      000229ec398224ef6ca0657da4fc703e           5.0\n",
       "3      00024acbcdf0a6daa1e931b038114c75           4.0\n",
       "4      00042b26cf59d7ce69dfabb4e55b4fd9           5.0\n",
       "...                                 ...           ...\n",
       "98668  fffc94f6ce00a00581880bf54a75a037           5.0\n",
       "98669  fffcd46ef2263f404302a634eb57f7eb           5.0\n",
       "98670  fffce4705a9662cd70adb13d4a31832d           5.0\n",
       "98671  fffe18544ffabc95dfada21779c9644f           5.0\n",
       "98672  fffe41c64501cc87c801fd61db3f6244           5.0\n",
       "\n",
       "[98673 rows x 2 columns]"
      ]
     },
     "execution_count": 36,
     "metadata": {},
     "output_type": "execute_result"
    }
   ],
   "source": [
    "# grouping review berdasarkan order_id\n",
    "df_review_grouped = df_review.groupby('order_id')['review_score'].mean().reset_index()\n",
    "df_review_grouped"
   ]
  },
  {
   "cell_type": "code",
   "execution_count": 37,
   "metadata": {
    "colab": {
     "base_uri": "https://localhost:8080/",
     "height": 147
    },
    "executionInfo": {
     "elapsed": 5,
     "status": "ok",
     "timestamp": 1732692116532,
     "user": {
      "displayName": "ACHMAD RIZQI RAMADHAN",
      "userId": "11285369809196046296"
     },
     "user_tz": -420
    },
    "id": "LQ33g2XjRQyE",
    "outputId": "839a5d63-54d6-4557-dfb3-ba9c2d74f35d"
   },
   "outputs": [
    {
     "data": {
      "text/plain": [
       "order_id        0005a1a1728c9d785b8e2b08b904576c000aed2e25dbad...\n",
       "review_score                                              17663.0\n",
       "dtype: object"
      ]
     },
     "execution_count": 37,
     "metadata": {},
     "output_type": "execute_result"
    }
   ],
   "source": [
    "# Menampilkan total barang dengan rata rata review < 3.0\n",
    "df_review_grouped[df_review_grouped['review_score'] < 3.0].sum()"
   ]
  },
  {
   "cell_type": "markdown",
   "metadata": {
    "id": "PQtcN3UbTRoh"
   },
   "source": [
    "Insight : <br>\n",
    "Terdapat 14483 review dengan skor kurang dari 3"
   ]
  },
  {
   "cell_type": "code",
   "execution_count": 38,
   "metadata": {
    "colab": {
     "base_uri": "https://localhost:8080/",
     "height": 300
    },
    "executionInfo": {
     "elapsed": 370,
     "status": "ok",
     "timestamp": 1732692116897,
     "user": {
      "displayName": "ACHMAD RIZQI RAMADHAN",
      "userId": "11285369809196046296"
     },
     "user_tz": -420
    },
    "id": "4FjZ9QhMhOGA",
    "outputId": "3394bbd6-e87f-4c15-e140-e61e6653f1d5"
   },
   "outputs": [
    {
     "data": {
      "text/html": [
       "<div>\n",
       "<style scoped>\n",
       "    .dataframe tbody tr th:only-of-type {\n",
       "        vertical-align: middle;\n",
       "    }\n",
       "\n",
       "    .dataframe tbody tr th {\n",
       "        vertical-align: top;\n",
       "    }\n",
       "\n",
       "    .dataframe thead th {\n",
       "        text-align: right;\n",
       "    }\n",
       "</style>\n",
       "<table border=\"1\" class=\"dataframe\">\n",
       "  <thead>\n",
       "    <tr style=\"text-align: right;\">\n",
       "      <th></th>\n",
       "      <th>order_status</th>\n",
       "      <th>count</th>\n",
       "    </tr>\n",
       "  </thead>\n",
       "  <tbody>\n",
       "    <tr>\n",
       "      <th>0</th>\n",
       "      <td>delivered</td>\n",
       "      <td>96478</td>\n",
       "    </tr>\n",
       "    <tr>\n",
       "      <th>1</th>\n",
       "      <td>shipped</td>\n",
       "      <td>1107</td>\n",
       "    </tr>\n",
       "    <tr>\n",
       "      <th>2</th>\n",
       "      <td>canceled</td>\n",
       "      <td>625</td>\n",
       "    </tr>\n",
       "    <tr>\n",
       "      <th>3</th>\n",
       "      <td>unavailable</td>\n",
       "      <td>609</td>\n",
       "    </tr>\n",
       "    <tr>\n",
       "      <th>4</th>\n",
       "      <td>invoiced</td>\n",
       "      <td>314</td>\n",
       "    </tr>\n",
       "    <tr>\n",
       "      <th>5</th>\n",
       "      <td>processing</td>\n",
       "      <td>301</td>\n",
       "    </tr>\n",
       "    <tr>\n",
       "      <th>6</th>\n",
       "      <td>created</td>\n",
       "      <td>5</td>\n",
       "    </tr>\n",
       "    <tr>\n",
       "      <th>7</th>\n",
       "      <td>approved</td>\n",
       "      <td>2</td>\n",
       "    </tr>\n",
       "  </tbody>\n",
       "</table>\n",
       "</div>"
      ],
      "text/plain": [
       "  order_status  count\n",
       "0    delivered  96478\n",
       "1      shipped   1107\n",
       "2     canceled    625\n",
       "3  unavailable    609\n",
       "4     invoiced    314\n",
       "5   processing    301\n",
       "6      created      5\n",
       "7     approved      2"
      ]
     },
     "execution_count": 38,
     "metadata": {},
     "output_type": "execute_result"
    }
   ],
   "source": [
    "df_order_status = df_order['order_status'].value_counts().reset_index()\n",
    "df_order_status"
   ]
  },
  {
   "cell_type": "markdown",
   "metadata": {
    "id": "msX7Kzy0Zh0J"
   },
   "source": [
    "## Visualization & Explanatory Analysis"
   ]
  },
  {
   "cell_type": "markdown",
   "metadata": {
    "id": "MaywlylLZh0L"
   },
   "source": [
    "### Pertanyaan 1: <br>\n",
    "Bagaimana distribusi geografis pelanggan berdasarkan negara bagian dan kota di dunia? Dimanakah tingkat konsentrasi tertinggi pelanggan berada?"
   ]
  },
  {
   "cell_type": "code",
   "execution_count": 39,
   "metadata": {
    "executionInfo": {
     "elapsed": 43955,
     "status": "ok",
     "timestamp": 1732692160850,
     "user": {
      "displayName": "ACHMAD RIZQI RAMADHAN",
      "userId": "11285369809196046296"
     },
     "user_tz": -420
    },
    "id": "nqh9C8UFZh0M"
   },
   "outputs": [],
   "source": [
    "# Menyiapkan data untuk lattitude, longitude, dan nilai\n",
    "location = []\n",
    "df_filtered = df_geolokasi.loc[:, ['geolocation_lat', 'geolocation_lng']]\n",
    "\n",
    "for index, row in df_filtered.iterrows():\n",
    "  location.append((\n",
    "      row['geolocation_lat'],\n",
    "      row['geolocation_lng'],\n",
    "      1 # Value diset 1 untuk setiap customer yang melakukan pembelian di satu lokasi\n",
    "      ))"
   ]
  },
  {
   "cell_type": "code",
   "execution_count": null,
   "metadata": {
    "colab": {
     "base_uri": "https://localhost:8080/",
     "height": 865,
     "output_embedded_package_id": "1ttvPCTg_HFeVyJ0CRJzghHiDdy7GLpsX"
    },
    "executionInfo": {
     "elapsed": 46233,
     "status": "ok",
     "timestamp": 1732692207081,
     "user": {
      "displayName": "ACHMAD RIZQI RAMADHAN",
      "userId": "11285369809196046296"
     },
     "user_tz": -420
    },
    "id": "38_Y-1LcqAyD",
    "outputId": "9c12cfd2-d214-438b-f394-94ad08ab58f3"
   },
   "outputs": [],
   "source": [
    "# Lat dan Long untuk lokasi dengan customer\n",
    "locations = {\n",
    "    \"Sao Paulo\": [-23.550520, -46.633308],\n",
    "    \"Mexico\": [19.432608, -99.133209],\n",
    "    \"Portugal\": [39.399872, -8.224454],\n",
    "    \"Philippines\": [12.879721, 121.774017]\n",
    "}\n",
    "# Membuat heatmap berdasarkan lokasi customer\n",
    "map = folium.Map(zoom_start=5)\n",
    "HeatMap(location,radius=15).add_to(map)\n",
    "\n",
    "# Menambah marker\n",
    "for location_name, coordinates in locations.items():\n",
    "    folium.Marker(\n",
    "        location=coordinates,\n",
    "        popup=location_name,\n",
    "        icon=folium.Icon(color=\"blue\")\n",
    "    ).add_to(map)\n",
    "\n",
    "# Menampilkan map\n",
    "map "
   ]
  },
  {
   "cell_type": "markdown",
   "metadata": {
    "id": "AMOHyNA5xQB_"
   },
   "source": [
    "Insight : <br>\n",
    "Heatmap menunjukkan konsentrasi pembeli tertinggi berada di wilayah tenggara Brasil, khususnya di sekitar Sao Paulo dan Rio de Janeiro. Wilayah ini terletak di bagian selatan benua Amerika Selatan. Selain itu terdapat sebagian kecil pelanggan yang berasal dari wilayah Portugal, Mexico dan bahkan Filipina.\n",
    "\n",
    "Notes : cell ini belum dijalankan karena ukuran size menjadi besar ketika cell di running"
   ]
  },
  {
   "cell_type": "markdown",
   "metadata": {
    "id": "_qj1PWTl5nKd"
   },
   "source": [
    "### Pertanyaan 2: <br>\n",
    "Bagaimana hubungan antara jumlah pembeli di suatu daerah dengan nilai total pembelian di daerah tersebut?"
   ]
  },
  {
   "cell_type": "code",
   "execution_count": 41,
   "metadata": {
    "colab": {
     "base_uri": "https://localhost:8080/",
     "height": 872
    },
    "executionInfo": {
     "elapsed": 150,
     "status": "ok",
     "timestamp": 1732692207081,
     "user": {
      "displayName": "ACHMAD RIZQI RAMADHAN",
      "userId": "11285369809196046296"
     },
     "user_tz": -420
    },
    "id": "npgvw5lEZh0O",
    "outputId": "014f5376-bd89-4b3b-d0cd-f09dc3139e5a"
   },
   "outputs": [],
   "source": [
    "df = pd.read_csv('DataSets/order_items_dataset.csv')\n",
    "\n",
    "required_columns = {\"shipping_limit_date\", \"price\"}\n",
    "if required_columns.issubset(df.columns):\n",
    "    df[\"shipping_limit_date\"] = pd.to_datetime(df[\"shipping_limit_date\"])\n",
    "    df[\"year_month\"] = df[\"shipping_limit_date\"].dt.to_period(\"M\")\n",
    "    price_trend = df.groupby(\"year_month\")[\"price\"].mean().reset_index()\n",
    "    price_trend[\"year_month\"] = price_trend[\"year_month\"].astype(str)\n",
    "else:\n",
    "    st.error(\"Dataset tidak memiliki kolom yang diperlukan: 'shipping_limit_date' dan 'price'.\")"
   ]
  },
  {
   "cell_type": "code",
   "execution_count": 44,
   "metadata": {},
   "outputs": [
    {
     "data": {
      "image/png": "[encoded data removed]",
      "text/plain": [
       "<Figure size 1200x600 with 1 Axes>"
      ]
     },
     "metadata": {},
     "output_type": "display_data"
    }
   ],
   "source": [
    "plt.figure(figsize=(12, 6))\n",
    "sns.lineplot(data=price_trend, x=\"year_month\", y=\"price\", marker=\"o\", linestyle=\"-\")\n",
    "plt.xlabel(\"Tahun/Bulan\")\n",
    "plt.ylabel(\"Rata-rata Harga Produk\")\n",
    "plt.title(\"Tren Rata-rata Harga Produk Per Bulan\")\n",
    "plt.xticks(rotation=45)\n",
    "plt.grid(True)\n",
    "plt.show()"
   ]
  },
  {
   "cell_type": "markdown",
   "metadata": {
    "id": "XICNKF-t-p2N"
   },
   "source": [
    "Insight : <br>\n",
    "Berdasarkan analisis tren harga produk per bulan, ditemukan bahwa harga mengalami fluktuasi yang menunjukkan pola kenaikan dan penurunan yang tidak selalu konsisten setiap bulan. Namun, secara keseluruhan, harga menunjukkan tren meningkat dalam jangka panjang."
   ]
  },
  {
   "cell_type": "markdown",
   "metadata": {
    "id": "x6-wg-JZf9s4"
   },
   "source": [
    "### Pertanyaan 3: <br>\n",
    "Bagaimana distribusi score ulasan pelanggan, dan apa yang dapat disimpulkan tentang tingkat kepuasan keseluruhan?"
   ]
  },
  {
   "cell_type": "code",
   "execution_count": 45,
   "metadata": {
    "colab": {
     "base_uri": "https://localhost:8080/",
     "height": 272
    },
    "executionInfo": {
     "elapsed": 148,
     "status": "ok",
     "timestamp": 1732692207082,
     "user": {
      "displayName": "ACHMAD RIZQI RAMADHAN",
      "userId": "11285369809196046296"
     },
     "user_tz": -420
    },
    "id": "KHEx0Hv2f7Nd",
    "outputId": "b059db36-a43a-4900-a01c-4eadbbcd8c07"
   },
   "outputs": [
    {
     "data": {
      "text/plain": [
       "review_score\n",
       "5    57328\n",
       "4    19142\n",
       "3     8179\n",
       "2     3151\n",
       "1    11424\n",
       "Name: count, dtype: int64"
      ]
     },
     "execution_count": 45,
     "metadata": {},
     "output_type": "execute_result"
    }
   ],
   "source": [
    "# grouping berdasarkan review_score\n",
    "df_review_score = df_review.groupby('review_score')['review_id'].count().sort_index(ascending=False)\n",
    "df_review_score = df_review_score.rename('count')\n",
    "df_review_score"
   ]
  },
  {
   "cell_type": "code",
   "execution_count": 46,
   "metadata": {
    "colab": {
     "base_uri": "https://localhost:8080/",
     "height": 675
    },
    "executionInfo": {
     "elapsed": 147,
     "status": "ok",
     "timestamp": 1732692207082,
     "user": {
      "displayName": "ACHMAD RIZQI RAMADHAN",
      "userId": "11285369809196046296"
     },
     "user_tz": -420
    },
    "id": "p41FtVXWo4ts",
    "outputId": "56d96250-022c-40df-81c2-6fa2731b2455"
   },
   "outputs": [
    {
     "data": {
      "image/png": "[encoded data removed]",
      "text/plain": [
       "<Figure size 800x800 with 1 Axes>"
      ]
     },
     "metadata": {},
     "output_type": "display_data"
    }
   ],
   "source": [
    "# Membuat pie chart\n",
    "plt.figure(figsize=(8, 8))\n",
    "plt.pie(\n",
    "    df_review_score,\n",
    "    labels=df_review_score.index,\n",
    "    autopct='%1.1f%%',\n",
    "    explode = (0.1, 0, 0, 0, 0),\n",
    ")\n",
    "plt.title('Distribusi Score Ulasan')\n",
    "plt.legend()\n",
    "plt.show()"
   ]
  },
  {
   "cell_type": "markdown",
   "metadata": {
    "id": "1y40GCL-w2VV"
   },
   "source": [
    "Insight : <br>\n",
    "Sebagian besar pelanggan (57.8%) menyatakan kepuasan yang tinggi terhadap produk yang dibeli, dibuktikan dengan pemberian skor review tertinggi (5) pada pie chart distribusi skor."
   ]
  },
  {
   "cell_type": "markdown",
   "metadata": {
    "id": "cC95LV71pMzL"
   },
   "source": [
    "### Pertanyaan 4:\n",
    "Bagaimana distribusi Status Pesanan, berapa persentase order dengan status delivered ?"
   ]
  },
  {
   "cell_type": "code",
   "execution_count": 47,
   "metadata": {
    "colab": {
     "base_uri": "https://localhost:8080/",
     "height": 564
    },
    "executionInfo": {
     "elapsed": 146,
     "status": "ok",
     "timestamp": 1732692207082,
     "user": {
      "displayName": "ACHMAD RIZQI RAMADHAN",
      "userId": "11285369809196046296"
     },
     "user_tz": -420
    },
    "id": "oH6WqD77pLkC",
    "outputId": "579efc9f-4d39-41de-bd8e-074754cc0fde"
   },
   "outputs": [
    {
     "data": {
      "image/png": "[encoded data removed]",
      "text/plain": [
       "<Figure size 1000x600 with 1 Axes>"
      ]
     },
     "metadata": {},
     "output_type": "display_data"
    }
   ],
   "source": [
    "# Membuat diagram batang dengan df_order_status\n",
    "plt.figure(figsize=(10, 6))\n",
    "plt.bar(\n",
    "  df_order_status['order_status'],\n",
    "  df_order_status['count']\n",
    ")\n",
    "plt.title('Status Order')\n",
    "plt.xlabel('Status')\n",
    "plt.ylabel('Jumlah')\n",
    "plt.show()"
   ]
  },
  {
   "cell_type": "code",
   "execution_count": 48,
   "metadata": {
    "colab": {
     "base_uri": "https://localhost:8080/",
     "height": 300
    },
    "executionInfo": {
     "elapsed": 144,
     "status": "ok",
     "timestamp": 1732692207082,
     "user": {
      "displayName": "ACHMAD RIZQI RAMADHAN",
      "userId": "11285369809196046296"
     },
     "user_tz": -420
    },
    "id": "grIzsY-0jQtu",
    "outputId": "b5cc2868-6af0-4f7c-e824-0f178bcd32a6"
   },
   "outputs": [
    {
     "data": {
      "text/html": [
       "<div>\n",
       "<style scoped>\n",
       "    .dataframe tbody tr th:only-of-type {\n",
       "        vertical-align: middle;\n",
       "    }\n",
       "\n",
       "    .dataframe tbody tr th {\n",
       "        vertical-align: top;\n",
       "    }\n",
       "\n",
       "    .dataframe thead th {\n",
       "        text-align: right;\n",
       "    }\n",
       "</style>\n",
       "<table border=\"1\" class=\"dataframe\">\n",
       "  <thead>\n",
       "    <tr style=\"text-align: right;\">\n",
       "      <th></th>\n",
       "      <th>order_status</th>\n",
       "      <th>count</th>\n",
       "      <th>persentase</th>\n",
       "    </tr>\n",
       "  </thead>\n",
       "  <tbody>\n",
       "    <tr>\n",
       "      <th>0</th>\n",
       "      <td>delivered</td>\n",
       "      <td>96478</td>\n",
       "      <td>97.020344</td>\n",
       "    </tr>\n",
       "    <tr>\n",
       "      <th>1</th>\n",
       "      <td>shipped</td>\n",
       "      <td>1107</td>\n",
       "      <td>1.113223</td>\n",
       "    </tr>\n",
       "    <tr>\n",
       "      <th>2</th>\n",
       "      <td>canceled</td>\n",
       "      <td>625</td>\n",
       "      <td>0.628513</td>\n",
       "    </tr>\n",
       "    <tr>\n",
       "      <th>3</th>\n",
       "      <td>unavailable</td>\n",
       "      <td>609</td>\n",
       "      <td>0.612423</td>\n",
       "    </tr>\n",
       "    <tr>\n",
       "      <th>4</th>\n",
       "      <td>invoiced</td>\n",
       "      <td>314</td>\n",
       "      <td>0.315765</td>\n",
       "    </tr>\n",
       "    <tr>\n",
       "      <th>5</th>\n",
       "      <td>processing</td>\n",
       "      <td>301</td>\n",
       "      <td>0.302692</td>\n",
       "    </tr>\n",
       "    <tr>\n",
       "      <th>6</th>\n",
       "      <td>created</td>\n",
       "      <td>5</td>\n",
       "      <td>0.005028</td>\n",
       "    </tr>\n",
       "    <tr>\n",
       "      <th>7</th>\n",
       "      <td>approved</td>\n",
       "      <td>2</td>\n",
       "      <td>0.002011</td>\n",
       "    </tr>\n",
       "  </tbody>\n",
       "</table>\n",
       "</div>"
      ],
      "text/plain": [
       "  order_status  count  persentase\n",
       "0    delivered  96478   97.020344\n",
       "1      shipped   1107    1.113223\n",
       "2     canceled    625    0.628513\n",
       "3  unavailable    609    0.612423\n",
       "4     invoiced    314    0.315765\n",
       "5   processing    301    0.302692\n",
       "6      created      5    0.005028\n",
       "7     approved      2    0.002011"
      ]
     },
     "execution_count": 48,
     "metadata": {},
     "output_type": "execute_result"
    }
   ],
   "source": [
    "# Mencari persentase setiap status order dalam satu list\n",
    "df_order_status['persentase'] = df_order_status['count'] / df_order_status['count'].sum() * 100\n",
    "df_order_status"
   ]
  },
  {
   "cell_type": "markdown",
   "metadata": {
    "id": "IVIrApp7jQId"
   },
   "source": [
    "Insight : <br>\n",
    "Sebagian besar pesanan (97,02%) berstatus 'delivered', dengan total 96.478 pesanan. Hal ini menunjukkan tingkat pemenuhan pesanan yang tinggi. Sebaliknya, status 'approved' mewakili sebagian kecil yang dapat diabaikan (0,002%), dengan hanya 2 pesanan yang termasuk dalam kategori ini. Hal ini menunjukkan bahwa pesanan biasanya bertransisi dengan cepat dari persetujuan ke tahap pemrosesan lebih lanjut.\""
   ]
  },
  {
   "cell_type": "markdown",
   "metadata": {
    "id": "0niHjYYz01zV"
   },
   "source": [
    "### Pertanyaan 5: <br>\n",
    "Pelanggan mana yang melakukan pembelian berulang, dan apakah pola ini menunjukkan loyalitas pelanggan di negara bagian tertentu ?"
   ]
  },
  {
   "cell_type": "code",
   "execution_count": 49,
   "metadata": {
    "colab": {
     "base_uri": "https://localhost:8080/",
     "height": 429
    },
    "executionInfo": {
     "elapsed": 143,
     "status": "ok",
     "timestamp": 1732692207082,
     "user": {
      "displayName": "ACHMAD RIZQI RAMADHAN",
      "userId": "11285369809196046296"
     },
     "user_tz": -420
    },
    "id": "GZsGxNZ81Dqd",
    "outputId": "96467c06-bbc7-49b9-a3be-80f6591256a0"
   },
   "outputs": [
    {
     "data": {
      "text/plain": [
       "customer_unique_id\n",
       "8d50f5eadf50201ccdcedfb9e2ac8455    17\n",
       "3e43e6105506432c953e165fb2acf44c     9\n",
       "6469f99c1f9dfae7733b25662e7f1782     7\n",
       "ca77025e7201e3b30c44b472ff346268     7\n",
       "1b6c7548a2a1f9037c1fd3ddfed95f33     7\n",
       "12f5d6e1cbf93dafd9dcc19095df0b3d     6\n",
       "de34b16117594161a6a89c50b289d35a     6\n",
       "63cfc61cee11cbe306bff5857d00bfe4     6\n",
       "f0e310a6839dce9de1638e0fe5ab282a     6\n",
       "47c1a3033b8b77b3ab6e109eb4d5fdf3     6\n",
       "Name: count, dtype: int64"
      ]
     },
     "execution_count": 49,
     "metadata": {},
     "output_type": "execute_result"
    }
   ],
   "source": [
    "# Mendapatkan 10 id unik customer dengan jumlah pembelian terbanyak\n",
    "df_customer_order = df_customer.groupby('customer_unique_id')['customer_id'].count().sort_values(ascending=False).head(10)\n",
    "df_customer_order = df_customer_order.rename('count')\n",
    "df_customer_order"
   ]
  },
  {
   "cell_type": "code",
   "execution_count": 50,
   "metadata": {
    "colab": {
     "base_uri": "https://localhost:8080/",
     "height": 550
    },
    "executionInfo": {
     "elapsed": 143,
     "status": "ok",
     "timestamp": 1732692207083,
     "user": {
      "displayName": "ACHMAD RIZQI RAMADHAN",
      "userId": "11285369809196046296"
     },
     "user_tz": -420
    },
    "id": "BFcEZpxR5ubN",
    "outputId": "d1bc9043-51c2-41ce-b7e0-27f686d6f282"
   },
   "outputs": [
    {
     "name": "stdout",
     "output_type": "stream",
     "text": [
      "customer_state\n",
      "SP    5\n",
      "PE    1\n",
      "MG    1\n",
      "PR    1\n",
      "RJ    1\n",
      "ES    1\n",
      "Name: count, dtype: int64\n",
      "\n"
     ]
    },
    {
     "data": {
      "text/html": [
       "<div>\n",
       "<style scoped>\n",
       "    .dataframe tbody tr th:only-of-type {\n",
       "        vertical-align: middle;\n",
       "    }\n",
       "\n",
       "    .dataframe tbody tr th {\n",
       "        vertical-align: top;\n",
       "    }\n",
       "\n",
       "    .dataframe thead th {\n",
       "        text-align: right;\n",
       "    }\n",
       "</style>\n",
       "<table border=\"1\" class=\"dataframe\">\n",
       "  <thead>\n",
       "    <tr style=\"text-align: right;\">\n",
       "      <th></th>\n",
       "      <th>customer_state</th>\n",
       "    </tr>\n",
       "    <tr>\n",
       "      <th>customer_unique_id</th>\n",
       "      <th></th>\n",
       "    </tr>\n",
       "  </thead>\n",
       "  <tbody>\n",
       "    <tr>\n",
       "      <th>8d50f5eadf50201ccdcedfb9e2ac8455</th>\n",
       "      <td>SP</td>\n",
       "    </tr>\n",
       "    <tr>\n",
       "      <th>3e43e6105506432c953e165fb2acf44c</th>\n",
       "      <td>SP</td>\n",
       "    </tr>\n",
       "    <tr>\n",
       "      <th>6469f99c1f9dfae7733b25662e7f1782</th>\n",
       "      <td>SP</td>\n",
       "    </tr>\n",
       "    <tr>\n",
       "      <th>ca77025e7201e3b30c44b472ff346268</th>\n",
       "      <td>PE</td>\n",
       "    </tr>\n",
       "    <tr>\n",
       "      <th>1b6c7548a2a1f9037c1fd3ddfed95f33</th>\n",
       "      <td>MG</td>\n",
       "    </tr>\n",
       "    <tr>\n",
       "      <th>12f5d6e1cbf93dafd9dcc19095df0b3d</th>\n",
       "      <td>PR</td>\n",
       "    </tr>\n",
       "    <tr>\n",
       "      <th>de34b16117594161a6a89c50b289d35a</th>\n",
       "      <td>SP</td>\n",
       "    </tr>\n",
       "    <tr>\n",
       "      <th>63cfc61cee11cbe306bff5857d00bfe4</th>\n",
       "      <td>RJ</td>\n",
       "    </tr>\n",
       "    <tr>\n",
       "      <th>f0e310a6839dce9de1638e0fe5ab282a</th>\n",
       "      <td>ES</td>\n",
       "    </tr>\n",
       "    <tr>\n",
       "      <th>47c1a3033b8b77b3ab6e109eb4d5fdf3</th>\n",
       "      <td>SP</td>\n",
       "    </tr>\n",
       "  </tbody>\n",
       "</table>\n",
       "</div>"
      ],
      "text/plain": [
       "                                 customer_state\n",
       "customer_unique_id                             \n",
       "8d50f5eadf50201ccdcedfb9e2ac8455             SP\n",
       "3e43e6105506432c953e165fb2acf44c             SP\n",
       "6469f99c1f9dfae7733b25662e7f1782             SP\n",
       "ca77025e7201e3b30c44b472ff346268             PE\n",
       "1b6c7548a2a1f9037c1fd3ddfed95f33             MG\n",
       "12f5d6e1cbf93dafd9dcc19095df0b3d             PR\n",
       "de34b16117594161a6a89c50b289d35a             SP\n",
       "63cfc61cee11cbe306bff5857d00bfe4             RJ\n",
       "f0e310a6839dce9de1638e0fe5ab282a             ES\n",
       "47c1a3033b8b77b3ab6e109eb4d5fdf3             SP"
      ]
     },
     "execution_count": 50,
     "metadata": {},
     "output_type": "execute_result"
    }
   ],
   "source": [
    "# Menyimpan index top 10 customer dengan pembelian terbanyak\n",
    "top_10_unique_ids = df_customer_order.sort_values(ascending=False).head(10).index\n",
    "\n",
    "# Mendapatkan states dimana 10 customer tersebut berasal\n",
    "top_10_states = df_customer[df_customer['customer_unique_id'].isin(top_10_unique_ids)][['customer_unique_id','customer_state']].drop_duplicates().reset_index(drop=True)\n",
    "top_10_states.set_index('customer_unique_id', inplace=True)\n",
    "top_10_states = top_10_states.reindex(df_customer_order.index) # Mengubah urutan index agar sama dengan df_customer_order\n",
    "\n",
    "# Menampilkan\n",
    "print(top_10_states['customer_state'].value_counts())\n",
    "print()\n",
    "top_10_states"
   ]
  },
  {
   "cell_type": "code",
   "execution_count": 51,
   "metadata": {
    "colab": {
     "base_uri": "https://localhost:8080/",
     "height": 564
    },
    "executionInfo": {
     "elapsed": 138,
     "status": "ok",
     "timestamp": 1732692207083,
     "user": {
      "displayName": "ACHMAD RIZQI RAMADHAN",
      "userId": "11285369809196046296"
     },
     "user_tz": -420
    },
    "id": "sKGrVRZ1krgQ",
    "outputId": "84a2c56f-13b5-4b90-dc0c-912a226ce658"
   },
   "outputs": [
    {
     "data": {
      "image/png": "[encoded data removed]",
      "text/plain": [
       "<Figure size 1000x600 with 1 Axes>"
      ]
     },
     "metadata": {},
     "output_type": "display_data"
    }
   ],
   "source": [
    "# Deklarasi untuk warna\n",
    "state_colors = {\n",
    "    'SP': 'red',\n",
    "    'MG': 'green',\n",
    "    'RJ': 'blue',\n",
    "    'ES': 'orange',\n",
    "    'PE': 'yellow',\n",
    "    'PR': 'purple'\n",
    "}\n",
    "\n",
    "customer_colors = [state_colors.get(state) for state in top_10_states['customer_state']]\n",
    "legend_handles = [mpatches.Patch(color=color, label=state) for state, color in state_colors.items()]\n",
    "\n",
    "# Membuat diagram batang horizontal\n",
    "plt.figure(figsize=(10, 6))\n",
    "plt.barh(\n",
    "    top_10_unique_ids,\n",
    "    df_customer_order.values,\n",
    "    color=customer_colors[:10]\n",
    ")\n",
    "plt.title('Jumlah Pembelian per Customer')\n",
    "plt.xlabel('Jumlah Pembelian')\n",
    "plt.ylabel('Customer ID')\n",
    "plt.legend(handles=legend_handles, title='States')\n",
    "plt.show()"
   ]
  },
  {
   "cell_type": "markdown",
   "metadata": {
    "id": "skufuBQckhRb"
   },
   "source": [
    "Insight : <br>\n",
    "Loyalitas pelanggan terlihat jelas di Sao Paulo, dengan sebagian besar pembeli yang sering bertransaksi berasal dari negara bagian ini. Terutama, pelanggan dengan total pembelian tertinggi (17 pembelian) berasal dari Sao Paulo. Selain itu, 4 dari 10 pelanggan teratas dengan pembelian terbanyak juga berlokasi di Sao Paulo. Konsentrasi pelanggan tetap di Sao Paulo ini menunjukkan basis pelanggan yang kuat dan potensi loyalitas merek di wilayah tersebut."
   ]
  },
  {
   "cell_type": "markdown",
   "metadata": {
    "id": "IOjtiP6gM2lD"
   },
   "source": [
    "### Pertanyaan 6: <br>\n",
    "Berapa proporsi ulasan positif, negatif, dan netral dari total ulasan?"
   ]
  },
  {
   "cell_type": "code",
   "execution_count": 53,
   "metadata": {
    "colab": {
     "base_uri": "https://localhost:8080/"
    },
    "executionInfo": {
     "elapsed": 136,
     "status": "ok",
     "timestamp": 1732692207083,
     "user": {
      "displayName": "ACHMAD RIZQI RAMADHAN",
      "userId": "11285369809196046296"
     },
     "user_tz": -420
    },
    "id": "IwPV0JjdNHqY",
    "outputId": "7438e6b7-54ce-4a64-d0be-3ea10b087279"
   },
   "outputs": [
    {
     "name": "stdout",
     "output_type": "stream",
     "text": [
      "Ulasan Positif:\n",
      "15     Vendedor confiável, produto ok e entrega antes...\n",
      "32     Sempre compro pela Internet e a entrega ocorre...\n",
      "38     Tô completamente apaixonada, loja super respon...\n",
      "90                                         Super rápido.\n",
      "108                                         OK RECOMENDO\n",
      "Name: review_comment_message, dtype: object\n",
      "\n",
      "Ulasan Negatif:\n",
      "459     Houve alguma confusão entre vendedor e o stark...\n",
      "555                       Nem ratrear estou conseguindo:(\n",
      "570     prazo foi estendido,porém entregue no prazo di...\n",
      "929     Na propaganda está escrito Mixer elétrico e ve...\n",
      "1017    Loja sem vergonha. Não entregaram o pedido e t...\n",
      "Name: review_comment_message, dtype: object\n",
      "\n",
      "Proporsi ulasan positif: 3.07%\n",
      "Proporsi ulasan negatif: 0.46%\n",
      "Proporsi ulasan netral: 96.47%\n"
     ]
    }
   ],
   "source": [
    "from textblob import TextBlob\n",
    "# Tambahkan kolom baru 'sentiment' untuk menyimpan hasil analisis sentimen\n",
    "df_review['sentiment'] = df_review['review_comment_message'].apply(lambda text: TextBlob(text).sentiment.polarity)\n",
    "\n",
    "# Klasifikasikan ulasan berdasarkan nilai polarity\n",
    "df_review['sentiment_category'] = df_review['sentiment'].apply(lambda polarity:\n",
    "                                                                'positif' if polarity > 0\n",
    "                                                                else ('negatif' if polarity < 0\n",
    "                                                                        else 'netral'))\n",
    "\n",
    "# Tampilkan ulasan positif\n",
    "print(\"Ulasan Positif:\")\n",
    "print(df_review[df_review['sentiment_category'] == 'positif']['review_comment_message'].head())  # Menampilkan 5 ulasan positif teratas\n",
    "\n",
    "# Tampilkan ulasan negatif\n",
    "print(\"\\nUlasan Negatif:\")\n",
    "print(df_review[df_review['sentiment_category'] == 'negatif']['review_comment_message'].head())  # Menampilkan 5 ulasan negatif teratas\n",
    "\n",
    "total_reviews = len(df_review)\n",
    "positive_reviews = len(df_review[df_review['sentiment_category'] == 'positif'])\n",
    "negative_reviews = len(df_review[df_review['sentiment_category'] == 'negatif'])\n",
    "neutral_reviews = len(df_review[df_review['sentiment_category'] == 'netral'])\n",
    "\n",
    "print()\n",
    "print(f\"Proporsi ulasan positif: {positive_reviews / total_reviews:.2%}\")\n",
    "print(f\"Proporsi ulasan negatif: {negative_reviews / total_reviews:.2%}\")\n",
    "print(f\"Proporsi ulasan netral: {neutral_reviews / total_reviews:.2%}\")"
   ]
  },
  {
   "cell_type": "code",
   "execution_count": 54,
   "metadata": {
    "colab": {
     "base_uri": "https://localhost:8080/",
     "height": 675
    },
    "executionInfo": {
     "elapsed": 128,
     "status": "ok",
     "timestamp": 1732692207084,
     "user": {
      "displayName": "ACHMAD RIZQI RAMADHAN",
      "userId": "11285369809196046296"
     },
     "user_tz": -420
    },
    "id": "qSgFLdOSOmOM",
    "outputId": "8df8f520-2d99-4616-c074-e5736963bfd0"
   },
   "outputs": [
    {
     "data": {
      "image/png": "[encoded data removed]",
      "text/plain": [
       "<Figure size 800x800 with 1 Axes>"
      ]
     },
     "metadata": {},
     "output_type": "display_data"
    }
   ],
   "source": [
    "# Plotting pie chart\n",
    "labels = ['Positif', 'Negatif', 'Netral']\n",
    "sizes = [positive_reviews, negative_reviews, neutral_reviews]\n",
    "colors = ['green', 'red', 'yellow']\n",
    "\n",
    "plt.figure(figsize=(8, 8))\n",
    "plt.pie(\n",
    "  sizes,\n",
    "  labels=labels,\n",
    "  colors=colors,\n",
    "  explode = (0,0,0.1),\n",
    "  autopct='%1.1f%%'\n",
    ")\n",
    "\n",
    "plt.title('Proporsi Ulasan')\n",
    "plt.axis('equal')\n",
    "plt.legend()\n",
    "plt.show()"
   ]
  },
  {
   "cell_type": "markdown",
   "metadata": {
    "id": "3N35_CLWJwuy"
   },
   "source": [
    "Insight : <br>\n",
    "Sebagian besar ulasan (96.47%) bersifat netral. Ini menunjukkan bahwa mayoritas pelanggan tidak memberikan komentar atau umpan balik yang ekspresif, baik positif maupun negatif. Kemungkinan besar, mereka puas dengan produk atau layanan, tetapi tidak merasa perlu untuk memberikan pujian secara khusus."
   ]
  },
  {
   "cell_type": "markdown",
   "metadata": {
    "id": "HXuHr1lSZh0P"
   },
   "source": [
    "- Conclusion pertanyaan 1 <br>\n",
    "Analisis heatmap menunjukkan bahwa fokus utama pasar berada di wilayah tenggara Brasil, dengan konsentrasi pembeli tertinggi di Sao Paulo dan Rio de Janeiro. Namun, adanya pelanggan dari Portugal, Mexico, dan Filipina mengindikasikan potensi pasar internasional yang signifikan.\n",
    "\n",
    "- Conclusion Pertanyaan 2 <br>\n",
    "Secara keseluruhan, analisis tren harga per bulan menunjukkan adanya fluktuasi dengan pola kenaikan dan penurunan yang tidak selalu konsisten. Namun, dalam jangka panjang, harga cenderung mengalami peningkatan, mengindikasikan adanya tren naik secara keseluruhan.\n",
    "\n",
    "- Conclusion Pertanyaan 3 <br>\n",
    "Secara keseluruhan, dapat disimpulkan bahwa produk yang dijual memiliki tingkat kepuasan pelanggan yang tinggi. Hal ini ditunjukkan dengan dominasi skor review 5 yang diberikan oleh mayoritas pelanggan (57.8%). Tingkat kepuasan ini mengindikasikan keberhasilan produk dalam memenuhi harapan dan kebutuhan pelanggan, serta berpotensi meningkatkan loyalitas dan brand image positif.\"\n",
    "\n",
    "- Conclusion Pertanyaan 4 <br>\n",
    "Tingkat pemenuhan pesanan yang tinggi, mencapai 97,02%, menunjukkan efisiensi dan keandalan sistem operasional dalam memproses dan mengirimkan pesanan. Transisi cepat dari status 'approved' ke tahap selanjutnya juga mencerminkan proses yang lancar dan minim hambatan.\n",
    "\n",
    "- Conclusion Pertanyaan 5 <br>\n",
    "Tingginya frekuensi pembelian dan konsentrasi pelanggan tetap di Sao Paulo menunjukkan loyalitas yang kuat. Hal ini dapat disebabkan oleh beberapa faktor seperti kepuasan pelanggan terhadap produk atau layanan, pengalaman berbelanja yang positif, program loyalitas yang efektif, atau faktor lainnya yang membuat pelanggan di Sao Paulo cenderung untuk berbelanja berulang kali.\n",
    "\n",
    "- Conclusion Pertanyaan 6 <br>\n",
    "Tingginya proporsi ulasan netral (96.47%) mengindikasikan bahwa mayoritas pelanggan memiliki pengalaman berbelanja yang cukup memuaskan. Mereka mungkin puas dengan produk atau layanan yang diterima, tetapi tidak memiliki dorongan yang kuat untuk memberikan pujian atau kritik secara eksplisit.\n"
   ]
  }
 ],
 "metadata": {
  "colab": {
   "collapsed_sections": [
    "nUzaw6bRq2DP",
    "F3SuNeoXZM_K",
    "yqXDHhjfrUPn"
   ],
   "provenance": []
  },
  "kernelspec": {
   "display_name": "Python 3 (ipykernel)",
   "language": "python",
   "name": "python3"
  },
  "language_info": {
   "codemirror_mode": {
    "name": "ipython",
    "version": 3
   },
   "file_extension": ".py",
   "mimetype": "text/x-python",
   "name": "python",
   "nbconvert_exporter": "python",
   "pygments_lexer": "ipython3",
   "version": "3.11.5"
  },
  "vscode": {
   "interpreter": {
    "hash": "972b3bf27e332e87b5379f2791f6ef9dfc79c71018c370b0d7423235e20fe4d7"
   }
  }
 },
 "nbformat": 4,
 "nbformat_minor": 4
}
